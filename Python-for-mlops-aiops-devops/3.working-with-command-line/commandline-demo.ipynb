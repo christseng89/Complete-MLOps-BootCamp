{
 "cells": [
  {
   "cell_type": "markdown",
   "id": "5e2b7419-75aa-4cf4-995a-9bd40ac24595",
   "metadata": {},
   "source": [
    "# Sys"
   ]
  },
  {
   "cell_type": "code",
   "execution_count": 1,
   "id": "fe4abd4a-a317-4f13-b788-c9c6e05d0a6f",
   "metadata": {},
   "outputs": [],
   "source": [
    "import sys"
   ]
  },
  {
   "cell_type": "code",
   "execution_count": 2,
   "id": "ebc33830-97c5-42ae-9231-194c4f3baa89",
   "metadata": {},
   "outputs": [
    {
     "data": {
      "text/plain": [
       "'little'"
      ]
     },
     "execution_count": 2,
     "metadata": {},
     "output_type": "execute_result"
    }
   ],
   "source": [
    "sys.byteorder # byte order"
   ]
  },
  {
   "cell_type": "code",
   "execution_count": 3,
   "id": "d8f88ebb-eccb-4344-a771-effa6969c1f6",
   "metadata": {},
   "outputs": [
    {
     "data": {
      "text/plain": [
       "88"
      ]
     },
     "execution_count": 3,
     "metadata": {},
     "output_type": "execute_result"
    }
   ],
   "source": [
    "x = [1,23,4]\n",
    "sys.getsizeof(x) # bytes"
   ]
  },
  {
   "cell_type": "code",
   "execution_count": 4,
   "id": "d7298751-ce77-4aaa-b0eb-403321d0107b",
   "metadata": {},
   "outputs": [
    {
     "data": {
      "text/plain": [
       "'darwin'"
      ]
     },
     "execution_count": 4,
     "metadata": {},
     "output_type": "execute_result"
    }
   ],
   "source": [
    "sys.platform"
   ]
  },
  {
   "cell_type": "code",
   "execution_count": 5,
   "id": "c67be189-096a-466a-bfaa-f0fdfb4fd041",
   "metadata": {},
   "outputs": [
    {
     "data": {
      "text/plain": [
       "sys.version_info(major=3, minor=11, micro=7, releaselevel='final', serial=0)"
      ]
     },
     "execution_count": 5,
     "metadata": {},
     "output_type": "execute_result"
    }
   ],
   "source": [
    "sys.version_info"
   ]
  },
  {
   "cell_type": "code",
   "execution_count": 7,
   "id": "1d44a503-e462-42a2-95a9-3a1335057345",
   "metadata": {},
   "outputs": [
    {
     "name": "stdout",
     "output_type": "stream",
     "text": [
      "All good\n"
     ]
    }
   ],
   "source": [
    "if sys.version_info.major < 3:\n",
    "    print(\"Old version of code to be executed\")\n",
    "    print(\"warning message : please update python version\")\n",
    "\n",
    "elif sys.version_info.minor < 7:\n",
    "    print(\"You are not running a latest version of python\")\n",
    "else:\n",
    "    print(\"All good\")"
   ]
  },
  {
   "cell_type": "markdown",
   "id": "22047af2-f70f-48e9-8eb5-0b9e2c82e554",
   "metadata": {},
   "source": [
    "# OS"
   ]
  },
  {
   "cell_type": "code",
   "execution_count": 8,
   "id": "781d6613-b9a1-45a6-89a3-7bbb55069f99",
   "metadata": {},
   "outputs": [
    {
     "data": {
      "text/plain": [
       "'/Users/nachikethpro/Desktop/author-repo/python-for-mlops-aiops-devops/3.working-with-command-line'"
      ]
     },
     "execution_count": 8,
     "metadata": {},
     "output_type": "execute_result"
    }
   ],
   "source": [
    "import os\n",
    "os.getcwd()"
   ]
  },
  {
   "cell_type": "code",
   "execution_count": null,
   "id": "b308fb8e-bb46-4654-a1df-e35d727b54da",
   "metadata": {},
   "outputs": [],
   "source": [
    "os.chdir()"
   ]
  },
  {
   "cell_type": "code",
   "execution_count": 10,
   "id": "90ceeb00-4801-40ad-ad2c-93f27c030949",
   "metadata": {},
   "outputs": [],
   "source": [
    "os.environ.get(\"VERBOSE\")"
   ]
  },
  {
   "cell_type": "code",
   "execution_count": 12,
   "id": "962f93d2-d24b-4d35-8d4e-53f8c456663f",
   "metadata": {},
   "outputs": [],
   "source": [
    "os.environ[\"VERBOSE\"] = \"2\""
   ]
  },
  {
   "cell_type": "code",
   "execution_count": 13,
   "id": "bc324d89-faa4-43a3-8a72-8cc4852a5d09",
   "metadata": {},
   "outputs": [
    {
     "data": {
      "text/plain": [
       "'2'"
      ]
     },
     "execution_count": 13,
     "metadata": {},
     "output_type": "execute_result"
    }
   ],
   "source": [
    "os.environ.get(\"VERBOSE\")"
   ]
  },
  {
   "cell_type": "code",
   "execution_count": 14,
   "id": "7bb2c2ec-48ac-4d91-8a51-76f5bbd9f04a",
   "metadata": {},
   "outputs": [
    {
     "data": {
      "text/plain": [
       "'root'"
      ]
     },
     "execution_count": 14,
     "metadata": {},
     "output_type": "execute_result"
    }
   ],
   "source": [
    "os.getlogin()"
   ]
  },
  {
   "cell_type": "markdown",
   "id": "3b87217b-e6df-4aa5-844a-455f367614a7",
   "metadata": {},
   "source": [
    "# subprocess"
   ]
  },
  {
   "cell_type": "code",
   "execution_count": 23,
   "id": "bd993936-1012-4c01-8853-9f861170aaf3",
   "metadata": {},
   "outputs": [],
   "source": [
    "import subprocess"
   ]
  },
  {
   "cell_type": "code",
   "execution_count": 24,
   "id": "d5fae791-c057-4a50-9395-9f588679e362",
   "metadata": {},
   "outputs": [],
   "source": [
    "cp = subprocess.run(['ls','-l'],\n",
    "                    capture_output=True,\n",
    "                    universal_newlines=True)"
   ]
  },
  {
   "cell_type": "code",
   "execution_count": 25,
   "id": "f688a969-2fc0-4de4-8430-4a2e1adf3206",
   "metadata": {},
   "outputs": [
    {
     "data": {
      "text/plain": [
       "'total 24\\n-rw-r--r--  1 nachikethpro  staff  11169 Apr 18 17:26 commandline-demo.ipynb\\n'"
      ]
     },
     "execution_count": 25,
     "metadata": {},
     "output_type": "execute_result"
    }
   ],
   "source": [
    "cp.stdout"
   ]
  },
  {
   "cell_type": "code",
   "execution_count": 26,
   "id": "59f7b754-6183-443d-80c4-433cdbfc72f0",
   "metadata": {},
   "outputs": [],
   "source": [
    "cp = subprocess.run(['ls','/demo'],\n",
    "                    capture_output=True,\n",
    "                    universal_newlines=True)"
   ]
  },
  {
   "cell_type": "code",
   "execution_count": 27,
   "id": "4882497b-aea9-4527-b689-611f86559ead",
   "metadata": {},
   "outputs": [
    {
     "data": {
      "text/plain": [
       "'ls: /demo: No such file or directory\\n'"
      ]
     },
     "execution_count": 27,
     "metadata": {},
     "output_type": "execute_result"
    }
   ],
   "source": [
    "cp.stderr"
   ]
  },
  {
   "cell_type": "code",
   "execution_count": 28,
   "id": "0c780c0b-6af2-40ed-b1aa-48f35207fcd4",
   "metadata": {},
   "outputs": [
    {
     "ename": "CalledProcessError",
     "evalue": "Command '['ls', '/demo']' returned non-zero exit status 1.",
     "output_type": "error",
     "traceback": [
      "\u001b[0;31m---------------------------------------------------------------------------\u001b[0m",
      "\u001b[0;31mCalledProcessError\u001b[0m                        Traceback (most recent call last)",
      "Cell \u001b[0;32mIn[28], line 1\u001b[0m\n\u001b[0;32m----> 1\u001b[0m cp \u001b[38;5;241m=\u001b[39m subprocess\u001b[38;5;241m.\u001b[39mrun([\u001b[38;5;124m'\u001b[39m\u001b[38;5;124mls\u001b[39m\u001b[38;5;124m'\u001b[39m,\u001b[38;5;124m'\u001b[39m\u001b[38;5;124m/demo\u001b[39m\u001b[38;5;124m'\u001b[39m],\n\u001b[1;32m      2\u001b[0m                     capture_output\u001b[38;5;241m=\u001b[39m\u001b[38;5;28;01mTrue\u001b[39;00m,\n\u001b[1;32m      3\u001b[0m                     universal_newlines\u001b[38;5;241m=\u001b[39m\u001b[38;5;28;01mTrue\u001b[39;00m,\n\u001b[1;32m      4\u001b[0m                    check\u001b[38;5;241m=\u001b[39m\u001b[38;5;28;01mTrue\u001b[39;00m)\n",
      "File \u001b[0;32m/opt/anaconda3/lib/python3.11/subprocess.py:571\u001b[0m, in \u001b[0;36mrun\u001b[0;34m(input, capture_output, timeout, check, *popenargs, **kwargs)\u001b[0m\n\u001b[1;32m    569\u001b[0m     retcode \u001b[38;5;241m=\u001b[39m process\u001b[38;5;241m.\u001b[39mpoll()\n\u001b[1;32m    570\u001b[0m     \u001b[38;5;28;01mif\u001b[39;00m check \u001b[38;5;129;01mand\u001b[39;00m retcode:\n\u001b[0;32m--> 571\u001b[0m         \u001b[38;5;28;01mraise\u001b[39;00m CalledProcessError(retcode, process\u001b[38;5;241m.\u001b[39margs,\n\u001b[1;32m    572\u001b[0m                                  output\u001b[38;5;241m=\u001b[39mstdout, stderr\u001b[38;5;241m=\u001b[39mstderr)\n\u001b[1;32m    573\u001b[0m \u001b[38;5;28;01mreturn\u001b[39;00m CompletedProcess(process\u001b[38;5;241m.\u001b[39margs, retcode, stdout, stderr)\n",
      "\u001b[0;31mCalledProcessError\u001b[0m: Command '['ls', '/demo']' returned non-zero exit status 1."
     ]
    }
   ],
   "source": [
    "cp = subprocess.run(['ls','/demo'],\n",
    "                    capture_output=True,\n",
    "                    universal_newlines=True,\n",
    "                   check=True)"
   ]
  },
  {
   "cell_type": "markdown",
   "id": "bccddc6f-0923-4d1b-ab68-25f5208a78f4",
   "metadata": {},
   "source": [
    "# Create Command Line Tools"
   ]
  },
  {
   "cell_type": "code",
   "execution_count": 1,
   "id": "86bbfcea-c252-49e6-b1be-2f2f9ed294f7",
   "metadata": {},
   "outputs": [
    {
     "name": "stdout",
     "output_type": "stream",
     "text": [
      "Hello Jack\n"
     ]
    }
   ],
   "source": [
    "# python script_name.py\n",
    "import demo"
   ]
  },
  {
   "cell_type": "code",
   "execution_count": 2,
   "id": "1683a6fe-ce02-44fc-b4e5-c3fe325101b8",
   "metadata": {},
   "outputs": [],
   "source": [
    "import demo"
   ]
  },
  {
   "cell_type": "markdown",
   "id": "9a9c8c41-71ea-46ca-a0b8-731650fcb77f",
   "metadata": {},
   "source": [
    "# Command Line Arguments"
   ]
  },
  {
   "cell_type": "markdown",
   "id": "566ef588-6457-4a47-acf1-2fd133dd9972",
   "metadata": {},
   "source": [
    "## Understanding `sys.argv`\n",
    "\n",
    "* **Purpose:** The `sys.argv` module in Python provides a way to interact with command-line arguments passed to your script. This offers flexibility by allowing you to modify the script's behavior from the command line.\n",
    "\n",
    "* **Mechanism:** `sys.argv` is a list within the `sys` module. This list contains the following elements:\n",
    "    * `sys.argv[0]` : The name of the Python script itself.\n",
    "    * `sys.argv[1]` : The first command-line argument passed to the script.\n",
    "    * `sys.argv[2]` : The second command-line argument, and so on...\n",
    "\n",
    "**Example:**\n",
    "\n",
    "Consider a script called `my_script.py`. If you run it like this:\n",
    "\n",
    "```bash\n",
    "python my_script.py argument1 argument2 \n",
    "```\n",
    "\n",
    "* `sys.argv[0]` would be \"my_script.py\"\n",
    "* `sys.argv[1]` would be \"argument1\"\n",
    "* `sys.argv[2]` would be \"argument2\"\n",
    "\n",
    "  **How to Use `sys.argv`**\n",
    "\n",
    "1. **Import the `sys` module:**\n",
    "\n",
    "   ```python\n",
    "   import sys\n",
    "   ```\n",
    "\n",
    "2. **Access command-line arguments:**\n",
    "\n",
    "   ```python\n",
    "   for i in range(len(sys.argv)):\n",
    "       print(\"Argument\", i, \":\", sys.argv[i])\n",
    "   ```\n",
    "\n",
    "3. **Use the arguments within your code:**\n",
    "\n",
    "   ```python\n",
    "   if len(sys.argv) > 1:\n",
    "       filename = sys.argv[1]\n",
    "       # Process the file specified by the filename\n",
    "   else:\n",
    "       print(\"Please provide a filename.\")\n",
    "   ```\n",
    "\n",
    "**Common Use Cases**\n",
    "\n",
    "* **Specifying input/output files:** Pass filenames as arguments for the script to process.\n",
    "* **Setting configuration parameters:** Control a script's behavior with flags or numerical values.\n",
    "* **Creating custom command-line tools:**  Build small utility scripts that act like shell commands.\n",
    "\n",
    "**Important Notes**\n",
    "\n",
    "* Command-line arguments are always passed as strings. Convert them to other data types if needed (e.g., using `int()` or `float()`).\n",
    "* Consider using more robust argument parsing libraries like `argparse` for complex command-line interfaces.\n"
   ]
  },
  {
   "cell_type": "markdown",
   "id": "26b876ad-5683-482d-9830-ebfb8b3f3af2",
   "metadata": {},
   "source": [
    "## Argparse"
   ]
  },
  {
   "cell_type": "markdown",
   "id": "52cc7828-8eac-442c-9cd0-77ea5d871517",
   "metadata": {},
   "source": [
    "## Understanding the `argparse` Module\n",
    "\n",
    "* **Purpose:** The `argparse` module provides a powerful and user-friendly way to create command-line interfaces (CLIs) for Python scripts. It simplifies the process of defining arguments, automatically handles the parsing of command-line input, and generates helpful usage messages.\n",
    "\n",
    "* **Benefits over `sys.argv`:**\n",
    "    * **Type conversion:** `argparse` can automatically convert arguments to appropriate data types (integers, floats, strings).\n",
    "    * **Optional and positional arguments:**  Supports defining both required (positional) and optional arguments using flags (e.g., `-h` for help).\n",
    "    * **Automatic help and usage:** `argparse` generates clear help messages that explain available arguments and options.\n",
    "    * **Better error handling:** Produces informative error messages when invalid arguments are provided.\n",
    "\n",
    "**Basic Usage**\n",
    "\n",
    "1. **Import the `argparse` module:**\n",
    "\n",
    "   ```python\n",
    "   import argparse\n",
    "   ```\n",
    "\n",
    "2. **Create an argument parser:**\n",
    "\n",
    "   ```python\n",
    "   parser = argparse.ArgumentParser(description=\"Process some data.\")  \n",
    "   ```\n",
    "\n",
    "3. **Add arguments:**\n",
    "\n",
    "   ```python\n",
    "   parser.add_argument('filename', help='The file to process')  # Positional argument\n",
    "   parser.add_argument('-v', '--verbose', action='store_true', help='Increase output verbosity')  # Optional flag \n",
    "   ```\n",
    "\n",
    "4. **Parse the arguments:**\n",
    "\n",
    "   ```python\n",
    "   args = parser.parse_args()\n",
    "   ```\n",
    "\n",
    "5. **Access the parsed arguments:**\n",
    "\n",
    "   ```python\n",
    "   if args.verbose:\n",
    "       print(\"Verbose mode on\")\n",
    "   print(\"Processing file:\", args.filename) \n",
    "   ```\n",
    "\n",
    "**Common Argument Types**\n",
    "\n",
    "* **Positional arguments:** Required arguments specified in their order on the command line.\n",
    "* **Optional arguments:** Specified using flags (e.g., `-o`, `--output`) and can have default values.\n",
    "* **`store_true`** action: For boolean flags; sets the corresponding variable to `True` if the flag is present.\n",
    "* **`choices`**: Restrict an argument to a specific set of values.\n",
    "\n",
    "**Example: Creating a More Complex CLI**\n",
    "\n",
    "```python\n",
    "import argparse\n",
    "\n",
    "parser = argparse.ArgumentParser(description=\"A CLI tool for data manipulation\")\n",
    "parser.add_argument('input_file', help='Path to the input file')\n",
    "parser.add_argument('-o', '--output_file', help='Path to the output file')\n",
    "parser.add_argument('--delimiter', default=',', help='Delimiter to use for separation')\n",
    "\n",
    "args = parser.parse_args()\n",
    "\n",
    "# Use args.input_file, args.output_file, args.delimeter for processing \n",
    "```\n"
   ]
  },
  {
   "cell_type": "markdown",
   "id": "9f67d5db-0a68-4045-9d93-bd97b9631e1e",
   "metadata": {},
   "source": [
    "# Function Decorators in Python\n",
    "\n",
    "* **Purpose:** Decorators provide a way to modify the behavior of functions without explicitly changing their source code. They offer a flexible and elegant approach to adding functionality to existing functions.\n",
    "\n",
    "* **Mechanism:**\n",
    "    1. A decorator is a callable function that takes another function as an argument.\n",
    "    2. It defines an inner function (often called the `wrapper` function), which wraps the original function.\n",
    "    3. The decorator returns the `wrapper` function.\n",
    "\n",
    "* **Syntax:**\n",
    "   ```python\n",
    "   @my_decorator\n",
    "   def my_function(...):\n",
    "       ...\n",
    "   ```\n",
    "\n",
    "   This is equivalent to: \n",
    "   ```python\n",
    "   my_function = my_decorator(my_function)\n",
    "   ```\n",
    "\n",
    "**Example:**\n",
    "\n",
    "```python\n",
    "def logging_decorator(func):\n",
    "    def wrapper(*args, **kwargs):\n",
    "        print(f\"Calling function: {func.__name__}\")\n",
    "        result = func(*args, **kwargs)\n",
    "        print(f\"Function finished with result: {result}\")\n",
    "        return result\n",
    "    return wrapper\n",
    "\n",
    "@logging_decorator\n",
    "def calculate_area(length, width):\n",
    "    return length * width\n",
    "\n",
    "area = calculate_area(5, 3)  \n",
    "```\n",
    "\n",
    "**Common Use Cases**\n",
    "\n",
    "* **Logging:** Add logging statements to track function calls and results.\n",
    "* **Timing:** Measure function execution time.\n",
    "* **Authorization:** Check permissions before executing a function.\n",
    "* **Caching:** Store function results to avoid recalculation.\n",
    "* **Error Handling:** Add standardized error handling logic.\n",
    "\n",
    "**Key Points**\n",
    "\n",
    "* Decorators are applied at the time of function definition, using the `@` symbol.\n",
    "* Decorators can be stacked (applied multiple times to a function).\n",
    "* Decorators can take arguments themselves, enhancing their reusability.\n"
   ]
  },
  {
   "cell_type": "code",
   "execution_count": 1,
   "id": "6b04352a-a2d7-478a-9fce-c324c5aeadce",
   "metadata": {},
   "outputs": [
    {
     "name": "stdout",
     "output_type": "stream",
     "text": [
      "Calling function: calculate_area\n",
      "Function finished with result: 15\n"
     ]
    }
   ],
   "source": [
    "def logging_decorator(func):\n",
    "    def wrapper(*args, **kwargs):\n",
    "        print(f\"Calling function: {func.__name__}\")\n",
    "        result = func(*args, **kwargs)\n",
    "        print(f\"Function finished with result: {result}\")\n",
    "        return result\n",
    "    return wrapper\n",
    "\n",
    "@logging_decorator\n",
    "def calculate_area(length, width):\n",
    "    return length * width\n",
    "\n",
    "area = calculate_area(5, 3) "
   ]
  },
  {
   "cell_type": "code",
   "execution_count": 2,
   "id": "47136f8f-e61a-4b59-8051-7f345c99c3fd",
   "metadata": {},
   "outputs": [],
   "source": [
    "def greeting(func):\n",
    "    def wrapper(*args,**kwargs):\n",
    "        print(\"welcome\")\n",
    "        result = func(*args,**kwargs)\n",
    "        print(\"Thank you for using the decorator function\")\n",
    "        return result\n",
    "    return wrapper\n",
    "\n",
    "\n",
    "@greeting\n",
    "def say_your_name(name):\n",
    "    print(f\"Your name is {name}\")"
   ]
  },
  {
   "cell_type": "code",
   "execution_count": 3,
   "id": "64a35c85-76f7-4d3f-82b1-59629ae3de77",
   "metadata": {},
   "outputs": [
    {
     "name": "stdout",
     "output_type": "stream",
     "text": [
      "welcome\n",
      "Your name is John\n",
      "Thank you for using the decorator function\n"
     ]
    }
   ],
   "source": [
    "say_your_name(\"John\")"
   ]
  },
  {
   "cell_type": "code",
   "execution_count": 4,
   "id": "25ef5550-9bc2-4168-9744-fd225c2ad1bb",
   "metadata": {},
   "outputs": [
    {
     "name": "stdout",
     "output_type": "stream",
     "text": [
      "An error occurred in 'divide_numbers': division by zero\n"
     ]
    }
   ],
   "source": [
    "def error_handling(func):\n",
    "    def wrapper(*args, **kwargs):\n",
    "        try:\n",
    "            result = func(*args, **kwargs)\n",
    "            return result\n",
    "        except Exception as e:\n",
    "            print(f\"An error occurred in '{func.__name__}': {e}\")\n",
    "            # You could also log the error to a file here\n",
    "    return wrapper\n",
    "\n",
    "@error_handling\n",
    "def divide_numbers(a, b):\n",
    "    return a / b\n",
    "\n",
    "divide_numbers(10, 2)  # Works as expected\n",
    "divide_numbers(10, 0)  # Handles ZeroDivisionError gracefully "
   ]
  },
  {
   "cell_type": "markdown",
   "id": "7a9ed88f-a0ae-45ee-8705-c4d8c880f613",
   "metadata": {},
   "source": [
    "# Click Package - Command Line Tools\n",
    "\n",
    "* **Purpose:** Click is a Python library designed to make the creation of beautiful and user-friendly command-line interfaces (CLIs) easier and more enjoyable. It simplifies the process of defining commands, options, and arguments, while also providing features for automatic help generation and input validation.\n",
    "\n",
    "* **Benefits over `argparse`:** While `argparse` is powerful, Click offers:\n",
    "   * **Cleaner syntax:** Click's use of decorators leads to more readable and concise CLI definitions.\n",
    "   * **Nesting of commands:** Easily create complex CLIs with subcommands and groups.\n",
    "   * **Lazy loading:** Defer loading of subcommands until needed, improving performance.\n",
    "\n",
    "**Basic Usage**\n",
    "\n",
    "1. **Install Click:**\n",
    "   ```bash\n",
    "   pip install click\n",
    "   ```\n",
    "\n",
    "2. **Create a basic Click command:**\n",
    "\n",
    "   ```python\n",
    "   import click\n",
    "\n",
    "   @click.command()\n",
    "   def hello():\n",
    "       click.echo(\"Hello, World!\")\n",
    "\n",
    "   if __name__ == '__main__':\n",
    "       hello()  # Call the command\n",
    "   ```\n",
    "\n",
    "3. **Add options (flags):**\n",
    "\n",
    "   ```python\n",
    "   @click.command()\n",
    "   @click.option('--name', default='World', help='The name to greet') \n",
    "   def hello(name):\n",
    "       click.echo(f\"Hello, {name}!\")\n",
    "   ```\n",
    "\n",
    "4. **Add arguments:** \n",
    "\n",
    "   ```python\n",
    "   @click.command()\n",
    "   @click.argument('number', type=int)   \n",
    "   def multiply(number):\n",
    "       result = number * 2\n",
    "       click.echo(result)\n",
    "   ```\n",
    "\n",
    "**Key Features**\n",
    "\n",
    "* **Commands and Subcommands:** Organize your CLI into a hierarchy.\n",
    "* **Options:** Add short and long-form flags (e.g., `-n`, `--name`).\n",
    "* **Arguments:** Define required input values.\n",
    "* **Automatic help generation:** Click produces clear help messages.\n",
    "* **Type Conversion:**  Handles conversion to types like integers, floats, etc.\n",
    "* **Customizability:**  Flexible for complex use cases.\n",
    "\n",
    "**Example: Creating a More Complex CLI**\n",
    "\n",
    "```python\n",
    "import click\n",
    "\n",
    "@click.group()\n",
    "def cli():\n",
    "    pass\n",
    "\n",
    "@cli.command()\n",
    "@click.option('--input_file', help='Path to the input file')\n",
    "def process(input_file):\n",
    "    # ... process the input file\n",
    "\n",
    "@cli.command()\n",
    "def analyze():\n",
    "    # ... perform analysis\n",
    "\n",
    "if __name__ == '__main__':\n",
    "    cli()\n",
    "```\n"
   ]
  },
  {
   "cell_type": "markdown",
   "id": "48c0ae8e-1eeb-46da-a303-8f2ecde8df7f",
   "metadata": {},
   "source": [
    "## Create Complex CLI"
   ]
  },
  {
   "cell_type": "markdown",
   "id": "124fc015-356f-4c96-8318-4c4e16306840",
   "metadata": {},
   "source": [
    "**Understanding Commands and Subcommands in Click**\n",
    "\n",
    "**Commands**\n",
    "\n",
    "* Building blocks of your command-line interface (CLI).\n",
    "* Represent specific user actions. \n",
    "* Created using the `@click.command()` decorator.\n",
    "\n",
    "**Subcommands**\n",
    "\n",
    "* Commands nested within other commands.\n",
    "* Establish hierarchical order\n",
    "* Group closely related functionality \n",
    "* Use the `@click.group()` decorator to create a subcommand group. Commands within this group use `@group_name.command()`.\n",
    "\n",
    "**Benefits of Organization**\n",
    "\n",
    "* **Enhanced User Experience:** Makes your CLI intuitive and simple to navigate.\n",
    "* **Modularity:** Breaks down complex CLIs into reusable elements.\n",
    "* **Scalability:** Seamlessly add new features with subcommands.\n",
    "\n",
    "**Illustrative Example: Ship Management CLI**\n",
    "\n",
    "```python\n",
    "import click\n",
    "\n",
    "@click.group()\n",
    "def cli():\n",
    "    pass\n",
    "\n",
    "@click.group(help=\"Ship related commands\")\n",
    "def ships():\n",
    "    pass\n",
    "\n",
    "cli.add_command(ships)\n",
    "\n",
    "@ships.command(help=\"Sail a ship\")\n",
    "def sail():\n",
    "    print(\"Your ship is setting sail!\")\n",
    "\n",
    "@ships.command(help=\"List all ships\")\n",
    "def list_ships():\n",
    "    ships = [\"John B\", \"Yankee Clipper\", \"Pequod\"]\n",
    "    print(f\"Ships: {', '.join(ships)}\")\n",
    "```\n",
    "\n",
    "**Explanation**\n",
    "\n",
    "*  `cli`: Main command group.\n",
    "*  `ships`: Subcommand group for ship-specific actions.\n",
    "*  `sail` and `list_ships`: Commands inside the `ships` group.\n"
   ]
  },
  {
   "cell_type": "code",
   "execution_count": 5,
   "id": "42f62616-a94b-4ade-9722-8e876758ccaf",
   "metadata": {
    "collapsed": true,
    "jupyter": {
     "outputs_hidden": true
    },
    "scrolled": true
   },
   "outputs": [
    {
     "name": "stderr",
     "output_type": "stream",
     "text": [
      "Usage: ipykernel_launcher.py [OPTIONS] COMMAND [ARGS]...\n",
      "Try 'ipykernel_launcher.py --help' for help.\n",
      "\n",
      "Error: No such option: -f\n"
     ]
    },
    {
     "ename": "AttributeError",
     "evalue": "'tuple' object has no attribute 'tb_frame'",
     "output_type": "error",
     "traceback": [
      "\u001b[0;31m---------------------------------------------------------------------------\u001b[0m",
      "\u001b[0;31mNoSuchOption\u001b[0m                              Traceback (most recent call last)",
      "File \u001b[0;32m/opt/anaconda3/lib/python3.11/site-packages/click/parser.py:514\u001b[0m, in \u001b[0;36mOptionParser._process_opts\u001b[0;34m(self, arg, state)\u001b[0m\n\u001b[1;32m    513\u001b[0m \u001b[38;5;28;01mtry\u001b[39;00m:\n\u001b[0;32m--> 514\u001b[0m     \u001b[38;5;28mself\u001b[39m\u001b[38;5;241m.\u001b[39m_match_long_opt(norm_long_opt, explicit_value, state)\n\u001b[1;32m    515\u001b[0m \u001b[38;5;28;01mexcept\u001b[39;00m NoSuchOption:\n\u001b[1;32m    516\u001b[0m     \u001b[38;5;66;03m# At this point the long option matching failed, and we need\u001b[39;00m\n\u001b[1;32m    517\u001b[0m     \u001b[38;5;66;03m# to try with short options.  However there is a special rule\u001b[39;00m\n\u001b[0;32m   (...)\u001b[0m\n\u001b[1;32m    520\u001b[0m     \u001b[38;5;66;03m# short option code and will instead raise the no option\u001b[39;00m\n\u001b[1;32m    521\u001b[0m     \u001b[38;5;66;03m# error.\u001b[39;00m\n",
      "File \u001b[0;32m/opt/anaconda3/lib/python3.11/site-packages/click/parser.py:398\u001b[0m, in \u001b[0;36mOptionParser._match_long_opt\u001b[0;34m(self, opt, explicit_value, state)\u001b[0m\n\u001b[1;32m    397\u001b[0m     possibilities \u001b[38;5;241m=\u001b[39m get_close_matches(opt, \u001b[38;5;28mself\u001b[39m\u001b[38;5;241m.\u001b[39m_long_opt)\n\u001b[0;32m--> 398\u001b[0m     \u001b[38;5;28;01mraise\u001b[39;00m NoSuchOption(opt, possibilities\u001b[38;5;241m=\u001b[39mpossibilities, ctx\u001b[38;5;241m=\u001b[39m\u001b[38;5;28mself\u001b[39m\u001b[38;5;241m.\u001b[39mctx)\n\u001b[1;32m    400\u001b[0m option \u001b[38;5;241m=\u001b[39m \u001b[38;5;28mself\u001b[39m\u001b[38;5;241m.\u001b[39m_long_opt[opt]\n",
      "\u001b[0;31mNoSuchOption\u001b[0m: No such option: -f",
      "\nDuring handling of the above exception, another exception occurred:\n",
      "\u001b[0;31mNoSuchOption\u001b[0m                              Traceback (most recent call last)",
      "File \u001b[0;32m/opt/anaconda3/lib/python3.11/site-packages/click/core.py:1077\u001b[0m, in \u001b[0;36mBaseCommand.main\u001b[0;34m(self, args, prog_name, complete_var, standalone_mode, windows_expand_args, **extra)\u001b[0m\n\u001b[1;32m   1076\u001b[0m \u001b[38;5;28;01mtry\u001b[39;00m:\n\u001b[0;32m-> 1077\u001b[0m     \u001b[38;5;28;01mwith\u001b[39;00m \u001b[38;5;28mself\u001b[39m\u001b[38;5;241m.\u001b[39mmake_context(prog_name, args, \u001b[38;5;241m*\u001b[39m\u001b[38;5;241m*\u001b[39mextra) \u001b[38;5;28;01mas\u001b[39;00m ctx:\n\u001b[1;32m   1078\u001b[0m         rv \u001b[38;5;241m=\u001b[39m \u001b[38;5;28mself\u001b[39m\u001b[38;5;241m.\u001b[39minvoke(ctx)\n",
      "File \u001b[0;32m/opt/anaconda3/lib/python3.11/site-packages/click/core.py:943\u001b[0m, in \u001b[0;36mBaseCommand.make_context\u001b[0;34m(self, info_name, args, parent, **extra)\u001b[0m\n\u001b[1;32m    942\u001b[0m \u001b[38;5;28;01mwith\u001b[39;00m ctx\u001b[38;5;241m.\u001b[39mscope(cleanup\u001b[38;5;241m=\u001b[39m\u001b[38;5;28;01mFalse\u001b[39;00m):\n\u001b[0;32m--> 943\u001b[0m     \u001b[38;5;28mself\u001b[39m\u001b[38;5;241m.\u001b[39mparse_args(ctx, args)\n\u001b[1;32m    944\u001b[0m \u001b[38;5;28;01mreturn\u001b[39;00m ctx\n",
      "File \u001b[0;32m/opt/anaconda3/lib/python3.11/site-packages/click/core.py:1644\u001b[0m, in \u001b[0;36mMultiCommand.parse_args\u001b[0;34m(self, ctx, args)\u001b[0m\n\u001b[1;32m   1642\u001b[0m     ctx\u001b[38;5;241m.\u001b[39mexit()\n\u001b[0;32m-> 1644\u001b[0m rest \u001b[38;5;241m=\u001b[39m \u001b[38;5;28msuper\u001b[39m()\u001b[38;5;241m.\u001b[39mparse_args(ctx, args)\n\u001b[1;32m   1646\u001b[0m \u001b[38;5;28;01mif\u001b[39;00m \u001b[38;5;28mself\u001b[39m\u001b[38;5;241m.\u001b[39mchain:\n",
      "File \u001b[0;32m/opt/anaconda3/lib/python3.11/site-packages/click/core.py:1405\u001b[0m, in \u001b[0;36mCommand.parse_args\u001b[0;34m(self, ctx, args)\u001b[0m\n\u001b[1;32m   1404\u001b[0m parser \u001b[38;5;241m=\u001b[39m \u001b[38;5;28mself\u001b[39m\u001b[38;5;241m.\u001b[39mmake_parser(ctx)\n\u001b[0;32m-> 1405\u001b[0m opts, args, param_order \u001b[38;5;241m=\u001b[39m parser\u001b[38;5;241m.\u001b[39mparse_args(args\u001b[38;5;241m=\u001b[39margs)\n\u001b[1;32m   1407\u001b[0m \u001b[38;5;28;01mfor\u001b[39;00m param \u001b[38;5;129;01min\u001b[39;00m iter_params_for_processing(param_order, \u001b[38;5;28mself\u001b[39m\u001b[38;5;241m.\u001b[39mget_params(ctx)):\n",
      "File \u001b[0;32m/opt/anaconda3/lib/python3.11/site-packages/click/parser.py:337\u001b[0m, in \u001b[0;36mOptionParser.parse_args\u001b[0;34m(self, args)\u001b[0m\n\u001b[1;32m    336\u001b[0m \u001b[38;5;28;01mtry\u001b[39;00m:\n\u001b[0;32m--> 337\u001b[0m     \u001b[38;5;28mself\u001b[39m\u001b[38;5;241m.\u001b[39m_process_args_for_options(state)\n\u001b[1;32m    338\u001b[0m     \u001b[38;5;28mself\u001b[39m\u001b[38;5;241m.\u001b[39m_process_args_for_args(state)\n",
      "File \u001b[0;32m/opt/anaconda3/lib/python3.11/site-packages/click/parser.py:364\u001b[0m, in \u001b[0;36mOptionParser._process_args_for_options\u001b[0;34m(self, state)\u001b[0m\n\u001b[1;32m    363\u001b[0m \u001b[38;5;28;01melif\u001b[39;00m arg[:\u001b[38;5;241m1\u001b[39m] \u001b[38;5;129;01min\u001b[39;00m \u001b[38;5;28mself\u001b[39m\u001b[38;5;241m.\u001b[39m_opt_prefixes \u001b[38;5;129;01mand\u001b[39;00m arglen \u001b[38;5;241m>\u001b[39m \u001b[38;5;241m1\u001b[39m:\n\u001b[0;32m--> 364\u001b[0m     \u001b[38;5;28mself\u001b[39m\u001b[38;5;241m.\u001b[39m_process_opts(arg, state)\n\u001b[1;32m    365\u001b[0m \u001b[38;5;28;01melif\u001b[39;00m \u001b[38;5;28mself\u001b[39m\u001b[38;5;241m.\u001b[39mallow_interspersed_args:\n",
      "File \u001b[0;32m/opt/anaconda3/lib/python3.11/site-packages/click/parser.py:523\u001b[0m, in \u001b[0;36mOptionParser._process_opts\u001b[0;34m(self, arg, state)\u001b[0m\n\u001b[1;32m    522\u001b[0m \u001b[38;5;28;01mif\u001b[39;00m arg[:\u001b[38;5;241m2\u001b[39m] \u001b[38;5;129;01mnot\u001b[39;00m \u001b[38;5;129;01min\u001b[39;00m \u001b[38;5;28mself\u001b[39m\u001b[38;5;241m.\u001b[39m_opt_prefixes:\n\u001b[0;32m--> 523\u001b[0m     \u001b[38;5;28mself\u001b[39m\u001b[38;5;241m.\u001b[39m_match_short_opt(arg, state)\n\u001b[1;32m    524\u001b[0m     \u001b[38;5;28;01mreturn\u001b[39;00m\n",
      "File \u001b[0;32m/opt/anaconda3/lib/python3.11/site-packages/click/parser.py:436\u001b[0m, in \u001b[0;36mOptionParser._match_short_opt\u001b[0;34m(self, arg, state)\u001b[0m\n\u001b[1;32m    435\u001b[0m         \u001b[38;5;28;01mcontinue\u001b[39;00m\n\u001b[0;32m--> 436\u001b[0m     \u001b[38;5;28;01mraise\u001b[39;00m NoSuchOption(opt, ctx\u001b[38;5;241m=\u001b[39m\u001b[38;5;28mself\u001b[39m\u001b[38;5;241m.\u001b[39mctx)\n\u001b[1;32m    437\u001b[0m \u001b[38;5;28;01mif\u001b[39;00m option\u001b[38;5;241m.\u001b[39mtakes_value:\n\u001b[1;32m    438\u001b[0m     \u001b[38;5;66;03m# Any characters left in arg?  Pretend they're the\u001b[39;00m\n\u001b[1;32m    439\u001b[0m     \u001b[38;5;66;03m# next arg, and stop consuming characters of arg.\u001b[39;00m\n",
      "\u001b[0;31mNoSuchOption\u001b[0m: No such option: -f",
      "\nDuring handling of the above exception, another exception occurred:\n",
      "\u001b[0;31mSystemExit\u001b[0m                                Traceback (most recent call last)",
      "    \u001b[0;31m[... skipping hidden 1 frame]\u001b[0m\n",
      "Cell \u001b[0;32mIn[5], line 43\u001b[0m\n\u001b[1;32m     42\u001b[0m \u001b[38;5;28;01mif\u001b[39;00m \u001b[38;5;18m__name__\u001b[39m \u001b[38;5;241m==\u001b[39m \u001b[38;5;124m'\u001b[39m\u001b[38;5;124m__main__\u001b[39m\u001b[38;5;124m'\u001b[39m:\n\u001b[0;32m---> 43\u001b[0m     cli()\n",
      "File \u001b[0;32m/opt/anaconda3/lib/python3.11/site-packages/click/core.py:1157\u001b[0m, in \u001b[0;36mBaseCommand.__call__\u001b[0;34m(self, *args, **kwargs)\u001b[0m\n\u001b[1;32m   1156\u001b[0m \u001b[38;5;250m\u001b[39m\u001b[38;5;124;03m\"\"\"Alias for :meth:`main`.\"\"\"\u001b[39;00m\n\u001b[0;32m-> 1157\u001b[0m \u001b[38;5;28;01mreturn\u001b[39;00m \u001b[38;5;28mself\u001b[39m\u001b[38;5;241m.\u001b[39mmain(\u001b[38;5;241m*\u001b[39margs, \u001b[38;5;241m*\u001b[39m\u001b[38;5;241m*\u001b[39mkwargs)\n",
      "File \u001b[0;32m/opt/anaconda3/lib/python3.11/site-packages/click/core.py:1096\u001b[0m, in \u001b[0;36mBaseCommand.main\u001b[0;34m(self, args, prog_name, complete_var, standalone_mode, windows_expand_args, **extra)\u001b[0m\n\u001b[1;32m   1095\u001b[0m     e\u001b[38;5;241m.\u001b[39mshow()\n\u001b[0;32m-> 1096\u001b[0m     sys\u001b[38;5;241m.\u001b[39mexit(e\u001b[38;5;241m.\u001b[39mexit_code)\n\u001b[1;32m   1097\u001b[0m \u001b[38;5;28;01mexcept\u001b[39;00m \u001b[38;5;167;01mOSError\u001b[39;00m \u001b[38;5;28;01mas\u001b[39;00m e:\n",
      "\u001b[0;31mSystemExit\u001b[0m: 2",
      "\nDuring handling of the above exception, another exception occurred:\n",
      "\u001b[0;31mAttributeError\u001b[0m                            Traceback (most recent call last)",
      "    \u001b[0;31m[... skipping hidden 1 frame]\u001b[0m\n",
      "File \u001b[0;32m/opt/anaconda3/lib/python3.11/site-packages/IPython/core/interactiveshell.py:2121\u001b[0m, in \u001b[0;36mInteractiveShell.showtraceback\u001b[0;34m(self, exc_tuple, filename, tb_offset, exception_only, running_compiled_code)\u001b[0m\n\u001b[1;32m   2118\u001b[0m \u001b[38;5;28;01mif\u001b[39;00m exception_only:\n\u001b[1;32m   2119\u001b[0m     stb \u001b[38;5;241m=\u001b[39m [\u001b[38;5;124m'\u001b[39m\u001b[38;5;124mAn exception has occurred, use \u001b[39m\u001b[38;5;124m%\u001b[39m\u001b[38;5;124mtb to see \u001b[39m\u001b[38;5;124m'\u001b[39m\n\u001b[1;32m   2120\u001b[0m            \u001b[38;5;124m'\u001b[39m\u001b[38;5;124mthe full traceback.\u001b[39m\u001b[38;5;130;01m\\n\u001b[39;00m\u001b[38;5;124m'\u001b[39m]\n\u001b[0;32m-> 2121\u001b[0m     stb\u001b[38;5;241m.\u001b[39mextend(\u001b[38;5;28mself\u001b[39m\u001b[38;5;241m.\u001b[39mInteractiveTB\u001b[38;5;241m.\u001b[39mget_exception_only(etype,\n\u001b[1;32m   2122\u001b[0m                                                      value))\n\u001b[1;32m   2123\u001b[0m \u001b[38;5;28;01melse\u001b[39;00m:\n\u001b[1;32m   2125\u001b[0m     \u001b[38;5;28;01mdef\u001b[39;00m \u001b[38;5;21mcontains_exceptiongroup\u001b[39m(val):\n",
      "File \u001b[0;32m/opt/anaconda3/lib/python3.11/site-packages/IPython/core/ultratb.py:710\u001b[0m, in \u001b[0;36mListTB.get_exception_only\u001b[0;34m(self, etype, value)\u001b[0m\n\u001b[1;32m    702\u001b[0m \u001b[38;5;28;01mdef\u001b[39;00m \u001b[38;5;21mget_exception_only\u001b[39m(\u001b[38;5;28mself\u001b[39m, etype, value):\n\u001b[1;32m    703\u001b[0m \u001b[38;5;250m    \u001b[39m\u001b[38;5;124;03m\"\"\"Only print the exception type and message, without a traceback.\u001b[39;00m\n\u001b[1;32m    704\u001b[0m \n\u001b[1;32m    705\u001b[0m \u001b[38;5;124;03m    Parameters\u001b[39;00m\n\u001b[0;32m   (...)\u001b[0m\n\u001b[1;32m    708\u001b[0m \u001b[38;5;124;03m    value : exception value\u001b[39;00m\n\u001b[1;32m    709\u001b[0m \u001b[38;5;124;03m    \"\"\"\u001b[39;00m\n\u001b[0;32m--> 710\u001b[0m     \u001b[38;5;28;01mreturn\u001b[39;00m ListTB\u001b[38;5;241m.\u001b[39mstructured_traceback(\u001b[38;5;28mself\u001b[39m, etype, value)\n",
      "File \u001b[0;32m/opt/anaconda3/lib/python3.11/site-packages/IPython/core/ultratb.py:568\u001b[0m, in \u001b[0;36mListTB.structured_traceback\u001b[0;34m(self, etype, evalue, etb, tb_offset, context)\u001b[0m\n\u001b[1;32m    565\u001b[0m     chained_exc_ids\u001b[38;5;241m.\u001b[39madd(\u001b[38;5;28mid\u001b[39m(exception[\u001b[38;5;241m1\u001b[39m]))\n\u001b[1;32m    566\u001b[0m     chained_exceptions_tb_offset \u001b[38;5;241m=\u001b[39m \u001b[38;5;241m0\u001b[39m\n\u001b[1;32m    567\u001b[0m     out_list \u001b[38;5;241m=\u001b[39m (\n\u001b[0;32m--> 568\u001b[0m         \u001b[38;5;28mself\u001b[39m\u001b[38;5;241m.\u001b[39mstructured_traceback(\n\u001b[1;32m    569\u001b[0m             etype,\n\u001b[1;32m    570\u001b[0m             evalue,\n\u001b[1;32m    571\u001b[0m             (etb, chained_exc_ids),  \u001b[38;5;66;03m# type: ignore\u001b[39;00m\n\u001b[1;32m    572\u001b[0m             chained_exceptions_tb_offset,\n\u001b[1;32m    573\u001b[0m             context,\n\u001b[1;32m    574\u001b[0m         )\n\u001b[1;32m    575\u001b[0m         \u001b[38;5;241m+\u001b[39m chained_exception_message\n\u001b[1;32m    576\u001b[0m         \u001b[38;5;241m+\u001b[39m out_list)\n\u001b[1;32m    578\u001b[0m \u001b[38;5;28;01mreturn\u001b[39;00m out_list\n",
      "File \u001b[0;32m/opt/anaconda3/lib/python3.11/site-packages/IPython/core/ultratb.py:1435\u001b[0m, in \u001b[0;36mAutoFormattedTB.structured_traceback\u001b[0;34m(self, etype, evalue, etb, tb_offset, number_of_lines_of_context)\u001b[0m\n\u001b[1;32m   1433\u001b[0m \u001b[38;5;28;01melse\u001b[39;00m:\n\u001b[1;32m   1434\u001b[0m     \u001b[38;5;28mself\u001b[39m\u001b[38;5;241m.\u001b[39mtb \u001b[38;5;241m=\u001b[39m etb\n\u001b[0;32m-> 1435\u001b[0m \u001b[38;5;28;01mreturn\u001b[39;00m FormattedTB\u001b[38;5;241m.\u001b[39mstructured_traceback(\n\u001b[1;32m   1436\u001b[0m     \u001b[38;5;28mself\u001b[39m, etype, evalue, etb, tb_offset, number_of_lines_of_context\n\u001b[1;32m   1437\u001b[0m )\n",
      "File \u001b[0;32m/opt/anaconda3/lib/python3.11/site-packages/IPython/core/ultratb.py:1326\u001b[0m, in \u001b[0;36mFormattedTB.structured_traceback\u001b[0;34m(self, etype, value, tb, tb_offset, number_of_lines_of_context)\u001b[0m\n\u001b[1;32m   1323\u001b[0m mode \u001b[38;5;241m=\u001b[39m \u001b[38;5;28mself\u001b[39m\u001b[38;5;241m.\u001b[39mmode\n\u001b[1;32m   1324\u001b[0m \u001b[38;5;28;01mif\u001b[39;00m mode \u001b[38;5;129;01min\u001b[39;00m \u001b[38;5;28mself\u001b[39m\u001b[38;5;241m.\u001b[39mverbose_modes:\n\u001b[1;32m   1325\u001b[0m     \u001b[38;5;66;03m# Verbose modes need a full traceback\u001b[39;00m\n\u001b[0;32m-> 1326\u001b[0m     \u001b[38;5;28;01mreturn\u001b[39;00m VerboseTB\u001b[38;5;241m.\u001b[39mstructured_traceback(\n\u001b[1;32m   1327\u001b[0m         \u001b[38;5;28mself\u001b[39m, etype, value, tb, tb_offset, number_of_lines_of_context\n\u001b[1;32m   1328\u001b[0m     )\n\u001b[1;32m   1329\u001b[0m \u001b[38;5;28;01melif\u001b[39;00m mode \u001b[38;5;241m==\u001b[39m \u001b[38;5;124m'\u001b[39m\u001b[38;5;124mMinimal\u001b[39m\u001b[38;5;124m'\u001b[39m:\n\u001b[1;32m   1330\u001b[0m     \u001b[38;5;28;01mreturn\u001b[39;00m ListTB\u001b[38;5;241m.\u001b[39mget_exception_only(\u001b[38;5;28mself\u001b[39m, etype, value)\n",
      "File \u001b[0;32m/opt/anaconda3/lib/python3.11/site-packages/IPython/core/ultratb.py:1173\u001b[0m, in \u001b[0;36mVerboseTB.structured_traceback\u001b[0;34m(self, etype, evalue, etb, tb_offset, number_of_lines_of_context)\u001b[0m\n\u001b[1;32m   1164\u001b[0m \u001b[38;5;28;01mdef\u001b[39;00m \u001b[38;5;21mstructured_traceback\u001b[39m(\n\u001b[1;32m   1165\u001b[0m     \u001b[38;5;28mself\u001b[39m,\n\u001b[1;32m   1166\u001b[0m     etype: \u001b[38;5;28mtype\u001b[39m,\n\u001b[0;32m   (...)\u001b[0m\n\u001b[1;32m   1170\u001b[0m     number_of_lines_of_context: \u001b[38;5;28mint\u001b[39m \u001b[38;5;241m=\u001b[39m \u001b[38;5;241m5\u001b[39m,\n\u001b[1;32m   1171\u001b[0m ):\n\u001b[1;32m   1172\u001b[0m \u001b[38;5;250m    \u001b[39m\u001b[38;5;124;03m\"\"\"Return a nice text document describing the traceback.\"\"\"\u001b[39;00m\n\u001b[0;32m-> 1173\u001b[0m     formatted_exception \u001b[38;5;241m=\u001b[39m \u001b[38;5;28mself\u001b[39m\u001b[38;5;241m.\u001b[39mformat_exception_as_a_whole(etype, evalue, etb, number_of_lines_of_context,\n\u001b[1;32m   1174\u001b[0m                                                            tb_offset)\n\u001b[1;32m   1176\u001b[0m     colors \u001b[38;5;241m=\u001b[39m \u001b[38;5;28mself\u001b[39m\u001b[38;5;241m.\u001b[39mColors  \u001b[38;5;66;03m# just a shorthand + quicker name lookup\u001b[39;00m\n\u001b[1;32m   1177\u001b[0m     colorsnormal \u001b[38;5;241m=\u001b[39m colors\u001b[38;5;241m.\u001b[39mNormal  \u001b[38;5;66;03m# used a lot\u001b[39;00m\n",
      "File \u001b[0;32m/opt/anaconda3/lib/python3.11/site-packages/IPython/core/ultratb.py:1063\u001b[0m, in \u001b[0;36mVerboseTB.format_exception_as_a_whole\u001b[0;34m(self, etype, evalue, etb, number_of_lines_of_context, tb_offset)\u001b[0m\n\u001b[1;32m   1060\u001b[0m \u001b[38;5;28;01massert\u001b[39;00m \u001b[38;5;28misinstance\u001b[39m(tb_offset, \u001b[38;5;28mint\u001b[39m)\n\u001b[1;32m   1061\u001b[0m head \u001b[38;5;241m=\u001b[39m \u001b[38;5;28mself\u001b[39m\u001b[38;5;241m.\u001b[39mprepare_header(\u001b[38;5;28mstr\u001b[39m(etype), \u001b[38;5;28mself\u001b[39m\u001b[38;5;241m.\u001b[39mlong_header)\n\u001b[1;32m   1062\u001b[0m records \u001b[38;5;241m=\u001b[39m (\n\u001b[0;32m-> 1063\u001b[0m     \u001b[38;5;28mself\u001b[39m\u001b[38;5;241m.\u001b[39mget_records(etb, number_of_lines_of_context, tb_offset) \u001b[38;5;28;01mif\u001b[39;00m etb \u001b[38;5;28;01melse\u001b[39;00m []\n\u001b[1;32m   1064\u001b[0m )\n\u001b[1;32m   1066\u001b[0m frames \u001b[38;5;241m=\u001b[39m []\n\u001b[1;32m   1067\u001b[0m skipped \u001b[38;5;241m=\u001b[39m \u001b[38;5;241m0\u001b[39m\n",
      "File \u001b[0;32m/opt/anaconda3/lib/python3.11/site-packages/IPython/core/ultratb.py:1131\u001b[0m, in \u001b[0;36mVerboseTB.get_records\u001b[0;34m(self, etb, number_of_lines_of_context, tb_offset)\u001b[0m\n\u001b[1;32m   1129\u001b[0m \u001b[38;5;28;01mwhile\u001b[39;00m cf \u001b[38;5;129;01mis\u001b[39;00m \u001b[38;5;129;01mnot\u001b[39;00m \u001b[38;5;28;01mNone\u001b[39;00m:\n\u001b[1;32m   1130\u001b[0m     \u001b[38;5;28;01mtry\u001b[39;00m:\n\u001b[0;32m-> 1131\u001b[0m         mod \u001b[38;5;241m=\u001b[39m inspect\u001b[38;5;241m.\u001b[39mgetmodule(cf\u001b[38;5;241m.\u001b[39mtb_frame)\n\u001b[1;32m   1132\u001b[0m         \u001b[38;5;28;01mif\u001b[39;00m mod \u001b[38;5;129;01mis\u001b[39;00m \u001b[38;5;129;01mnot\u001b[39;00m \u001b[38;5;28;01mNone\u001b[39;00m:\n\u001b[1;32m   1133\u001b[0m             mod_name \u001b[38;5;241m=\u001b[39m mod\u001b[38;5;241m.\u001b[39m\u001b[38;5;18m__name__\u001b[39m\n",
      "\u001b[0;31mAttributeError\u001b[0m: 'tuple' object has no attribute 'tb_frame'"
     ]
    }
   ],
   "source": [
    "import click\n",
    "\n",
    "@click.group() \n",
    "def cli(): \n",
    "    pass\n",
    "\n",
    "@click.group(help='Ship related commands') \n",
    "def ships():\n",
    "    pass\n",
    "\n",
    "cli.add_command(ships) \n",
    "\n",
    "@ships.command(help='Sail a ship') \n",
    "def sail():\n",
    "    ship_name = 'Your ship'\n",
    "    print(f\"{ship_name} is setting sail\")\n",
    "\n",
    "@ships.command(help='List all of the ships')\n",
    "def list_ships():\n",
    "    ships = ['John B', 'Yankee Clipper', 'Pequod']\n",
    "    print(f\"Ships: {','.join(ships)}\")\n",
    "\n",
    "@cli.command(help='Talk to a sailor')  \n",
    "@click.option('--greeting', default='Ahoy there', help='Greeting for sailor')\n",
    "@click.argument('name')\n",
    "def sailors(greeting, name):\n",
    "    message = f'{greeting} {name}'\n",
    "    print(message)\n",
    "\n",
    "# Cargo management commands \n",
    "@ships.command(help='Load cargo onto a ship')\n",
    "@click.argument('ship_name')\n",
    "@click.argument('cargo')\n",
    "def load(ship_name, cargo):\n",
    "    print(f\"Loading {cargo} onto {ship_name}\")\n",
    "\n",
    "@ships.command(help='Unload cargo from a ship')\n",
    "@click.argument('ship_name')\n",
    "def unload(ship_name):\n",
    "    print(f\"Unloading cargo from {ship_name}\")\n",
    "\n",
    "if __name__ == '__main__':\n",
    "    cli()  "
   ]
  },
  {
   "cell_type": "markdown",
   "id": "dced552d-7efd-4fb4-9b6f-696ca9a2db36",
   "metadata": {},
   "source": [
    "# Fire Package :Turning Python Functions and Classes into CLIs\n",
    "\n",
    "* **Purpose:** Provides an incredibly simple way to generate command-line interfaces (CLIs) straight from your existing Python code.\n",
    "* **How it Works:**\n",
    "    * Analyzes your functions and classes.\n",
    "    * Automatically creates commands and subcommands based on their structure.\n",
    "\n",
    "**Key Features**\n",
    "\n",
    "* **Minimal Effort:** Eliminates the need to write the usual boilerplate code associated with manual CLI creation.\n",
    "* **Flexibility:** Supports functions, classes, and even variables for CLI commands.\n",
    "* **Data Structures:** Handles common data types (lists, dictionaries, etc.) intuitively as arguments.\n",
    "\n",
    "**Installation**\n",
    "\n",
    "```bash\n",
    "pip install fire \n",
    "```\n",
    "\n",
    "**Basic Usage**\n",
    "\n",
    "1. **Create Functions or Classes:** Define the functionality you want in your CLI.\n",
    "2. **Invoke Fire:**\n",
    "\n",
    "   ```python\n",
    "   import fire \n",
    "\n",
    "   # Example: If you have a class 'Calculator'\n",
    "   if __name__ == '__main__':\n",
    "       fire.Fire(Calculator) \n",
    "   ```\n",
    "\n",
    "**Benefits**\n",
    "\n",
    "* **Prototyping:**  Quickly create a CLI to test out ideas and functionality.\n",
    "* **Small Projects:** Ideal for CLIs  where speed and simplicity are prioritized.\n",
    "* **Exploration:** Useful for exposing existing code as a command-line tool. \n",
    "\n",
    "**Considerations**\n",
    "\n",
    "* **Less Customization:** Compared to libraries like Click, you have less fine-grained control over command definitions, help messages, etc.\n",
    "* **Larger Projects:**  For complex CLIs with custom options and validation, Click or Argparse might be more suitable.\n"
   ]
  },
  {
   "cell_type": "code",
   "execution_count": null,
   "id": "5766961b-2a3f-4fcf-8219-d49351d13641",
   "metadata": {},
   "outputs": [],
   "source": []
  },
  {
   "cell_type": "code",
   "execution_count": null,
   "id": "735550b4-c1ef-4189-9f21-01d2098cfa18",
   "metadata": {},
   "outputs": [],
   "source": []
  },
  {
   "cell_type": "code",
   "execution_count": null,
   "id": "48ebf464-b06e-4358-a16c-5269e75b2631",
   "metadata": {},
   "outputs": [],
   "source": []
  },
  {
   "cell_type": "code",
   "execution_count": null,
   "id": "8029bb0e-ab73-4de7-9c5c-7d2c71797a42",
   "metadata": {},
   "outputs": [],
   "source": []
  },
  {
   "cell_type": "code",
   "execution_count": null,
   "id": "1b09acfc-e900-402f-ae60-9c6e1d3feb09",
   "metadata": {},
   "outputs": [],
   "source": []
  },
  {
   "cell_type": "code",
   "execution_count": null,
   "id": "b7d20759-fe5b-43c0-afd6-f1df8aaf0a8d",
   "metadata": {},
   "outputs": [],
   "source": []
  },
  {
   "cell_type": "code",
   "execution_count": null,
   "id": "1fb4a39a-b739-43ae-bc82-f29e1d80a34f",
   "metadata": {},
   "outputs": [],
   "source": []
  },
  {
   "cell_type": "code",
   "execution_count": null,
   "id": "218e8132-2b44-4d1c-9246-54d271fcd78a",
   "metadata": {},
   "outputs": [],
   "source": []
  },
  {
   "cell_type": "code",
   "execution_count": null,
   "id": "417b733c-98ab-429b-ba57-e7283ae08950",
   "metadata": {},
   "outputs": [],
   "source": []
  },
  {
   "cell_type": "code",
   "execution_count": null,
   "id": "65cf02d3-72f2-4e37-93ef-eb90cd27dd29",
   "metadata": {},
   "outputs": [],
   "source": []
  },
  {
   "cell_type": "code",
   "execution_count": null,
   "id": "5bea80f0-0c88-4804-9824-dadc465e0810",
   "metadata": {},
   "outputs": [],
   "source": []
  },
  {
   "cell_type": "code",
   "execution_count": null,
   "id": "c2cec814-701e-4cd3-9245-092fbc3dac6f",
   "metadata": {},
   "outputs": [],
   "source": []
  },
  {
   "cell_type": "code",
   "execution_count": null,
   "id": "bf376cb1-3240-4dae-acb1-418ed08e88ee",
   "metadata": {},
   "outputs": [],
   "source": []
  }
 ],
 "metadata": {
  "kernelspec": {
   "display_name": "Python 3 (ipykernel)",
   "language": "python",
   "name": "python3"
  },
  "language_info": {
   "codemirror_mode": {
    "name": "ipython",
    "version": 3
   },
   "file_extension": ".py",
   "mimetype": "text/x-python",
   "name": "python",
   "nbconvert_exporter": "python",
   "pygments_lexer": "ipython3",
   "version": "3.11.7"
  }
 },
 "nbformat": 4,
 "nbformat_minor": 5
}
