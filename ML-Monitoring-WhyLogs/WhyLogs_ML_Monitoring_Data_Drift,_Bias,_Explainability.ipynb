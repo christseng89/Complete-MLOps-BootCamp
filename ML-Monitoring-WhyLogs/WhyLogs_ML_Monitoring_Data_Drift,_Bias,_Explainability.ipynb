{
 "cells": [
  {
   "cell_type": "markdown",
   "metadata": {
    "id": "A-s2CcWxkqZJ"
   },
   "source": [
    "# ML Monitoring Fundamentals"
   ]
  },
  {
   "cell_type": "markdown",
   "metadata": {
    "id": "h5wtbbcE1tLa"
   },
   "source": [
    "## Setup\n",
    "\n",
    "Required to run this notebook\n",
    "- [Free WhyLabs Account](https://whylabs.ai/free)\n",
    "\n",
    "Reference to whylogs:\n",
    "- whylogs [GitHub](https://github.com/whylabs/whylogs/)\n",
    "\n",
    "\n",
    "\n"
   ]
  },
  {
   "cell_type": "code",
   "execution_count": 1,
   "metadata": {
    "colab": {
     "base_uri": "https://localhost:8080/"
    },
    "id": "Hg0cVqjbXnw6",
    "outputId": "b2c79446-c386-4ef1-edb6-d8245d5304ba"
   },
   "outputs": [
    {
     "name": "stdout",
     "output_type": "stream",
     "text": [
      "Requirement already satisfied: whylogs in c:\\python312\\lib\\site-packages (1.4.7)\n",
      "Requirement already satisfied: backoff<3.0.0,>=2.2.1 in c:\\python312\\lib\\site-packages (from whylogs) (2.2.1)\n",
      "Requirement already satisfied: platformdirs<4.0.0,>=3.5.0 in c:\\python312\\lib\\site-packages (from whylogs) (3.11.0)\n",
      "Requirement already satisfied: protobuf>=3.19.4 in c:\\python312\\lib\\site-packages (from whylogs) (4.25.3)\n",
      "Requirement already satisfied: requests<3.0,>=2.27 in c:\\python312\\lib\\site-packages (from whylogs) (2.32.3)\n",
      "Requirement already satisfied: typing-extensions>=3.10 in c:\\python312\\lib\\site-packages (from whylogs) (4.12.2)\n",
      "Requirement already satisfied: whylabs-client<0.7.0,>=0.6.5 in c:\\python312\\lib\\site-packages (from whylogs) (0.6.9)\n",
      "Requirement already satisfied: whylogs-sketching>=3.4.1.dev3 in c:\\python312\\lib\\site-packages (from whylogs) (3.4.1.dev3)\n",
      "Requirement already satisfied: charset-normalizer<4,>=2 in c:\\python312\\lib\\site-packages (from requests<3.0,>=2.27->whylogs) (3.3.2)\n",
      "Requirement already satisfied: idna<4,>=2.5 in c:\\python312\\lib\\site-packages (from requests<3.0,>=2.27->whylogs) (3.7)\n",
      "Requirement already satisfied: urllib3<3,>=1.21.1 in c:\\python312\\lib\\site-packages (from requests<3.0,>=2.27->whylogs) (1.26.19)\n",
      "Requirement already satisfied: certifi>=2017.4.17 in c:\\python312\\lib\\site-packages (from requests<3.0,>=2.27->whylogs) (2024.7.4)\n",
      "Requirement already satisfied: python-dateutil in c:\\python312\\lib\\site-packages (from whylabs-client<0.7.0,>=0.6.5->whylogs) (2.9.0.post0)\n",
      "Requirement already satisfied: six>=1.5 in c:\\python312\\lib\\site-packages (from python-dateutil->whylabs-client<0.7.0,>=0.6.5->whylogs) (1.16.0)\n"
     ]
    }
   ],
   "source": [
    "# Install whylogs\n",
    "!pip install whylogs"
   ]
  },
  {
   "cell_type": "markdown",
   "metadata": {
    "id": "HWgoYjM3nVSa"
   },
   "source": [
    "\n",
    "# 1. Data Drift, Model Drift, Performance\n"
   ]
  },
  {
   "cell_type": "code",
   "execution_count": 2,
   "metadata": {
    "id": "hbVgO_PX6zrQ"
   },
   "outputs": [],
   "source": [
    "import whylogs as why\n",
    "import numpy as np\n",
    "import pandas as pd\n",
    "import datetime\n",
    "import os\n",
    "\n",
    "from sklearn.model_selection import train_test_split\n",
    "from sklearn.datasets import load_iris\n",
    "\n",
    "pd.set_option(\"display.max_columns\", None)"
   ]
  },
  {
   "cell_type": "markdown",
   "metadata": {
    "id": "nDB3WgCT_QeJ"
   },
   "source": [
    "## Train a Machine Learning Model"
   ]
  },
  {
   "cell_type": "code",
   "execution_count": 3,
   "metadata": {},
   "outputs": [
    {
     "name": "stdout",
     "output_type": "stream",
     "text": [
      "dict_keys(['data', 'target', 'frame', 'target_names', 'DESCR', 'feature_names', 'filename', 'data_module'])\n",
      "\n",
      "Feature name:  ['sepal length (cm)', 'sepal width (cm)', 'petal length (cm)', 'petal width (cm)']\n",
      "Features:\n",
      " [[5.1 3.5 1.4 0.2]\n",
      " [4.9 3.  1.4 0.2]\n",
      " [4.7 3.2 1.3 0.2]\n",
      " [4.6 3.1 1.5 0.2]\n",
      " [5.  3.6 1.4 0.2]]\n",
      "\n",
      "Target name:  ['setosa' 'versicolor' 'virginica']\n",
      "Target labels:  [0 0 0 0 0]\n"
     ]
    }
   ],
   "source": [
    "# Load the Iris dataset\n",
    "iris = load_iris()\n",
    "\n",
    "# Display the keys of the dataset\n",
    "print(iris.keys())\n",
    "\n",
    "# Accessing the features (X) and target labels (y)\n",
    "X = iris.data       # The features (sepal length, sepal width, petal length, petal width)\n",
    "y = iris.target     # The target labels (species: 0, 1, 2)\n",
    "\n",
    "# Displaying the first 5 samples\n",
    "print(\"\\nFeature name: \", iris.feature_names)\n",
    "print(\"Features:\\n\", X[:5])\n",
    "\n",
    "print(\"\\nTarget name: \", iris.target_names)\n",
    "print(\"Target labels: \", y[:5])"
   ]
  },
  {
   "cell_type": "code",
   "execution_count": 4,
   "metadata": {
    "colab": {
     "base_uri": "https://localhost:8080/"
    },
    "id": "201CjQ0d61Or",
    "outputId": "c5bc3540-07cc-43f3-b134-945709fcb39b"
   },
   "outputs": [
    {
     "name": "stdout",
     "output_type": "stream",
     "text": [
      "['sepal length (cm)', 'sepal width (cm)', 'petal length (cm)', 'petal width (cm)']\n",
      "['setosa', 'versicolor', 'virginica']\n"
     ]
    }
   ],
   "source": [
    "df_iris = load_iris(as_frame=True)\n",
    "\n",
    "print(list(df_iris.feature_names))\n",
    "print(list(df_iris.target_names))"
   ]
  },
  {
   "cell_type": "code",
   "execution_count": 5,
   "metadata": {},
   "outputs": [
    {
     "name": "stdout",
     "output_type": "stream",
     "text": [
      "Features Head:\n",
      "    sepal length (cm)  sepal width (cm)  petal length (cm)  petal width (cm)\n",
      "0                5.1               3.5                1.4               0.2\n",
      "1                4.9               3.0                1.4               0.2\n",
      "2                4.7               3.2                1.3               0.2\n",
      "3                4.6               3.1                1.5               0.2\n",
      "4                5.0               3.6                1.4               0.2\n",
      "Target Head:\n",
      " 0    0\n",
      "1    0\n",
      "2    0\n",
      "3    0\n",
      "4    0\n",
      "Name: target, dtype: int32\n"
     ]
    }
   ],
   "source": [
    "# Print the first 5 rows of the features (data)\n",
    "print(\"Features Head:\\n\",df_iris.data.head())\n",
    "\n",
    "# Print the first 5 rows of the target\n",
    "print(\"Target Head:\\n\", df_iris.target.head())"
   ]
  },
  {
   "cell_type": "code",
   "execution_count": 6,
   "metadata": {
    "colab": {
     "base_uri": "https://localhost:8080/"
    },
    "id": "qSDwodt_29si",
    "outputId": "71574442-b1ab-4980-afe3-68da70033f35"
   },
   "outputs": [
    {
     "data": {
      "text/plain": [
       "0.9333333333333333"
      ]
     },
     "execution_count": 6,
     "metadata": {},
     "output_type": "execute_result"
    }
   ],
   "source": [
    "# Train baseline Model\n",
    "# KNN Model\n",
    "from sklearn import neighbors\n",
    "knn = neighbors.KNeighborsClassifier(n_neighbors=5)\n",
    "\n",
    "# Create feature and target data varaible\n",
    "X, y = df_iris.data, df_iris.target\n",
    "\n",
    "#create train & test datasets\n",
    "X_train, X_test, y_train, y_test = train_test_split(\n",
    "    X, y,\n",
    "    test_size=0.3,\n",
    "    random_state=6,\n",
    "    stratify=y)\n",
    "# Train model\n",
    "knn.fit(X_train, y_train)\n",
    "\n",
    "# Predict the labels on test data sset\n",
    "y_pred = knn.predict(X_test)\n",
    "\n",
    "# Print model accuracy\n",
    "knn.score(X_test, y_test)\n"
   ]
  },
  {
   "cell_type": "markdown",
   "metadata": {
    "id": "gwCAnVjC7ws0"
   },
   "source": [
    "## Import batches of data"
   ]
  },
  {
   "cell_type": "code",
   "execution_count": 7,
   "metadata": {
    "id": "b3hFOYP9l5MT"
   },
   "outputs": [],
   "source": [
    " # Import data batches\n",
    "url = 'https://raw.githubusercontent.com/christseng89/Complete-MLOps-BootCamp/main/ML-Monitoring-WhyLogs/datasets/iris_1_no_drift.csv'\n",
    "batch_data_1 = pd.read_csv(url)\n",
    "\n",
    "url2 = 'https://raw.githubusercontent.com/christseng89/Complete-MLOps-BootCamp/main/ML-Monitoring-WhyLogs/datasets/iris_2_no_drift.csv'\n",
    "batch_data_2 = pd.read_csv(url2)\n",
    "\n",
    "url3 = 'https://raw.githubusercontent.com/christseng89/Complete-MLOps-BootCamp/main/ML-Monitoring-WhyLogs/datasets/iris_3_no_drift.csv'\n",
    "batch_data_3 = pd.read_csv(url3)\n",
    "\n",
    "url4 = 'https://raw.githubusercontent.com/christseng89/Complete-MLOps-BootCamp/main/ML-Monitoring-WhyLogs/datasets/iris_4_drift_0s.csv'\n",
    "batch_data_4 = pd.read_csv(url4)\n",
    "\n",
    "url5 = 'https://raw.githubusercontent.com/christseng89/Complete-MLOps-BootCamp/main/ML-Monitoring-WhyLogs/datasets/iris_5_drift.csv'\n",
    "batch_data_5 = pd.read_csv(url5)\n",
    "\n",
    "url6 = 'https://raw.githubusercontent.com/christseng89/Complete-MLOps-BootCamp/main/ML-Monitoring-WhyLogs/datasets/iris_6_drift.csv'\n",
    "batch_data_6 = pd.read_csv(url6)\n",
    "\n",
    "url7 = 'https://raw.githubusercontent.com/christseng89/Complete-MLOps-BootCamp/main/ML-Monitoring-WhyLogs/datasets/iris_7_no_drift.csv'\n",
    "batch_data_7 = pd.read_csv(url7)\n",
    "\n",
    "# iris feature names\n",
    "feature_names = ['sepal length (cm)', 'sepal width (cm)','petal length (cm)','petal width (cm)']\n",
    "\n",
    "# separate targets\n",
    "X_batch_1 = batch_data_1[feature_names]\n",
    "X_batch_2 = batch_data_2[feature_names]\n",
    "X_batch_3 = batch_data_3[feature_names]\n",
    "X_batch_4 = batch_data_4[feature_names]\n",
    "X_batch_5 = batch_data_5[feature_names]\n",
    "X_batch_6 = batch_data_6[feature_names]\n",
    "X_batch_7 = batch_data_7[feature_names]\n",
    "\n",
    "y_batch_1 = batch_data_1['target']\n",
    "y_batch_2 = batch_data_2['target']\n",
    "y_batch_3 = batch_data_3['target']\n",
    "y_batch_4 = batch_data_4['target']\n",
    "y_batch_5 = batch_data_5['target']\n",
    "y_batch_6 = batch_data_6['target']\n",
    "y_batch_7 = batch_data_7['target']\n",
    "\n",
    "dfs = [X_batch_1, X_batch_4, X_batch_5, X_batch_6, X_batch_2, X_batch_3, X_batch_7]\n",
    "df_target = [y_batch_1, y_batch_4, y_batch_5, y_batch_6, y_batch_2, y_batch_3, y_batch_7]\n"
   ]
  },
  {
   "cell_type": "code",
   "execution_count": 8,
   "metadata": {
    "colab": {
     "base_uri": "https://localhost:8080/",
     "height": 423
    },
    "id": "Nbb5uJAIn-TI",
    "outputId": "edff0da8-05df-46fb-d22f-d6b274665d90"
   },
   "outputs": [
    {
     "data": {
      "text/html": [
       "<div>\n",
       "<style scoped>\n",
       "    .dataframe tbody tr th:only-of-type {\n",
       "        vertical-align: middle;\n",
       "    }\n",
       "\n",
       "    .dataframe tbody tr th {\n",
       "        vertical-align: top;\n",
       "    }\n",
       "\n",
       "    .dataframe thead th {\n",
       "        text-align: right;\n",
       "    }\n",
       "</style>\n",
       "<table border=\"1\" class=\"dataframe\">\n",
       "  <thead>\n",
       "    <tr style=\"text-align: right;\">\n",
       "      <th></th>\n",
       "      <th>sepal length (cm)</th>\n",
       "      <th>sepal width (cm)</th>\n",
       "      <th>petal length (cm)</th>\n",
       "      <th>petal width (cm)</th>\n",
       "    </tr>\n",
       "  </thead>\n",
       "  <tbody>\n",
       "    <tr>\n",
       "      <th>0</th>\n",
       "      <td>5.5</td>\n",
       "      <td>3.2</td>\n",
       "      <td>1.5</td>\n",
       "      <td>-0.0</td>\n",
       "    </tr>\n",
       "    <tr>\n",
       "      <th>1</th>\n",
       "      <td>6.2</td>\n",
       "      <td>2.5</td>\n",
       "      <td>3.9</td>\n",
       "      <td>1.2</td>\n",
       "    </tr>\n",
       "    <tr>\n",
       "      <th>2</th>\n",
       "      <td>5.9</td>\n",
       "      <td>3.1</td>\n",
       "      <td>4.4</td>\n",
       "      <td>1.3</td>\n",
       "    </tr>\n",
       "    <tr>\n",
       "      <th>3</th>\n",
       "      <td>6.1</td>\n",
       "      <td>3.0</td>\n",
       "      <td>6.4</td>\n",
       "      <td>1.9</td>\n",
       "    </tr>\n",
       "    <tr>\n",
       "      <th>4</th>\n",
       "      <td>6.6</td>\n",
       "      <td>3.3</td>\n",
       "      <td>6.4</td>\n",
       "      <td>1.8</td>\n",
       "    </tr>\n",
       "    <tr>\n",
       "      <th>...</th>\n",
       "      <td>...</td>\n",
       "      <td>...</td>\n",
       "      <td>...</td>\n",
       "      <td>...</td>\n",
       "    </tr>\n",
       "    <tr>\n",
       "      <th>145</th>\n",
       "      <td>5.6</td>\n",
       "      <td>3.0</td>\n",
       "      <td>3.6</td>\n",
       "      <td>1.1</td>\n",
       "    </tr>\n",
       "    <tr>\n",
       "      <th>146</th>\n",
       "      <td>5.2</td>\n",
       "      <td>3.5</td>\n",
       "      <td>1.4</td>\n",
       "      <td>0.1</td>\n",
       "    </tr>\n",
       "    <tr>\n",
       "      <th>147</th>\n",
       "      <td>6.8</td>\n",
       "      <td>2.9</td>\n",
       "      <td>4.7</td>\n",
       "      <td>1.3</td>\n",
       "    </tr>\n",
       "    <tr>\n",
       "      <th>148</th>\n",
       "      <td>4.6</td>\n",
       "      <td>3.5</td>\n",
       "      <td>1.4</td>\n",
       "      <td>0.2</td>\n",
       "    </tr>\n",
       "    <tr>\n",
       "      <th>149</th>\n",
       "      <td>6.4</td>\n",
       "      <td>3.1</td>\n",
       "      <td>5.4</td>\n",
       "      <td>2.2</td>\n",
       "    </tr>\n",
       "  </tbody>\n",
       "</table>\n",
       "<p>150 rows × 4 columns</p>\n",
       "</div>"
      ],
      "text/plain": [
       "     sepal length (cm)  sepal width (cm)  petal length (cm)  petal width (cm)\n",
       "0                  5.5               3.2                1.5              -0.0\n",
       "1                  6.2               2.5                3.9               1.2\n",
       "2                  5.9               3.1                4.4               1.3\n",
       "3                  6.1               3.0                6.4               1.9\n",
       "4                  6.6               3.3                6.4               1.8\n",
       "..                 ...               ...                ...               ...\n",
       "145                5.6               3.0                3.6               1.1\n",
       "146                5.2               3.5                1.4               0.1\n",
       "147                6.8               2.9                4.7               1.3\n",
       "148                4.6               3.5                1.4               0.2\n",
       "149                6.4               3.1                5.4               2.2\n",
       "\n",
       "[150 rows x 4 columns]"
      ]
     },
     "execution_count": 8,
     "metadata": {},
     "output_type": "execute_result"
    }
   ],
   "source": [
    "X_batch_1"
   ]
  },
  {
   "cell_type": "code",
   "execution_count": 9,
   "metadata": {
    "id": "QMINlHv9_y7X"
   },
   "outputs": [
    {
     "data": {
      "text/html": [
       "<div>\n",
       "<style scoped>\n",
       "    .dataframe tbody tr th:only-of-type {\n",
       "        vertical-align: middle;\n",
       "    }\n",
       "\n",
       "    .dataframe tbody tr th {\n",
       "        vertical-align: top;\n",
       "    }\n",
       "\n",
       "    .dataframe thead th {\n",
       "        text-align: right;\n",
       "    }\n",
       "</style>\n",
       "<table border=\"1\" class=\"dataframe\">\n",
       "  <thead>\n",
       "    <tr style=\"text-align: right;\">\n",
       "      <th></th>\n",
       "      <th>sepal length (cm)</th>\n",
       "      <th>sepal width (cm)</th>\n",
       "      <th>petal length (cm)</th>\n",
       "      <th>petal width (cm)</th>\n",
       "    </tr>\n",
       "  </thead>\n",
       "  <tbody>\n",
       "    <tr>\n",
       "      <th>0</th>\n",
       "      <td>5.5</td>\n",
       "      <td>3.2</td>\n",
       "      <td>1.5</td>\n",
       "      <td>-0.0</td>\n",
       "    </tr>\n",
       "    <tr>\n",
       "      <th>1</th>\n",
       "      <td>6.2</td>\n",
       "      <td>2.5</td>\n",
       "      <td>3.9</td>\n",
       "      <td>1.2</td>\n",
       "    </tr>\n",
       "    <tr>\n",
       "      <th>2</th>\n",
       "      <td>5.9</td>\n",
       "      <td>3.1</td>\n",
       "      <td>4.4</td>\n",
       "      <td>1.3</td>\n",
       "    </tr>\n",
       "    <tr>\n",
       "      <th>3</th>\n",
       "      <td>6.1</td>\n",
       "      <td>3.0</td>\n",
       "      <td>6.4</td>\n",
       "      <td>1.9</td>\n",
       "    </tr>\n",
       "    <tr>\n",
       "      <th>4</th>\n",
       "      <td>6.6</td>\n",
       "      <td>3.3</td>\n",
       "      <td>6.4</td>\n",
       "      <td>1.8</td>\n",
       "    </tr>\n",
       "  </tbody>\n",
       "</table>\n",
       "</div>"
      ],
      "text/plain": [
       "   sepal length (cm)  sepal width (cm)  petal length (cm)  petal width (cm)\n",
       "0                5.5               3.2                1.5              -0.0\n",
       "1                6.2               2.5                3.9               1.2\n",
       "2                5.9               3.1                4.4               1.3\n",
       "3                6.1               3.0                6.4               1.9\n",
       "4                6.6               3.3                6.4               1.8"
      ]
     },
     "execution_count": 9,
     "metadata": {},
     "output_type": "execute_result"
    }
   ],
   "source": [
    "dfs[0].head()"
   ]
  },
  {
   "cell_type": "code",
   "execution_count": 10,
   "metadata": {},
   "outputs": [
    {
     "data": {
      "text/plain": [
       "0          setosa\n",
       "1      versicolor\n",
       "2      versicolor\n",
       "3       virginica\n",
       "4       virginica\n",
       "          ...    \n",
       "145    versicolor\n",
       "146        setosa\n",
       "147    versicolor\n",
       "148        setosa\n",
       "149     virginica\n",
       "Name: target, Length: 150, dtype: object"
      ]
     },
     "execution_count": 10,
     "metadata": {},
     "output_type": "execute_result"
    }
   ],
   "source": [
    "y_batch_1"
   ]
  },
  {
   "cell_type": "code",
   "execution_count": 11,
   "metadata": {},
   "outputs": [
    {
     "data": {
      "text/plain": [
       "0        setosa\n",
       "1    versicolor\n",
       "2    versicolor\n",
       "3     virginica\n",
       "4     virginica\n",
       "Name: target, dtype: object"
      ]
     },
     "execution_count": 11,
     "metadata": {},
     "output_type": "execute_result"
    }
   ],
   "source": [
    "df_target[0].head()"
   ]
  },
  {
   "cell_type": "markdown",
   "metadata": {
    "id": "D6wxQfvU7tsG"
   },
   "source": [
    "## Create a log with whylogs\n",
    "\n",
    "whylogs is an open source library for logging any kind of data. With whylogs, users are able to generate summaries of their datasets (called whylogs profiles) which they can use to:\n",
    "\n",
    "- Track changes in their dataset\n",
    "- Create data constraints to know whether their data looks the way it should\n",
    "- Quickly visualize key summary statistics about their datasets\n",
    "\n",
    "\n",
    "![](https://user-images.githubusercontent.com/7946482/171062942-01c420f2-7768-4b7c-88b5-e3f291e1b7d8.png)\n",
    "\n",
    "profiles generated with whylogs are:\n",
    "- Efficient\n",
    "- Customizable\n",
    "- Mergeable\n"
   ]
  },
  {
   "cell_type": "markdown",
   "metadata": {
    "id": "4sWLrpTd-S7e"
   },
   "source": [
    "## Get WhyLabs access tokens [expand]\n",
    "\n",
    "\n",
    "\n"
   ]
  },
  {
   "cell_type": "markdown",
   "metadata": {
    "id": "fHuVMRyP-ibY"
   },
   "source": [
    "Before integrate our data into WhyLabs we need three things:\n",
    "- WhyLabs API Key\n",
    "- WhyLabs Org-ID\n",
    "- Project-ID\n",
    "\n",
    "\n",
    "The easiest way to get the API token & ord-id:\n",
    "\n",
    "`Menu -> Settings -> Access Tokens`\n",
    "\n",
    "![](https://github.com/sagecodes/workshop-images/blob/master/access_token_org.png?raw=true)\n"
   ]
  },
  {
   "cell_type": "markdown",
   "metadata": {
    "id": "y91-Gk8i-S_a"
   },
   "source": [
    "## Sending profiles"
   ]
  },
  {
   "cell_type": "code",
   "execution_count": 12,
   "metadata": {},
   "outputs": [
    {
     "name": "stdout",
     "output_type": "stream",
     "text": [
      "Initializing session with config C:\\Users\\samfi\\AppData\\Local\\whylogs\\whylogs\\config.ini\n",
      "\n",
      "✅ Using session type: WHYLABS\n",
      " ⤷ org id: org-rE7D6t\n",
      " ⤷ api key: 1YQ18PUd8J\n",
      " ⤷ default dataset: model-6\n",
      "\n",
      "In production, you should pass the api key as an environment variable WHYLABS_API_KEY, the org id as WHYLABS_DEFAULT_ORG_ID, and the default dataset id as WHYLABS_DEFAULT_DATASET_ID.\n"
     ]
    },
    {
     "data": {
      "text/plain": [
       "<whylogs.api.whylabs.session.session.ApiKeySession at 0x1e91098ba10>"
      ]
     },
     "execution_count": 12,
     "metadata": {},
     "output_type": "execute_result"
    }
   ],
   "source": [
    "# Initialize whylogs session with WhyLabs integration\n",
    "os.environ[\"WHYLABS_DEFAULT_ORG_ID\"] = \"org-rE7D6t\" # ORG-ID is case sensitive\n",
    "os.environ[\"WHYLABS_API_KEY\"] = \"1YQ18PUd8J.f6TZX0zvGOOxjcINzP3xWoquAPaXSM7KZ9CtaklkLAuKLlILxuzHF:org-rE7D6t\"\n",
    "os.environ[\"WHYLABS_DEFAULT_DATASET_ID\"] = \"model-6\" # The selected project \"IRIS_ML_Learning (model-6)\" is \"model-6\"\n",
    "\n",
    "why.init()\n"
   ]
  },
  {
   "cell_type": "code",
   "execution_count": 13,
   "metadata": {
    "colab": {
     "base_uri": "https://localhost:8080/",
     "height": 382
    },
    "id": "qT5MP_YATed2",
    "outputId": "9e4b2162-9a4d-4119-90ad-dbf65e38f891"
   },
   "outputs": [
    {
     "name": "stdout",
     "output_type": "stream",
     "text": [
      "\n",
      "✅ Aggregated 150 rows into profile \n",
      "\n",
      "Visualize and explore this profile with one-click\n",
      "🔍 https://hub.whylabsapp.com/resources/model-6/profiles?profile=1726272000000\n"
     ]
    },
    {
     "data": {
      "text/html": [
       "<div>\n",
       "<style scoped>\n",
       "    .dataframe tbody tr th:only-of-type {\n",
       "        vertical-align: middle;\n",
       "    }\n",
       "\n",
       "    .dataframe tbody tr th {\n",
       "        vertical-align: top;\n",
       "    }\n",
       "\n",
       "    .dataframe thead th {\n",
       "        text-align: right;\n",
       "    }\n",
       "</style>\n",
       "<table border=\"1\" class=\"dataframe\">\n",
       "  <thead>\n",
       "    <tr style=\"text-align: right;\">\n",
       "      <th></th>\n",
       "      <th>cardinality/est</th>\n",
       "      <th>cardinality/lower_1</th>\n",
       "      <th>cardinality/upper_1</th>\n",
       "      <th>counts/inf</th>\n",
       "      <th>counts/n</th>\n",
       "      <th>counts/nan</th>\n",
       "      <th>counts/null</th>\n",
       "      <th>distribution/max</th>\n",
       "      <th>distribution/mean</th>\n",
       "      <th>distribution/median</th>\n",
       "      <th>distribution/min</th>\n",
       "      <th>distribution/n</th>\n",
       "      <th>distribution/q_01</th>\n",
       "      <th>distribution/q_05</th>\n",
       "      <th>distribution/q_10</th>\n",
       "      <th>distribution/q_25</th>\n",
       "      <th>distribution/q_75</th>\n",
       "      <th>distribution/q_90</th>\n",
       "      <th>distribution/q_95</th>\n",
       "      <th>distribution/q_99</th>\n",
       "      <th>distribution/stddev</th>\n",
       "      <th>type</th>\n",
       "      <th>types/boolean</th>\n",
       "      <th>types/fractional</th>\n",
       "      <th>types/integral</th>\n",
       "      <th>types/object</th>\n",
       "      <th>types/string</th>\n",
       "      <th>types/tensor</th>\n",
       "    </tr>\n",
       "    <tr>\n",
       "      <th>column</th>\n",
       "      <th></th>\n",
       "      <th></th>\n",
       "      <th></th>\n",
       "      <th></th>\n",
       "      <th></th>\n",
       "      <th></th>\n",
       "      <th></th>\n",
       "      <th></th>\n",
       "      <th></th>\n",
       "      <th></th>\n",
       "      <th></th>\n",
       "      <th></th>\n",
       "      <th></th>\n",
       "      <th></th>\n",
       "      <th></th>\n",
       "      <th></th>\n",
       "      <th></th>\n",
       "      <th></th>\n",
       "      <th></th>\n",
       "      <th></th>\n",
       "      <th></th>\n",
       "      <th></th>\n",
       "      <th></th>\n",
       "      <th></th>\n",
       "      <th></th>\n",
       "      <th></th>\n",
       "      <th></th>\n",
       "      <th></th>\n",
       "    </tr>\n",
       "  </thead>\n",
       "  <tbody>\n",
       "    <tr>\n",
       "      <th>petal length (cm)</th>\n",
       "      <td>42.000004</td>\n",
       "      <td>42.0</td>\n",
       "      <td>42.002101</td>\n",
       "      <td>0</td>\n",
       "      <td>150</td>\n",
       "      <td>0</td>\n",
       "      <td>0</td>\n",
       "      <td>6.8</td>\n",
       "      <td>3.775333</td>\n",
       "      <td>4.2</td>\n",
       "      <td>1.0</td>\n",
       "      <td>150</td>\n",
       "      <td>1.1</td>\n",
       "      <td>1.3</td>\n",
       "      <td>1.4</td>\n",
       "      <td>1.5</td>\n",
       "      <td>5.3</td>\n",
       "      <td>5.9</td>\n",
       "      <td>6.3</td>\n",
       "      <td>6.6</td>\n",
       "      <td>1.800669</td>\n",
       "      <td>SummaryType.COLUMN</td>\n",
       "      <td>0</td>\n",
       "      <td>150</td>\n",
       "      <td>0</td>\n",
       "      <td>0</td>\n",
       "      <td>0</td>\n",
       "      <td>0</td>\n",
       "    </tr>\n",
       "    <tr>\n",
       "      <th>petal width (cm)</th>\n",
       "      <td>24.000001</td>\n",
       "      <td>24.0</td>\n",
       "      <td>24.001200</td>\n",
       "      <td>0</td>\n",
       "      <td>150</td>\n",
       "      <td>0</td>\n",
       "      <td>0</td>\n",
       "      <td>2.5</td>\n",
       "      <td>1.168667</td>\n",
       "      <td>1.3</td>\n",
       "      <td>-0.0</td>\n",
       "      <td>150</td>\n",
       "      <td>-0.0</td>\n",
       "      <td>0.1</td>\n",
       "      <td>0.2</td>\n",
       "      <td>0.3</td>\n",
       "      <td>1.8</td>\n",
       "      <td>2.2</td>\n",
       "      <td>2.3</td>\n",
       "      <td>2.4</td>\n",
       "      <td>0.758499</td>\n",
       "      <td>SummaryType.COLUMN</td>\n",
       "      <td>0</td>\n",
       "      <td>150</td>\n",
       "      <td>0</td>\n",
       "      <td>0</td>\n",
       "      <td>0</td>\n",
       "      <td>0</td>\n",
       "    </tr>\n",
       "    <tr>\n",
       "      <th>sepal length (cm)</th>\n",
       "      <td>35.000003</td>\n",
       "      <td>35.0</td>\n",
       "      <td>35.001750</td>\n",
       "      <td>0</td>\n",
       "      <td>150</td>\n",
       "      <td>0</td>\n",
       "      <td>0</td>\n",
       "      <td>8.1</td>\n",
       "      <td>5.856000</td>\n",
       "      <td>5.8</td>\n",
       "      <td>4.0</td>\n",
       "      <td>150</td>\n",
       "      <td>4.3</td>\n",
       "      <td>4.5</td>\n",
       "      <td>4.8</td>\n",
       "      <td>5.1</td>\n",
       "      <td>6.6</td>\n",
       "      <td>7.0</td>\n",
       "      <td>7.2</td>\n",
       "      <td>7.7</td>\n",
       "      <td>0.874277</td>\n",
       "      <td>SummaryType.COLUMN</td>\n",
       "      <td>0</td>\n",
       "      <td>150</td>\n",
       "      <td>0</td>\n",
       "      <td>0</td>\n",
       "      <td>0</td>\n",
       "      <td>0</td>\n",
       "    </tr>\n",
       "    <tr>\n",
       "      <th>sepal width (cm)</th>\n",
       "      <td>20.000001</td>\n",
       "      <td>20.0</td>\n",
       "      <td>20.001000</td>\n",
       "      <td>0</td>\n",
       "      <td>150</td>\n",
       "      <td>0</td>\n",
       "      <td>0</td>\n",
       "      <td>4.4</td>\n",
       "      <td>3.100000</td>\n",
       "      <td>3.0</td>\n",
       "      <td>2.1</td>\n",
       "      <td>150</td>\n",
       "      <td>2.3</td>\n",
       "      <td>2.5</td>\n",
       "      <td>2.6</td>\n",
       "      <td>2.8</td>\n",
       "      <td>3.3</td>\n",
       "      <td>3.6</td>\n",
       "      <td>3.8</td>\n",
       "      <td>4.4</td>\n",
       "      <td>0.417567</td>\n",
       "      <td>SummaryType.COLUMN</td>\n",
       "      <td>0</td>\n",
       "      <td>150</td>\n",
       "      <td>0</td>\n",
       "      <td>0</td>\n",
       "      <td>0</td>\n",
       "      <td>0</td>\n",
       "    </tr>\n",
       "  </tbody>\n",
       "</table>\n",
       "</div>"
      ],
      "text/plain": [
       "                   cardinality/est  cardinality/lower_1  cardinality/upper_1  \\\n",
       "column                                                                         \n",
       "petal length (cm)        42.000004                 42.0            42.002101   \n",
       "petal width (cm)         24.000001                 24.0            24.001200   \n",
       "sepal length (cm)        35.000003                 35.0            35.001750   \n",
       "sepal width (cm)         20.000001                 20.0            20.001000   \n",
       "\n",
       "                   counts/inf  counts/n  counts/nan  counts/null  \\\n",
       "column                                                             \n",
       "petal length (cm)           0       150           0            0   \n",
       "petal width (cm)            0       150           0            0   \n",
       "sepal length (cm)           0       150           0            0   \n",
       "sepal width (cm)            0       150           0            0   \n",
       "\n",
       "                   distribution/max  distribution/mean  distribution/median  \\\n",
       "column                                                                        \n",
       "petal length (cm)               6.8           3.775333                  4.2   \n",
       "petal width (cm)                2.5           1.168667                  1.3   \n",
       "sepal length (cm)               8.1           5.856000                  5.8   \n",
       "sepal width (cm)                4.4           3.100000                  3.0   \n",
       "\n",
       "                   distribution/min  distribution/n  distribution/q_01  \\\n",
       "column                                                                   \n",
       "petal length (cm)               1.0             150                1.1   \n",
       "petal width (cm)               -0.0             150               -0.0   \n",
       "sepal length (cm)               4.0             150                4.3   \n",
       "sepal width (cm)                2.1             150                2.3   \n",
       "\n",
       "                   distribution/q_05  distribution/q_10  distribution/q_25  \\\n",
       "column                                                                       \n",
       "petal length (cm)                1.3                1.4                1.5   \n",
       "petal width (cm)                 0.1                0.2                0.3   \n",
       "sepal length (cm)                4.5                4.8                5.1   \n",
       "sepal width (cm)                 2.5                2.6                2.8   \n",
       "\n",
       "                   distribution/q_75  distribution/q_90  distribution/q_95  \\\n",
       "column                                                                       \n",
       "petal length (cm)                5.3                5.9                6.3   \n",
       "petal width (cm)                 1.8                2.2                2.3   \n",
       "sepal length (cm)                6.6                7.0                7.2   \n",
       "sepal width (cm)                 3.3                3.6                3.8   \n",
       "\n",
       "                   distribution/q_99  distribution/stddev                type  \\\n",
       "column                                                                          \n",
       "petal length (cm)                6.6             1.800669  SummaryType.COLUMN   \n",
       "petal width (cm)                 2.4             0.758499  SummaryType.COLUMN   \n",
       "sepal length (cm)                7.7             0.874277  SummaryType.COLUMN   \n",
       "sepal width (cm)                 4.4             0.417567  SummaryType.COLUMN   \n",
       "\n",
       "                   types/boolean  types/fractional  types/integral  \\\n",
       "column                                                               \n",
       "petal length (cm)              0               150               0   \n",
       "petal width (cm)               0               150               0   \n",
       "sepal length (cm)              0               150               0   \n",
       "sepal width (cm)               0               150               0   \n",
       "\n",
       "                   types/object  types/string  types/tensor  \n",
       "column                                                       \n",
       "petal length (cm)             0             0             0  \n",
       "petal width (cm)              0             0             0  \n",
       "sepal length (cm)             0             0             0  \n",
       "sepal width (cm)              0             0             0  "
      ]
     },
     "execution_count": 13,
     "metadata": {},
     "output_type": "execute_result"
    }
   ],
   "source": [
    "# create profile\n",
    "profile1 = why.log(X_batch_1)\n",
    "\n",
    "profile_view1 = profile1.view()\n",
    "profile_view1.to_pandas()"
   ]
  },
  {
   "cell_type": "markdown",
   "metadata": {
    "id": "VBqRX873TxoY"
   },
   "source": [
    "## Writing profiles to WhyLabs\n",
    "\n",
    "We're going start with an example of using profiles with the WhyLabs Observatory.\n",
    "\n",
    "We'll explore using whylogs for data validation & drift visualization after this!\n"
   ]
  },
  {
   "cell_type": "code",
   "execution_count": 14,
   "metadata": {
    "id": "MgHBpPlsUkxS"
   },
   "outputs": [],
   "source": [
    "from whylogs.api.writer.whylabs import WhyLabsWriter"
   ]
  },
  {
   "cell_type": "code",
   "execution_count": 15,
   "metadata": {
    "colab": {
     "base_uri": "https://localhost:8080/"
    },
    "id": "NZz5q5iTCnmX",
    "outputId": "ae858e6b-8f0b-4a16-8e53-f77d75fa1367"
   },
   "outputs": [
    {
     "name": "stdout",
     "output_type": "stream",
     "text": [
      "\n",
      "✅ Aggregated 150 rows into profile \n",
      "\n",
      "Visualize and explore this profile with one-click\n",
      "🔍 https://hub.whylabsapp.com/resources/model-6/profiles?profile=1726272000000\n"
     ]
    },
    {
     "data": {
      "text/html": [
       "<div>\n",
       "<style scoped>\n",
       "    .dataframe tbody tr th:only-of-type {\n",
       "        vertical-align: middle;\n",
       "    }\n",
       "\n",
       "    .dataframe tbody tr th {\n",
       "        vertical-align: top;\n",
       "    }\n",
       "\n",
       "    .dataframe thead th {\n",
       "        text-align: right;\n",
       "    }\n",
       "</style>\n",
       "<table border=\"1\" class=\"dataframe\">\n",
       "  <thead>\n",
       "    <tr style=\"text-align: right;\">\n",
       "      <th></th>\n",
       "      <th>cardinality/est</th>\n",
       "      <th>cardinality/lower_1</th>\n",
       "      <th>cardinality/upper_1</th>\n",
       "      <th>counts/inf</th>\n",
       "      <th>counts/n</th>\n",
       "      <th>counts/nan</th>\n",
       "      <th>counts/null</th>\n",
       "      <th>distribution/max</th>\n",
       "      <th>distribution/mean</th>\n",
       "      <th>distribution/median</th>\n",
       "      <th>distribution/min</th>\n",
       "      <th>distribution/n</th>\n",
       "      <th>distribution/q_01</th>\n",
       "      <th>distribution/q_05</th>\n",
       "      <th>distribution/q_10</th>\n",
       "      <th>distribution/q_25</th>\n",
       "      <th>distribution/q_75</th>\n",
       "      <th>distribution/q_90</th>\n",
       "      <th>distribution/q_95</th>\n",
       "      <th>distribution/q_99</th>\n",
       "      <th>distribution/stddev</th>\n",
       "      <th>type</th>\n",
       "      <th>types/boolean</th>\n",
       "      <th>types/fractional</th>\n",
       "      <th>types/integral</th>\n",
       "      <th>types/object</th>\n",
       "      <th>types/string</th>\n",
       "      <th>types/tensor</th>\n",
       "    </tr>\n",
       "    <tr>\n",
       "      <th>column</th>\n",
       "      <th></th>\n",
       "      <th></th>\n",
       "      <th></th>\n",
       "      <th></th>\n",
       "      <th></th>\n",
       "      <th></th>\n",
       "      <th></th>\n",
       "      <th></th>\n",
       "      <th></th>\n",
       "      <th></th>\n",
       "      <th></th>\n",
       "      <th></th>\n",
       "      <th></th>\n",
       "      <th></th>\n",
       "      <th></th>\n",
       "      <th></th>\n",
       "      <th></th>\n",
       "      <th></th>\n",
       "      <th></th>\n",
       "      <th></th>\n",
       "      <th></th>\n",
       "      <th></th>\n",
       "      <th></th>\n",
       "      <th></th>\n",
       "      <th></th>\n",
       "      <th></th>\n",
       "      <th></th>\n",
       "      <th></th>\n",
       "    </tr>\n",
       "  </thead>\n",
       "  <tbody>\n",
       "    <tr>\n",
       "      <th>petal length (cm)</th>\n",
       "      <td>42.000004</td>\n",
       "      <td>42.0</td>\n",
       "      <td>42.002101</td>\n",
       "      <td>0</td>\n",
       "      <td>150</td>\n",
       "      <td>0</td>\n",
       "      <td>0</td>\n",
       "      <td>6.8</td>\n",
       "      <td>3.775333</td>\n",
       "      <td>4.2</td>\n",
       "      <td>1.0</td>\n",
       "      <td>150</td>\n",
       "      <td>1.1</td>\n",
       "      <td>1.3</td>\n",
       "      <td>1.4</td>\n",
       "      <td>1.5</td>\n",
       "      <td>5.3</td>\n",
       "      <td>5.9</td>\n",
       "      <td>6.3</td>\n",
       "      <td>6.6</td>\n",
       "      <td>1.800669</td>\n",
       "      <td>SummaryType.COLUMN</td>\n",
       "      <td>0</td>\n",
       "      <td>150</td>\n",
       "      <td>0</td>\n",
       "      <td>0</td>\n",
       "      <td>0</td>\n",
       "      <td>0</td>\n",
       "    </tr>\n",
       "    <tr>\n",
       "      <th>petal width (cm)</th>\n",
       "      <td>24.000001</td>\n",
       "      <td>24.0</td>\n",
       "      <td>24.001200</td>\n",
       "      <td>0</td>\n",
       "      <td>150</td>\n",
       "      <td>0</td>\n",
       "      <td>0</td>\n",
       "      <td>2.5</td>\n",
       "      <td>1.168667</td>\n",
       "      <td>1.3</td>\n",
       "      <td>-0.0</td>\n",
       "      <td>150</td>\n",
       "      <td>-0.0</td>\n",
       "      <td>0.1</td>\n",
       "      <td>0.2</td>\n",
       "      <td>0.3</td>\n",
       "      <td>1.8</td>\n",
       "      <td>2.2</td>\n",
       "      <td>2.3</td>\n",
       "      <td>2.4</td>\n",
       "      <td>0.758499</td>\n",
       "      <td>SummaryType.COLUMN</td>\n",
       "      <td>0</td>\n",
       "      <td>150</td>\n",
       "      <td>0</td>\n",
       "      <td>0</td>\n",
       "      <td>0</td>\n",
       "      <td>0</td>\n",
       "    </tr>\n",
       "    <tr>\n",
       "      <th>sepal length (cm)</th>\n",
       "      <td>35.000003</td>\n",
       "      <td>35.0</td>\n",
       "      <td>35.001750</td>\n",
       "      <td>0</td>\n",
       "      <td>150</td>\n",
       "      <td>0</td>\n",
       "      <td>0</td>\n",
       "      <td>8.1</td>\n",
       "      <td>5.856000</td>\n",
       "      <td>5.8</td>\n",
       "      <td>4.0</td>\n",
       "      <td>150</td>\n",
       "      <td>4.3</td>\n",
       "      <td>4.5</td>\n",
       "      <td>4.8</td>\n",
       "      <td>5.1</td>\n",
       "      <td>6.6</td>\n",
       "      <td>7.0</td>\n",
       "      <td>7.2</td>\n",
       "      <td>7.7</td>\n",
       "      <td>0.874277</td>\n",
       "      <td>SummaryType.COLUMN</td>\n",
       "      <td>0</td>\n",
       "      <td>150</td>\n",
       "      <td>0</td>\n",
       "      <td>0</td>\n",
       "      <td>0</td>\n",
       "      <td>0</td>\n",
       "    </tr>\n",
       "    <tr>\n",
       "      <th>sepal width (cm)</th>\n",
       "      <td>20.000001</td>\n",
       "      <td>20.0</td>\n",
       "      <td>20.001000</td>\n",
       "      <td>0</td>\n",
       "      <td>150</td>\n",
       "      <td>0</td>\n",
       "      <td>0</td>\n",
       "      <td>4.4</td>\n",
       "      <td>3.100000</td>\n",
       "      <td>3.0</td>\n",
       "      <td>2.1</td>\n",
       "      <td>150</td>\n",
       "      <td>2.3</td>\n",
       "      <td>2.5</td>\n",
       "      <td>2.6</td>\n",
       "      <td>2.8</td>\n",
       "      <td>3.3</td>\n",
       "      <td>3.6</td>\n",
       "      <td>3.8</td>\n",
       "      <td>4.4</td>\n",
       "      <td>0.417567</td>\n",
       "      <td>SummaryType.COLUMN</td>\n",
       "      <td>0</td>\n",
       "      <td>150</td>\n",
       "      <td>0</td>\n",
       "      <td>0</td>\n",
       "      <td>0</td>\n",
       "      <td>0</td>\n",
       "    </tr>\n",
       "  </tbody>\n",
       "</table>\n",
       "</div>"
      ],
      "text/plain": [
       "                   cardinality/est  cardinality/lower_1  cardinality/upper_1  \\\n",
       "column                                                                         \n",
       "petal length (cm)        42.000004                 42.0            42.002101   \n",
       "petal width (cm)         24.000001                 24.0            24.001200   \n",
       "sepal length (cm)        35.000003                 35.0            35.001750   \n",
       "sepal width (cm)         20.000001                 20.0            20.001000   \n",
       "\n",
       "                   counts/inf  counts/n  counts/nan  counts/null  \\\n",
       "column                                                             \n",
       "petal length (cm)           0       150           0            0   \n",
       "petal width (cm)            0       150           0            0   \n",
       "sepal length (cm)           0       150           0            0   \n",
       "sepal width (cm)            0       150           0            0   \n",
       "\n",
       "                   distribution/max  distribution/mean  distribution/median  \\\n",
       "column                                                                        \n",
       "petal length (cm)               6.8           3.775333                  4.2   \n",
       "petal width (cm)                2.5           1.168667                  1.3   \n",
       "sepal length (cm)               8.1           5.856000                  5.8   \n",
       "sepal width (cm)                4.4           3.100000                  3.0   \n",
       "\n",
       "                   distribution/min  distribution/n  distribution/q_01  \\\n",
       "column                                                                   \n",
       "petal length (cm)               1.0             150                1.1   \n",
       "petal width (cm)               -0.0             150               -0.0   \n",
       "sepal length (cm)               4.0             150                4.3   \n",
       "sepal width (cm)                2.1             150                2.3   \n",
       "\n",
       "                   distribution/q_05  distribution/q_10  distribution/q_25  \\\n",
       "column                                                                       \n",
       "petal length (cm)                1.3                1.4                1.5   \n",
       "petal width (cm)                 0.1                0.2                0.3   \n",
       "sepal length (cm)                4.5                4.8                5.1   \n",
       "sepal width (cm)                 2.5                2.6                2.8   \n",
       "\n",
       "                   distribution/q_75  distribution/q_90  distribution/q_95  \\\n",
       "column                                                                       \n",
       "petal length (cm)                5.3                5.9                6.3   \n",
       "petal width (cm)                 1.8                2.2                2.3   \n",
       "sepal length (cm)                6.6                7.0                7.2   \n",
       "sepal width (cm)                 3.3                3.6                3.8   \n",
       "\n",
       "                   distribution/q_99  distribution/stddev                type  \\\n",
       "column                                                                          \n",
       "petal length (cm)                6.6             1.800669  SummaryType.COLUMN   \n",
       "petal width (cm)                 2.4             0.758499  SummaryType.COLUMN   \n",
       "sepal length (cm)                7.7             0.874277  SummaryType.COLUMN   \n",
       "sepal width (cm)                 4.4             0.417567  SummaryType.COLUMN   \n",
       "\n",
       "                   types/boolean  types/fractional  types/integral  \\\n",
       "column                                                               \n",
       "petal length (cm)              0               150               0   \n",
       "petal width (cm)               0               150               0   \n",
       "sepal length (cm)              0               150               0   \n",
       "sepal width (cm)               0               150               0   \n",
       "\n",
       "                   types/object  types/string  types/tensor  \n",
       "column                                                       \n",
       "petal length (cm)             0             0             0  \n",
       "petal width (cm)              0             0             0  \n",
       "sepal length (cm)             0             0             0  \n",
       "sepal width (cm)              0             0             0  "
      ]
     },
     "execution_count": 15,
     "metadata": {},
     "output_type": "execute_result"
    }
   ],
   "source": [
    "# Single Profile\n",
    "writer = WhyLabsWriter()\n",
    "profile= why.log(X_batch_1) # Create profile from a DataFrame by using why.log\n",
    "\n",
    "profile_view = profile.view()\n",
    "writer.write(file=profile_view)\n",
    "profile_view.to_pandas()\n",
    "# The distribution/q_90 indicates that 90% of the values in the dataset are below or equal to this value."
   ]
  },
  {
   "cell_type": "markdown",
   "metadata": {
    "id": "OaoYzdSqDBmx"
   },
   "source": [
    "## Write multiple profiles with different dates to backfill"
   ]
  },
  {
   "cell_type": "code",
   "execution_count": 16,
   "metadata": {
    "id": "PUPdYFR_7Qra"
   },
   "outputs": [
    {
     "name": "stdout",
     "output_type": "stream",
     "text": [
      "\n",
      "✅ Aggregated 150 rows into profile \n",
      "\n",
      "Visualize and explore this profile with one-click\n",
      "🔍 https://hub.whylabsapp.com/resources/model-6/profiles?profile=1726272000000\n",
      "\n",
      "✅ Aggregated 150 rows into profile \n",
      "\n",
      "Visualize and explore this profile with one-click\n",
      "🔍 https://hub.whylabsapp.com/resources/model-6/profiles?profile=1726272000000\n",
      "\n",
      "✅ Aggregated 150 rows into profile \n",
      "\n",
      "Visualize and explore this profile with one-click\n",
      "🔍 https://hub.whylabsapp.com/resources/model-6/profiles?profile=1726272000000\n",
      "\n",
      "✅ Aggregated 149 rows into profile \n",
      "\n",
      "Visualize and explore this profile with one-click\n",
      "🔍 https://hub.whylabsapp.com/resources/model-6/profiles?profile=1726272000000\n",
      "\n",
      "✅ Aggregated 150 rows into profile \n",
      "\n",
      "Visualize and explore this profile with one-click\n",
      "🔍 https://hub.whylabsapp.com/resources/model-6/profiles?profile=1726272000000\n",
      "\n",
      "✅ Aggregated 150 rows into profile \n",
      "\n",
      "Visualize and explore this profile with one-click\n",
      "🔍 https://hub.whylabsapp.com/resources/model-6/profiles?profile=1726272000000\n",
      "\n",
      "✅ Aggregated 150 rows into profile \n",
      "\n",
      "Visualize and explore this profile with one-click\n",
      "🔍 https://hub.whylabsapp.com/resources/model-6/profiles?profile=1726272000000\n"
     ]
    }
   ],
   "source": [
    "# initialize writer\n",
    "writer = WhyLabsWriter()\n",
    "\n",
    "# back fill 1 day per batch\n",
    "for i, df in enumerate(dfs):\n",
    "\n",
    "    # walking backwards. Each dataset has to map to a date to show up as a different batch in WhyLabs\n",
    "    dt = datetime.datetime.now(tz=datetime.timezone.utc) - datetime.timedelta(days=i)\n",
    "\n",
    "    # create profile for each batch of data\n",
    "    profile = why.log(df).profile()\n",
    "\n",
    "    # set the dataset timestamp for the profile\n",
    "    profile.set_dataset_timestamp(dt)\n",
    "    # write the profile to the WhyLabs platform\n",
    "    profile_view = profile.view()\n",
    "    writer.write(file=profile_view)"
   ]
  },
  {
   "cell_type": "markdown",
   "metadata": {
    "id": "-EhY4gaaMd_9"
   },
   "source": [
    "## Reference Profile - Training Data "
   ]
  },
  {
   "cell_type": "code",
   "execution_count": 17,
   "metadata": {
    "colab": {
     "base_uri": "https://localhost:8080/"
    },
    "id": "HXs5QrrvqaNY",
    "outputId": "e10c2792-e560-417f-acb9-d07064e9a165"
   },
   "outputs": [
    {
     "name": "stdout",
     "output_type": "stream",
     "text": [
      "\n",
      "✅ Aggregated 150 rows into profile \n",
      "\n",
      "Visualize and explore this profile with one-click\n",
      "🔍 https://hub.whylabsapp.com/resources/model-6/profiles?profile=1726272000000\n"
     ]
    },
    {
     "data": {
      "text/plain": [
       "(True, 'ref-PDzj1ZaGDUZl8APn')"
      ]
     },
     "execution_count": 17,
     "metadata": {},
     "output_type": "execute_result"
    }
   ],
   "source": [
    "ref_profile = why.log(df_iris.data).profile()\n",
    "writer = WhyLabsWriter().option(reference_profile_name=\"iris_training_profile\")\n",
    "writer.write(file=ref_profile.view())"
   ]
  },
  {
   "cell_type": "markdown",
   "metadata": {
    "id": "3DR_y0YDCL6n"
   },
   "source": [
    "## Logging output"
   ]
  },
  {
   "cell_type": "code",
   "execution_count": 18,
   "metadata": {
    "colab": {
     "base_uri": "https://localhost:8080/"
    },
    "id": "f4W-fVNaIDfF",
    "outputId": "9744f9bb-c8d7-487b-e0c1-4556367f1d92"
   },
   "outputs": [],
   "source": [
    "# Get predictions with model & append to df\n",
    "pred_dfs = dfs\n",
    "\n",
    "class_names = ['setosa', 'versicolor', 'virginica']\n",
    "\n",
    "for i, df in enumerate(pred_dfs):\n",
    "    y_pred = knn.predict(df)\n",
    "    y_prob = knn.predict_proba(df)\n",
    "    pred_scores = []\n",
    "    pred_classes = []\n",
    "\n",
    "    for pred in y_pred:\n",
    "      pred_classes.append(class_names[pred])\n",
    "\n",
    "    pd.options.mode.copy_on_write = True \n",
    "    df['cls_output'] = pred_classes\n",
    "    for prob in y_prob:\n",
    "      pred_scores.append(max(prob))\n",
    "    df['prob_output'] = pred_scores\n",
    "    # print(pred_scores)        "
   ]
  },
  {
   "cell_type": "code",
   "execution_count": 19,
   "metadata": {
    "colab": {
     "base_uri": "https://localhost:8080/",
     "height": 423
    },
    "id": "1LzG99NcIMsW",
    "outputId": "371fc7dc-cc23-4be8-8734-e4548c7832fc"
   },
   "outputs": [
    {
     "data": {
      "text/html": [
       "<div>\n",
       "<style scoped>\n",
       "    .dataframe tbody tr th:only-of-type {\n",
       "        vertical-align: middle;\n",
       "    }\n",
       "\n",
       "    .dataframe tbody tr th {\n",
       "        vertical-align: top;\n",
       "    }\n",
       "\n",
       "    .dataframe thead th {\n",
       "        text-align: right;\n",
       "    }\n",
       "</style>\n",
       "<table border=\"1\" class=\"dataframe\">\n",
       "  <thead>\n",
       "    <tr style=\"text-align: right;\">\n",
       "      <th></th>\n",
       "      <th>sepal length (cm)</th>\n",
       "      <th>sepal width (cm)</th>\n",
       "      <th>petal length (cm)</th>\n",
       "      <th>petal width (cm)</th>\n",
       "      <th>cls_output</th>\n",
       "      <th>prob_output</th>\n",
       "    </tr>\n",
       "  </thead>\n",
       "  <tbody>\n",
       "    <tr>\n",
       "      <th>0</th>\n",
       "      <td>5.2</td>\n",
       "      <td>2.9</td>\n",
       "      <td>1.2</td>\n",
       "      <td>0.3</td>\n",
       "      <td>setosa</td>\n",
       "      <td>1.0</td>\n",
       "    </tr>\n",
       "    <tr>\n",
       "      <th>1</th>\n",
       "      <td>5.5</td>\n",
       "      <td>2.6</td>\n",
       "      <td>4.5</td>\n",
       "      <td>1.2</td>\n",
       "      <td>versicolor</td>\n",
       "      <td>1.0</td>\n",
       "    </tr>\n",
       "    <tr>\n",
       "      <th>2</th>\n",
       "      <td>6.2</td>\n",
       "      <td>3.5</td>\n",
       "      <td>3.4</td>\n",
       "      <td>1.5</td>\n",
       "      <td>versicolor</td>\n",
       "      <td>1.0</td>\n",
       "    </tr>\n",
       "    <tr>\n",
       "      <th>3</th>\n",
       "      <td>5.0</td>\n",
       "      <td>3.4</td>\n",
       "      <td>1.5</td>\n",
       "      <td>0.1</td>\n",
       "      <td>setosa</td>\n",
       "      <td>1.0</td>\n",
       "    </tr>\n",
       "    <tr>\n",
       "      <th>4</th>\n",
       "      <td>5.3</td>\n",
       "      <td>3.2</td>\n",
       "      <td>1.3</td>\n",
       "      <td>0.3</td>\n",
       "      <td>setosa</td>\n",
       "      <td>1.0</td>\n",
       "    </tr>\n",
       "    <tr>\n",
       "      <th>...</th>\n",
       "      <td>...</td>\n",
       "      <td>...</td>\n",
       "      <td>...</td>\n",
       "      <td>...</td>\n",
       "      <td>...</td>\n",
       "      <td>...</td>\n",
       "    </tr>\n",
       "    <tr>\n",
       "      <th>145</th>\n",
       "      <td>4.7</td>\n",
       "      <td>3.2</td>\n",
       "      <td>5.1</td>\n",
       "      <td>1.1</td>\n",
       "      <td>versicolor</td>\n",
       "      <td>1.0</td>\n",
       "    </tr>\n",
       "    <tr>\n",
       "      <th>146</th>\n",
       "      <td>6.7</td>\n",
       "      <td>3.3</td>\n",
       "      <td>4.9</td>\n",
       "      <td>2.3</td>\n",
       "      <td>virginica</td>\n",
       "      <td>0.8</td>\n",
       "    </tr>\n",
       "    <tr>\n",
       "      <th>147</th>\n",
       "      <td>4.9</td>\n",
       "      <td>2.7</td>\n",
       "      <td>1.4</td>\n",
       "      <td>0.2</td>\n",
       "      <td>setosa</td>\n",
       "      <td>1.0</td>\n",
       "    </tr>\n",
       "    <tr>\n",
       "      <th>148</th>\n",
       "      <td>5.6</td>\n",
       "      <td>3.0</td>\n",
       "      <td>5.0</td>\n",
       "      <td>1.5</td>\n",
       "      <td>versicolor</td>\n",
       "      <td>0.6</td>\n",
       "    </tr>\n",
       "    <tr>\n",
       "      <th>149</th>\n",
       "      <td>4.8</td>\n",
       "      <td>3.4</td>\n",
       "      <td>1.5</td>\n",
       "      <td>0.2</td>\n",
       "      <td>setosa</td>\n",
       "      <td>1.0</td>\n",
       "    </tr>\n",
       "  </tbody>\n",
       "</table>\n",
       "<p>150 rows × 6 columns</p>\n",
       "</div>"
      ],
      "text/plain": [
       "     sepal length (cm)  sepal width (cm)  petal length (cm)  petal width (cm)  \\\n",
       "0                  5.2               2.9                1.2               0.3   \n",
       "1                  5.5               2.6                4.5               1.2   \n",
       "2                  6.2               3.5                3.4               1.5   \n",
       "3                  5.0               3.4                1.5               0.1   \n",
       "4                  5.3               3.2                1.3               0.3   \n",
       "..                 ...               ...                ...               ...   \n",
       "145                4.7               3.2                5.1               1.1   \n",
       "146                6.7               3.3                4.9               2.3   \n",
       "147                4.9               2.7                1.4               0.2   \n",
       "148                5.6               3.0                5.0               1.5   \n",
       "149                4.8               3.4                1.5               0.2   \n",
       "\n",
       "     cls_output  prob_output  \n",
       "0        setosa          1.0  \n",
       "1    versicolor          1.0  \n",
       "2    versicolor          1.0  \n",
       "3        setosa          1.0  \n",
       "4        setosa          1.0  \n",
       "..          ...          ...  \n",
       "145  versicolor          1.0  \n",
       "146   virginica          0.8  \n",
       "147      setosa          1.0  \n",
       "148  versicolor          0.6  \n",
       "149      setosa          1.0  \n",
       "\n",
       "[150 rows x 6 columns]"
      ]
     },
     "execution_count": 19,
     "metadata": {},
     "output_type": "execute_result"
    }
   ],
   "source": [
    "pred_dfs[-1]"
   ]
  },
  {
   "cell_type": "code",
   "execution_count": 21,
   "metadata": {
    "id": "cbV_rmoS9oGe"
   },
   "outputs": [
    {
     "name": "stdout",
     "output_type": "stream",
     "text": [
      "\n",
      "✅ Aggregated 150 rows into profile \n",
      "\n",
      "Visualize and explore this profile with one-click\n",
      "🔍 https://hub.whylabsapp.com/resources/model-6/profiles?profile=1726272000000\n",
      "\n",
      "✅ Aggregated 150 rows into profile \n",
      "\n",
      "Visualize and explore this profile with one-click\n",
      "🔍 https://hub.whylabsapp.com/resources/model-6/profiles?profile=1726272000000\n",
      "\n",
      "✅ Aggregated 150 rows into profile \n",
      "\n",
      "Visualize and explore this profile with one-click\n",
      "🔍 https://hub.whylabsapp.com/resources/model-6/profiles?profile=1726272000000\n",
      "\n",
      "✅ Aggregated 149 rows into profile \n",
      "\n",
      "Visualize and explore this profile with one-click\n",
      "🔍 https://hub.whylabsapp.com/resources/model-6/profiles?profile=1726272000000\n",
      "\n",
      "✅ Aggregated 150 rows into profile \n",
      "\n",
      "Visualize and explore this profile with one-click\n",
      "🔍 https://hub.whylabsapp.com/resources/model-6/profiles?profile=1726272000000\n",
      "\n",
      "✅ Aggregated 150 rows into profile \n",
      "\n",
      "Visualize and explore this profile with one-click\n",
      "🔍 https://hub.whylabsapp.com/resources/model-6/profiles?profile=1726272000000\n",
      "\n",
      "✅ Aggregated 150 rows into profile \n",
      "\n",
      "Visualize and explore this profile with one-click\n",
      "🔍 https://hub.whylabsapp.com/resources/model-6/profiles?profile=1726272000000\n"
     ]
    }
   ],
   "source": [
    "# Initialize WhyLabsWriter => Add two more column to Profile and 2 Outputs cls_output and prob_output\n",
    "writer = WhyLabsWriter()\n",
    "\n",
    "for i, df in enumerate(pred_dfs):\n",
    "\n",
    "    out_df = df[['cls_output', 'prob_output']].copy()\n",
    "   # walking backwards. Each dataset has to map to a date to show up as a different batch in WhyLabs\n",
    "    dt = datetime.datetime.now(tz=datetime.timezone.utc) - datetime.timedelta(days=i)\n",
    "    profile = why.log(out_df).profile()\n",
    "\n",
    "    # set the dataset timestamp for the profile\n",
    "    profile.set_dataset_timestamp(dt)\n",
    "    #write the profile to the WhyLabs platform\n",
    "    writer.write(file=profile.view())\n"
   ]
  },
  {
   "cell_type": "markdown",
   "metadata": {
    "id": "tONc51OQVuPD"
   },
   "source": [
    "## Log performance\n",
    "\n",
    "Instead of just logging outputs, if we have ground truth data we can also monitor performance metrics overtime.\n",
    "\n",
    "\n",
    "Classification:\n",
    "\n",
    "Regression:\n"
   ]
  },
  {
   "cell_type": "code",
   "execution_count": 22,
   "metadata": {
    "id": "ABKjCIJh9oNe"
   },
   "outputs": [
    {
     "data": {
      "text/html": [
       "<div>\n",
       "<style scoped>\n",
       "    .dataframe tbody tr th:only-of-type {\n",
       "        vertical-align: middle;\n",
       "    }\n",
       "\n",
       "    .dataframe tbody tr th {\n",
       "        vertical-align: top;\n",
       "    }\n",
       "\n",
       "    .dataframe thead th {\n",
       "        text-align: right;\n",
       "    }\n",
       "</style>\n",
       "<table border=\"1\" class=\"dataframe\">\n",
       "  <thead>\n",
       "    <tr style=\"text-align: right;\">\n",
       "      <th></th>\n",
       "      <th>sepal length (cm)</th>\n",
       "      <th>sepal width (cm)</th>\n",
       "      <th>petal length (cm)</th>\n",
       "      <th>petal width (cm)</th>\n",
       "      <th>cls_output</th>\n",
       "      <th>prob_output</th>\n",
       "    </tr>\n",
       "  </thead>\n",
       "  <tbody>\n",
       "    <tr>\n",
       "      <th>0</th>\n",
       "      <td>5.2</td>\n",
       "      <td>2.9</td>\n",
       "      <td>1.2</td>\n",
       "      <td>0.3</td>\n",
       "      <td>setosa</td>\n",
       "      <td>1.0</td>\n",
       "    </tr>\n",
       "    <tr>\n",
       "      <th>1</th>\n",
       "      <td>5.5</td>\n",
       "      <td>2.6</td>\n",
       "      <td>4.5</td>\n",
       "      <td>1.2</td>\n",
       "      <td>versicolor</td>\n",
       "      <td>1.0</td>\n",
       "    </tr>\n",
       "    <tr>\n",
       "      <th>2</th>\n",
       "      <td>6.2</td>\n",
       "      <td>3.5</td>\n",
       "      <td>3.4</td>\n",
       "      <td>1.5</td>\n",
       "      <td>versicolor</td>\n",
       "      <td>1.0</td>\n",
       "    </tr>\n",
       "    <tr>\n",
       "      <th>3</th>\n",
       "      <td>5.0</td>\n",
       "      <td>3.4</td>\n",
       "      <td>1.5</td>\n",
       "      <td>0.1</td>\n",
       "      <td>setosa</td>\n",
       "      <td>1.0</td>\n",
       "    </tr>\n",
       "    <tr>\n",
       "      <th>4</th>\n",
       "      <td>5.3</td>\n",
       "      <td>3.2</td>\n",
       "      <td>1.3</td>\n",
       "      <td>0.3</td>\n",
       "      <td>setosa</td>\n",
       "      <td>1.0</td>\n",
       "    </tr>\n",
       "    <tr>\n",
       "      <th>...</th>\n",
       "      <td>...</td>\n",
       "      <td>...</td>\n",
       "      <td>...</td>\n",
       "      <td>...</td>\n",
       "      <td>...</td>\n",
       "      <td>...</td>\n",
       "    </tr>\n",
       "    <tr>\n",
       "      <th>145</th>\n",
       "      <td>4.7</td>\n",
       "      <td>3.2</td>\n",
       "      <td>5.1</td>\n",
       "      <td>1.1</td>\n",
       "      <td>versicolor</td>\n",
       "      <td>1.0</td>\n",
       "    </tr>\n",
       "    <tr>\n",
       "      <th>146</th>\n",
       "      <td>6.7</td>\n",
       "      <td>3.3</td>\n",
       "      <td>4.9</td>\n",
       "      <td>2.3</td>\n",
       "      <td>virginica</td>\n",
       "      <td>0.8</td>\n",
       "    </tr>\n",
       "    <tr>\n",
       "      <th>147</th>\n",
       "      <td>4.9</td>\n",
       "      <td>2.7</td>\n",
       "      <td>1.4</td>\n",
       "      <td>0.2</td>\n",
       "      <td>setosa</td>\n",
       "      <td>1.0</td>\n",
       "    </tr>\n",
       "    <tr>\n",
       "      <th>148</th>\n",
       "      <td>5.6</td>\n",
       "      <td>3.0</td>\n",
       "      <td>5.0</td>\n",
       "      <td>1.5</td>\n",
       "      <td>versicolor</td>\n",
       "      <td>0.6</td>\n",
       "    </tr>\n",
       "    <tr>\n",
       "      <th>149</th>\n",
       "      <td>4.8</td>\n",
       "      <td>3.4</td>\n",
       "      <td>1.5</td>\n",
       "      <td>0.2</td>\n",
       "      <td>setosa</td>\n",
       "      <td>1.0</td>\n",
       "    </tr>\n",
       "  </tbody>\n",
       "</table>\n",
       "<p>150 rows × 6 columns</p>\n",
       "</div>"
      ],
      "text/plain": [
       "     sepal length (cm)  sepal width (cm)  petal length (cm)  petal width (cm)  \\\n",
       "0                  5.2               2.9                1.2               0.3   \n",
       "1                  5.5               2.6                4.5               1.2   \n",
       "2                  6.2               3.5                3.4               1.5   \n",
       "3                  5.0               3.4                1.5               0.1   \n",
       "4                  5.3               3.2                1.3               0.3   \n",
       "..                 ...               ...                ...               ...   \n",
       "145                4.7               3.2                5.1               1.1   \n",
       "146                6.7               3.3                4.9               2.3   \n",
       "147                4.9               2.7                1.4               0.2   \n",
       "148                5.6               3.0                5.0               1.5   \n",
       "149                4.8               3.4                1.5               0.2   \n",
       "\n",
       "     cls_output  prob_output  \n",
       "0        setosa          1.0  \n",
       "1    versicolor          1.0  \n",
       "2    versicolor          1.0  \n",
       "3        setosa          1.0  \n",
       "4        setosa          1.0  \n",
       "..          ...          ...  \n",
       "145  versicolor          1.0  \n",
       "146   virginica          0.8  \n",
       "147      setosa          1.0  \n",
       "148  versicolor          0.6  \n",
       "149      setosa          1.0  \n",
       "\n",
       "[150 rows x 6 columns]"
      ]
     },
     "execution_count": 22,
     "metadata": {},
     "output_type": "execute_result"
    }
   ],
   "source": [
    "pred_dfs[-1]"
   ]
  },
  {
   "cell_type": "code",
   "execution_count": 23,
   "metadata": {
    "id": "SV17fadTNbSG"
   },
   "outputs": [],
   "source": [
    "# Append ground truth data to dataframe ground_truth = target column\n",
    "for i, df in enumerate(pred_dfs):\n",
    "    df['ground_truth'] = df_target[i]"
   ]
  },
  {
   "cell_type": "code",
   "execution_count": 24,
   "metadata": {
    "id": "FDVEon3oUR8v"
   },
   "outputs": [
    {
     "data": {
      "text/html": [
       "<div>\n",
       "<style scoped>\n",
       "    .dataframe tbody tr th:only-of-type {\n",
       "        vertical-align: middle;\n",
       "    }\n",
       "\n",
       "    .dataframe tbody tr th {\n",
       "        vertical-align: top;\n",
       "    }\n",
       "\n",
       "    .dataframe thead th {\n",
       "        text-align: right;\n",
       "    }\n",
       "</style>\n",
       "<table border=\"1\" class=\"dataframe\">\n",
       "  <thead>\n",
       "    <tr style=\"text-align: right;\">\n",
       "      <th></th>\n",
       "      <th>sepal length (cm)</th>\n",
       "      <th>sepal width (cm)</th>\n",
       "      <th>petal length (cm)</th>\n",
       "      <th>petal width (cm)</th>\n",
       "      <th>cls_output</th>\n",
       "      <th>prob_output</th>\n",
       "      <th>ground_truth</th>\n",
       "    </tr>\n",
       "  </thead>\n",
       "  <tbody>\n",
       "    <tr>\n",
       "      <th>0</th>\n",
       "      <td>5.5</td>\n",
       "      <td>3.2</td>\n",
       "      <td>1.5</td>\n",
       "      <td>-0.0</td>\n",
       "      <td>setosa</td>\n",
       "      <td>1.0</td>\n",
       "      <td>setosa</td>\n",
       "    </tr>\n",
       "    <tr>\n",
       "      <th>1</th>\n",
       "      <td>6.2</td>\n",
       "      <td>2.5</td>\n",
       "      <td>3.9</td>\n",
       "      <td>1.2</td>\n",
       "      <td>versicolor</td>\n",
       "      <td>1.0</td>\n",
       "      <td>versicolor</td>\n",
       "    </tr>\n",
       "    <tr>\n",
       "      <th>2</th>\n",
       "      <td>5.9</td>\n",
       "      <td>3.1</td>\n",
       "      <td>4.4</td>\n",
       "      <td>1.3</td>\n",
       "      <td>versicolor</td>\n",
       "      <td>1.0</td>\n",
       "      <td>versicolor</td>\n",
       "    </tr>\n",
       "    <tr>\n",
       "      <th>3</th>\n",
       "      <td>6.1</td>\n",
       "      <td>3.0</td>\n",
       "      <td>6.4</td>\n",
       "      <td>1.9</td>\n",
       "      <td>virginica</td>\n",
       "      <td>1.0</td>\n",
       "      <td>virginica</td>\n",
       "    </tr>\n",
       "    <tr>\n",
       "      <th>4</th>\n",
       "      <td>6.6</td>\n",
       "      <td>3.3</td>\n",
       "      <td>6.4</td>\n",
       "      <td>1.8</td>\n",
       "      <td>virginica</td>\n",
       "      <td>1.0</td>\n",
       "      <td>virginica</td>\n",
       "    </tr>\n",
       "    <tr>\n",
       "      <th>...</th>\n",
       "      <td>...</td>\n",
       "      <td>...</td>\n",
       "      <td>...</td>\n",
       "      <td>...</td>\n",
       "      <td>...</td>\n",
       "      <td>...</td>\n",
       "      <td>...</td>\n",
       "    </tr>\n",
       "    <tr>\n",
       "      <th>145</th>\n",
       "      <td>5.6</td>\n",
       "      <td>3.0</td>\n",
       "      <td>3.6</td>\n",
       "      <td>1.1</td>\n",
       "      <td>versicolor</td>\n",
       "      <td>1.0</td>\n",
       "      <td>versicolor</td>\n",
       "    </tr>\n",
       "    <tr>\n",
       "      <th>146</th>\n",
       "      <td>5.2</td>\n",
       "      <td>3.5</td>\n",
       "      <td>1.4</td>\n",
       "      <td>0.1</td>\n",
       "      <td>setosa</td>\n",
       "      <td>1.0</td>\n",
       "      <td>setosa</td>\n",
       "    </tr>\n",
       "    <tr>\n",
       "      <th>147</th>\n",
       "      <td>6.8</td>\n",
       "      <td>2.9</td>\n",
       "      <td>4.7</td>\n",
       "      <td>1.3</td>\n",
       "      <td>versicolor</td>\n",
       "      <td>1.0</td>\n",
       "      <td>versicolor</td>\n",
       "    </tr>\n",
       "    <tr>\n",
       "      <th>148</th>\n",
       "      <td>4.6</td>\n",
       "      <td>3.5</td>\n",
       "      <td>1.4</td>\n",
       "      <td>0.2</td>\n",
       "      <td>setosa</td>\n",
       "      <td>1.0</td>\n",
       "      <td>setosa</td>\n",
       "    </tr>\n",
       "    <tr>\n",
       "      <th>149</th>\n",
       "      <td>6.4</td>\n",
       "      <td>3.1</td>\n",
       "      <td>5.4</td>\n",
       "      <td>2.2</td>\n",
       "      <td>virginica</td>\n",
       "      <td>1.0</td>\n",
       "      <td>virginica</td>\n",
       "    </tr>\n",
       "  </tbody>\n",
       "</table>\n",
       "<p>150 rows × 7 columns</p>\n",
       "</div>"
      ],
      "text/plain": [
       "     sepal length (cm)  sepal width (cm)  petal length (cm)  petal width (cm)  \\\n",
       "0                  5.5               3.2                1.5              -0.0   \n",
       "1                  6.2               2.5                3.9               1.2   \n",
       "2                  5.9               3.1                4.4               1.3   \n",
       "3                  6.1               3.0                6.4               1.9   \n",
       "4                  6.6               3.3                6.4               1.8   \n",
       "..                 ...               ...                ...               ...   \n",
       "145                5.6               3.0                3.6               1.1   \n",
       "146                5.2               3.5                1.4               0.1   \n",
       "147                6.8               2.9                4.7               1.3   \n",
       "148                4.6               3.5                1.4               0.2   \n",
       "149                6.4               3.1                5.4               2.2   \n",
       "\n",
       "     cls_output  prob_output ground_truth  \n",
       "0        setosa          1.0       setosa  \n",
       "1    versicolor          1.0   versicolor  \n",
       "2    versicolor          1.0   versicolor  \n",
       "3     virginica          1.0    virginica  \n",
       "4     virginica          1.0    virginica  \n",
       "..          ...          ...          ...  \n",
       "145  versicolor          1.0   versicolor  \n",
       "146      setosa          1.0       setosa  \n",
       "147  versicolor          1.0   versicolor  \n",
       "148      setosa          1.0       setosa  \n",
       "149   virginica          1.0    virginica  \n",
       "\n",
       "[150 rows x 7 columns]"
      ]
     },
     "execution_count": 24,
     "metadata": {},
     "output_type": "execute_result"
    }
   ],
   "source": [
    "pred_dfs[0]"
   ]
  },
  {
   "cell_type": "code",
   "execution_count": 25,
   "metadata": {
    "id": "sgbPtZ-a298g"
   },
   "outputs": [],
   "source": [
    "# Log performance\n",
    "\n",
    "for i, df in enumerate(pred_dfs):\n",
    "\n",
    "  results = why.log_classification_metrics(\n",
    "          df,\n",
    "          target_column = \"ground_truth\",\n",
    "          prediction_column = \"cls_output\",\n",
    "          score_column=\"prob_output\"\n",
    "      )\n",
    "   # walking backwards. Each dataset has to map to a date to show up as a different batch in WhyLabs\n",
    "  dt = datetime.datetime.now(tz=datetime.timezone.utc) - datetime.timedelta(days=i)\n",
    "\n",
    "  profile = results.profile()\n",
    "  profile.set_dataset_timestamp(dt)\n",
    "\n",
    "  results.writer(\"whylabs\").write()"
   ]
  },
  {
   "cell_type": "code",
   "execution_count": null,
   "metadata": {},
   "outputs": [],
   "source": []
  },
  {
   "cell_type": "markdown",
   "metadata": {
    "id": "jRDctvTYW7VT"
   },
   "source": [
    "# 2. Monitoring for Bias & Fairness with Tracing & Explainability\n",
    "\n"
   ]
  },
  {
   "cell_type": "code",
   "execution_count": 27,
   "metadata": {
    "id": "z2aYxyLxt8JL"
   },
   "outputs": [],
   "source": [
    "# Imports\n",
    "import whylogs as why\n",
    "import numpy as np\n",
    "import pandas as pd\n",
    "import datetime\n",
    "import os\n",
    "\n",
    "from sklearn.model_selection import train_test_split\n",
    "from sklearn.datasets import load_iris\n",
    "\n",
    "pd.set_option(\"display.max_columns\", None)"
   ]
  },
  {
   "cell_type": "code",
   "execution_count": 28,
   "metadata": {
    "colab": {
     "base_uri": "https://localhost:8080/"
    },
    "id": "O_7sSMA1ORDw",
    "outputId": "d7112a19-2a6c-4d07-f36f-3ef34a617ff3"
   },
   "outputs": [
    {
     "name": "stdout",
     "output_type": "stream",
     "text": [
      "['setosa', 'versicolor', 'virginica']\n",
      "['sepal length (cm)', 'sepal width (cm)', 'petal length (cm)', 'petal width (cm)']\n"
     ]
    }
   ],
   "source": [
    "# Load iris data as dataframe(df)\n",
    "df_iris = load_iris(as_frame=True)\n",
    "\n",
    "print(list(df_iris.target_names))\n",
    "print(list(df_iris.feature_names))"
   ]
  },
  {
   "cell_type": "markdown",
   "metadata": {
    "id": "JFiVd4ZhxqZ5"
   },
   "source": [
    "## Train a Machine Learning Model (quickly)"
   ]
  },
  {
   "cell_type": "code",
   "execution_count": 29,
   "metadata": {
    "colab": {
     "base_uri": "https://localhost:8080/"
    },
    "id": "Xj-UtdLTORGM",
    "outputId": "8297c22c-6aac-461b-c45d-58bb3d232ba5"
   },
   "outputs": [
    {
     "data": {
      "text/plain": [
       "0.9777777777777777"
      ]
     },
     "execution_count": 29,
     "metadata": {},
     "output_type": "execute_result"
    }
   ],
   "source": [
    "from sklearn import neighbors\n",
    "knn = neighbors.KNeighborsClassifier(n_neighbors=5)\n",
    "\n",
    "X, y = df_iris.data, df_iris.target\n",
    "\n",
    "X_train, X_test, y_train, y_test = train_test_split(X, y,\n",
    "                                                    test_size=0.3,\n",
    "                                                    random_state=42,\n",
    "                                                    stratify=y)\n",
    "# Train model\n",
    "knn.fit(X_train, y_train)\n",
    "\n",
    "# Predict the labels on test data sset\n",
    "y_pred = knn.predict(X_test)\n",
    "\n",
    "# Print model accuracy\n",
    "knn.score(X_test, y_test)"
   ]
  },
  {
   "cell_type": "markdown",
   "metadata": {
    "id": "uwWYPxFBw11o"
   },
   "source": [
    "## Import data batches"
   ]
  },
  {
   "cell_type": "code",
   "execution_count": 30,
   "metadata": {
    "id": "7oW7q0nqqpcE"
   },
   "outputs": [],
   "source": [
    " # Import data batches\n",
    "url = 'https://raw.githubusercontent.com/christseng89/Complete-MLOps-BootCamp/main/ML-Monitoring-WhyLogs/datasets/iris_8_statefl_1.csv'\n",
    "batch_data_1 = pd.read_csv(url)\n",
    "\n",
    "url2 = 'https://raw.githubusercontent.com/christseng89/Complete-MLOps-BootCamp/main/ML-Monitoring-WhyLogs/datasets/iris_9_statefl_1.csv'\n",
    "batch_data_2 = pd.read_csv(url2)\n",
    "\n",
    "url3 = 'https://raw.githubusercontent.com/christseng89/Complete-MLOps-BootCamp/main/ML-Monitoring-WhyLogs/datasets/iris_10_statefl_1.csv'\n",
    "batch_data_3 = pd.read_csv(url3)\n",
    "\n",
    "url4 = 'https://raw.githubusercontent.com/christseng89/Complete-MLOps-BootCamp/main/ML-Monitoring-WhyLogs/datasets/iris_11_statefl_1.csv'\n",
    "batch_data_4 = pd.read_csv(url4)\n",
    "\n",
    "url5 = 'https://raw.githubusercontent.com/christseng89/Complete-MLOps-BootCamp/main/ML-Monitoring-WhyLogs/datasets/iris_12_statefl_1.csv'\n",
    "batch_data_5 = pd.read_csv(url5)\n",
    "\n",
    "url6 = 'https://raw.githubusercontent.com/christseng89/Complete-MLOps-BootCamp/main/ML-Monitoring-WhyLogs/datasets/iris_13_statefl_1.csv'\n",
    "batch_data_6 = pd.read_csv(url6)\n",
    "\n",
    "url7 = 'https://raw.githubusercontent.com/christseng89/Complete-MLOps-BootCamp/main/ML-Monitoring-WhyLogs/datasets/iris_14_statefl_1.csv'\n",
    "batch_data_7 = pd.read_csv(url7)\n",
    "\n",
    "# iris feature names\n",
    "feature_names = ['sepal length (cm)', 'sepal width (cm)','petal length (cm)','petal width (cm)', 'state']\n",
    "\n",
    "# separate targets\n",
    "X_batch_1 = batch_data_1[feature_names]\n",
    "X_batch_2 = batch_data_2[feature_names]\n",
    "X_batch_3 = batch_data_3[feature_names]\n",
    "X_batch_4 = batch_data_4[feature_names]\n",
    "X_batch_5 = batch_data_5[feature_names]\n",
    "X_batch_6 = batch_data_6[feature_names]\n",
    "X_batch_7 = batch_data_7[feature_names]\n",
    "\n",
    "# We'll save the target values for later!\n",
    "y_batch_1 = batch_data_1['target']\n",
    "y_batch_2 = batch_data_2['target']\n",
    "y_batch_3 = batch_data_3['target']\n",
    "y_batch_4 = batch_data_4['target']\n",
    "y_batch_5 = batch_data_5['target']\n",
    "y_batch_6 = batch_data_6['target']\n",
    "y_batch_7 = batch_data_7['target']\n",
    "\n",
    "\n",
    "# create list of our batches\n",
    "dfs = [X_batch_1, X_batch_4, X_batch_5, X_batch_6, X_batch_2, X_batch_3, X_batch_7]\n",
    "\n",
    "df_target = [y_batch_1, y_batch_4, y_batch_5, y_batch_6, y_batch_2, y_batch_3, y_batch_7]\n"
   ]
  },
  {
   "cell_type": "code",
   "execution_count": 31,
   "metadata": {
    "colab": {
     "base_uri": "https://localhost:8080/",
     "height": 206
    },
    "id": "8cLAQ0MLORKc",
    "outputId": "1b313c00-df12-421b-ea3e-cc25e0169c4d"
   },
   "outputs": [
    {
     "data": {
      "text/html": [
       "<div>\n",
       "<style scoped>\n",
       "    .dataframe tbody tr th:only-of-type {\n",
       "        vertical-align: middle;\n",
       "    }\n",
       "\n",
       "    .dataframe tbody tr th {\n",
       "        vertical-align: top;\n",
       "    }\n",
       "\n",
       "    .dataframe thead th {\n",
       "        text-align: right;\n",
       "    }\n",
       "</style>\n",
       "<table border=\"1\" class=\"dataframe\">\n",
       "  <thead>\n",
       "    <tr style=\"text-align: right;\">\n",
       "      <th></th>\n",
       "      <th>sepal length (cm)</th>\n",
       "      <th>sepal width (cm)</th>\n",
       "      <th>petal length (cm)</th>\n",
       "      <th>petal width (cm)</th>\n",
       "      <th>state</th>\n",
       "    </tr>\n",
       "  </thead>\n",
       "  <tbody>\n",
       "    <tr>\n",
       "      <th>0</th>\n",
       "      <td>4.9</td>\n",
       "      <td>4.0</td>\n",
       "      <td>1.6</td>\n",
       "      <td>0.3</td>\n",
       "      <td>Karnataka</td>\n",
       "    </tr>\n",
       "    <tr>\n",
       "      <th>1</th>\n",
       "      <td>4.9</td>\n",
       "      <td>3.5</td>\n",
       "      <td>1.3</td>\n",
       "      <td>0.1</td>\n",
       "      <td>Karnataka</td>\n",
       "    </tr>\n",
       "    <tr>\n",
       "      <th>2</th>\n",
       "      <td>5.9</td>\n",
       "      <td>3.0</td>\n",
       "      <td>5.1</td>\n",
       "      <td>1.3</td>\n",
       "      <td>Karnataka</td>\n",
       "    </tr>\n",
       "    <tr>\n",
       "      <th>3</th>\n",
       "      <td>5.2</td>\n",
       "      <td>3.3</td>\n",
       "      <td>1.6</td>\n",
       "      <td>0.3</td>\n",
       "      <td>Karnataka</td>\n",
       "    </tr>\n",
       "    <tr>\n",
       "      <th>4</th>\n",
       "      <td>4.6</td>\n",
       "      <td>3.2</td>\n",
       "      <td>1.2</td>\n",
       "      <td>0.3</td>\n",
       "      <td>Karnataka</td>\n",
       "    </tr>\n",
       "  </tbody>\n",
       "</table>\n",
       "</div>"
      ],
      "text/plain": [
       "   sepal length (cm)  sepal width (cm)  petal length (cm)  petal width (cm)  \\\n",
       "0                4.9               4.0                1.6               0.3   \n",
       "1                4.9               3.5                1.3               0.1   \n",
       "2                5.9               3.0                5.1               1.3   \n",
       "3                5.2               3.3                1.6               0.3   \n",
       "4                4.6               3.2                1.2               0.3   \n",
       "\n",
       "       state  \n",
       "0  Karnataka  \n",
       "1  Karnataka  \n",
       "2  Karnataka  \n",
       "3  Karnataka  \n",
       "4  Karnataka  "
      ]
     },
     "execution_count": 31,
     "metadata": {},
     "output_type": "execute_result"
    }
   ],
   "source": [
    "dfs[0].head()"
   ]
  },
  {
   "cell_type": "markdown",
   "metadata": {
    "id": "FGs12cQFtWtz"
   },
   "source": [
    "\n",
    "## Creating profiles with whylogs\n",
    "\n",
    "\n",
    "Profiles generated with whylogs are:\n",
    "\n",
    "- Secure\n",
    "- Efficient\n",
    "- Customizable\n",
    "- Mergeable"
   ]
  },
  {
   "cell_type": "code",
   "execution_count": 32,
   "metadata": {
    "colab": {
     "base_uri": "https://localhost:8080/",
     "height": 413
    },
    "id": "6DmNVWvHORO2",
    "outputId": "b482e39c-7e61-4a08-9fad-e5fb2e3a0059"
   },
   "outputs": [
    {
     "name": "stdout",
     "output_type": "stream",
     "text": [
      "\n",
      "✅ Aggregated 150 rows into profile \n",
      "\n",
      "Visualize and explore this profile with one-click\n",
      "🔍 https://hub.whylabsapp.com/resources/model-7/profiles?profile=1726272000000\n"
     ]
    },
    {
     "data": {
      "text/html": [
       "<div>\n",
       "<style scoped>\n",
       "    .dataframe tbody tr th:only-of-type {\n",
       "        vertical-align: middle;\n",
       "    }\n",
       "\n",
       "    .dataframe tbody tr th {\n",
       "        vertical-align: top;\n",
       "    }\n",
       "\n",
       "    .dataframe thead th {\n",
       "        text-align: right;\n",
       "    }\n",
       "</style>\n",
       "<table border=\"1\" class=\"dataframe\">\n",
       "  <thead>\n",
       "    <tr style=\"text-align: right;\">\n",
       "      <th></th>\n",
       "      <th>cardinality/est</th>\n",
       "      <th>cardinality/lower_1</th>\n",
       "      <th>cardinality/upper_1</th>\n",
       "      <th>counts/inf</th>\n",
       "      <th>counts/n</th>\n",
       "      <th>counts/nan</th>\n",
       "      <th>counts/null</th>\n",
       "      <th>distribution/max</th>\n",
       "      <th>distribution/mean</th>\n",
       "      <th>distribution/median</th>\n",
       "      <th>distribution/min</th>\n",
       "      <th>distribution/n</th>\n",
       "      <th>distribution/q_01</th>\n",
       "      <th>distribution/q_05</th>\n",
       "      <th>distribution/q_10</th>\n",
       "      <th>distribution/q_25</th>\n",
       "      <th>distribution/q_75</th>\n",
       "      <th>distribution/q_90</th>\n",
       "      <th>distribution/q_95</th>\n",
       "      <th>distribution/q_99</th>\n",
       "      <th>distribution/stddev</th>\n",
       "      <th>type</th>\n",
       "      <th>types/boolean</th>\n",
       "      <th>types/fractional</th>\n",
       "      <th>types/integral</th>\n",
       "      <th>types/object</th>\n",
       "      <th>types/string</th>\n",
       "      <th>types/tensor</th>\n",
       "      <th>frequent_items/frequent_strings</th>\n",
       "    </tr>\n",
       "    <tr>\n",
       "      <th>column</th>\n",
       "      <th></th>\n",
       "      <th></th>\n",
       "      <th></th>\n",
       "      <th></th>\n",
       "      <th></th>\n",
       "      <th></th>\n",
       "      <th></th>\n",
       "      <th></th>\n",
       "      <th></th>\n",
       "      <th></th>\n",
       "      <th></th>\n",
       "      <th></th>\n",
       "      <th></th>\n",
       "      <th></th>\n",
       "      <th></th>\n",
       "      <th></th>\n",
       "      <th></th>\n",
       "      <th></th>\n",
       "      <th></th>\n",
       "      <th></th>\n",
       "      <th></th>\n",
       "      <th></th>\n",
       "      <th></th>\n",
       "      <th></th>\n",
       "      <th></th>\n",
       "      <th></th>\n",
       "      <th></th>\n",
       "      <th></th>\n",
       "      <th></th>\n",
       "    </tr>\n",
       "  </thead>\n",
       "  <tbody>\n",
       "    <tr>\n",
       "      <th>petal length (cm)</th>\n",
       "      <td>49.000006</td>\n",
       "      <td>49.0</td>\n",
       "      <td>49.002452</td>\n",
       "      <td>0</td>\n",
       "      <td>150</td>\n",
       "      <td>0</td>\n",
       "      <td>0</td>\n",
       "      <td>7.5</td>\n",
       "      <td>4.041333</td>\n",
       "      <td>4.3</td>\n",
       "      <td>1.1</td>\n",
       "      <td>150</td>\n",
       "      <td>1.1</td>\n",
       "      <td>1.3</td>\n",
       "      <td>1.5</td>\n",
       "      <td>2.4</td>\n",
       "      <td>5.4</td>\n",
       "      <td>6.2</td>\n",
       "      <td>6.8</td>\n",
       "      <td>7.5</td>\n",
       "      <td>1.776664</td>\n",
       "      <td>SummaryType.COLUMN</td>\n",
       "      <td>0</td>\n",
       "      <td>150</td>\n",
       "      <td>0</td>\n",
       "      <td>0</td>\n",
       "      <td>0</td>\n",
       "      <td>0</td>\n",
       "      <td>NaN</td>\n",
       "    </tr>\n",
       "    <tr>\n",
       "      <th>petal width (cm)</th>\n",
       "      <td>24.000001</td>\n",
       "      <td>24.0</td>\n",
       "      <td>24.001200</td>\n",
       "      <td>0</td>\n",
       "      <td>150</td>\n",
       "      <td>0</td>\n",
       "      <td>0</td>\n",
       "      <td>2.7</td>\n",
       "      <td>1.207333</td>\n",
       "      <td>1.3</td>\n",
       "      <td>0.0</td>\n",
       "      <td>150</td>\n",
       "      <td>0.1</td>\n",
       "      <td>0.1</td>\n",
       "      <td>0.2</td>\n",
       "      <td>0.3</td>\n",
       "      <td>1.9</td>\n",
       "      <td>2.2</td>\n",
       "      <td>2.4</td>\n",
       "      <td>2.5</td>\n",
       "      <td>0.769651</td>\n",
       "      <td>SummaryType.COLUMN</td>\n",
       "      <td>0</td>\n",
       "      <td>150</td>\n",
       "      <td>0</td>\n",
       "      <td>0</td>\n",
       "      <td>0</td>\n",
       "      <td>0</td>\n",
       "      <td>NaN</td>\n",
       "    </tr>\n",
       "    <tr>\n",
       "      <th>sepal length (cm)</th>\n",
       "      <td>33.000003</td>\n",
       "      <td>33.0</td>\n",
       "      <td>33.001650</td>\n",
       "      <td>0</td>\n",
       "      <td>150</td>\n",
       "      <td>0</td>\n",
       "      <td>0</td>\n",
       "      <td>7.7</td>\n",
       "      <td>5.856000</td>\n",
       "      <td>5.8</td>\n",
       "      <td>4.2</td>\n",
       "      <td>150</td>\n",
       "      <td>4.2</td>\n",
       "      <td>4.7</td>\n",
       "      <td>4.9</td>\n",
       "      <td>5.1</td>\n",
       "      <td>6.5</td>\n",
       "      <td>7.1</td>\n",
       "      <td>7.2</td>\n",
       "      <td>7.7</td>\n",
       "      <td>0.847775</td>\n",
       "      <td>SummaryType.COLUMN</td>\n",
       "      <td>0</td>\n",
       "      <td>150</td>\n",
       "      <td>0</td>\n",
       "      <td>0</td>\n",
       "      <td>0</td>\n",
       "      <td>0</td>\n",
       "      <td>NaN</td>\n",
       "    </tr>\n",
       "    <tr>\n",
       "      <th>sepal width (cm)</th>\n",
       "      <td>19.000001</td>\n",
       "      <td>19.0</td>\n",
       "      <td>19.000950</td>\n",
       "      <td>0</td>\n",
       "      <td>150</td>\n",
       "      <td>0</td>\n",
       "      <td>0</td>\n",
       "      <td>4.0</td>\n",
       "      <td>2.996000</td>\n",
       "      <td>2.9</td>\n",
       "      <td>2.2</td>\n",
       "      <td>150</td>\n",
       "      <td>2.2</td>\n",
       "      <td>2.3</td>\n",
       "      <td>2.4</td>\n",
       "      <td>2.7</td>\n",
       "      <td>3.3</td>\n",
       "      <td>3.6</td>\n",
       "      <td>3.8</td>\n",
       "      <td>4.0</td>\n",
       "      <td>0.448395</td>\n",
       "      <td>SummaryType.COLUMN</td>\n",
       "      <td>0</td>\n",
       "      <td>150</td>\n",
       "      <td>0</td>\n",
       "      <td>0</td>\n",
       "      <td>0</td>\n",
       "      <td>0</td>\n",
       "      <td>NaN</td>\n",
       "    </tr>\n",
       "    <tr>\n",
       "      <th>state</th>\n",
       "      <td>3.000000</td>\n",
       "      <td>3.0</td>\n",
       "      <td>3.000150</td>\n",
       "      <td>0</td>\n",
       "      <td>150</td>\n",
       "      <td>0</td>\n",
       "      <td>0</td>\n",
       "      <td>NaN</td>\n",
       "      <td>0.000000</td>\n",
       "      <td>NaN</td>\n",
       "      <td>NaN</td>\n",
       "      <td>0</td>\n",
       "      <td>NaN</td>\n",
       "      <td>NaN</td>\n",
       "      <td>NaN</td>\n",
       "      <td>NaN</td>\n",
       "      <td>NaN</td>\n",
       "      <td>NaN</td>\n",
       "      <td>NaN</td>\n",
       "      <td>NaN</td>\n",
       "      <td>0.000000</td>\n",
       "      <td>SummaryType.COLUMN</td>\n",
       "      <td>0</td>\n",
       "      <td>0</td>\n",
       "      <td>0</td>\n",
       "      <td>0</td>\n",
       "      <td>150</td>\n",
       "      <td>0</td>\n",
       "      <td>[FrequentItem(value='Kerala', est=50, upper=50...</td>\n",
       "    </tr>\n",
       "  </tbody>\n",
       "</table>\n",
       "</div>"
      ],
      "text/plain": [
       "                   cardinality/est  cardinality/lower_1  cardinality/upper_1  \\\n",
       "column                                                                         \n",
       "petal length (cm)        49.000006                 49.0            49.002452   \n",
       "petal width (cm)         24.000001                 24.0            24.001200   \n",
       "sepal length (cm)        33.000003                 33.0            33.001650   \n",
       "sepal width (cm)         19.000001                 19.0            19.000950   \n",
       "state                     3.000000                  3.0             3.000150   \n",
       "\n",
       "                   counts/inf  counts/n  counts/nan  counts/null  \\\n",
       "column                                                             \n",
       "petal length (cm)           0       150           0            0   \n",
       "petal width (cm)            0       150           0            0   \n",
       "sepal length (cm)           0       150           0            0   \n",
       "sepal width (cm)            0       150           0            0   \n",
       "state                       0       150           0            0   \n",
       "\n",
       "                   distribution/max  distribution/mean  distribution/median  \\\n",
       "column                                                                        \n",
       "petal length (cm)               7.5           4.041333                  4.3   \n",
       "petal width (cm)                2.7           1.207333                  1.3   \n",
       "sepal length (cm)               7.7           5.856000                  5.8   \n",
       "sepal width (cm)                4.0           2.996000                  2.9   \n",
       "state                           NaN           0.000000                  NaN   \n",
       "\n",
       "                   distribution/min  distribution/n  distribution/q_01  \\\n",
       "column                                                                   \n",
       "petal length (cm)               1.1             150                1.1   \n",
       "petal width (cm)                0.0             150                0.1   \n",
       "sepal length (cm)               4.2             150                4.2   \n",
       "sepal width (cm)                2.2             150                2.2   \n",
       "state                           NaN               0                NaN   \n",
       "\n",
       "                   distribution/q_05  distribution/q_10  distribution/q_25  \\\n",
       "column                                                                       \n",
       "petal length (cm)                1.3                1.5                2.4   \n",
       "petal width (cm)                 0.1                0.2                0.3   \n",
       "sepal length (cm)                4.7                4.9                5.1   \n",
       "sepal width (cm)                 2.3                2.4                2.7   \n",
       "state                            NaN                NaN                NaN   \n",
       "\n",
       "                   distribution/q_75  distribution/q_90  distribution/q_95  \\\n",
       "column                                                                       \n",
       "petal length (cm)                5.4                6.2                6.8   \n",
       "petal width (cm)                 1.9                2.2                2.4   \n",
       "sepal length (cm)                6.5                7.1                7.2   \n",
       "sepal width (cm)                 3.3                3.6                3.8   \n",
       "state                            NaN                NaN                NaN   \n",
       "\n",
       "                   distribution/q_99  distribution/stddev                type  \\\n",
       "column                                                                          \n",
       "petal length (cm)                7.5             1.776664  SummaryType.COLUMN   \n",
       "petal width (cm)                 2.5             0.769651  SummaryType.COLUMN   \n",
       "sepal length (cm)                7.7             0.847775  SummaryType.COLUMN   \n",
       "sepal width (cm)                 4.0             0.448395  SummaryType.COLUMN   \n",
       "state                            NaN             0.000000  SummaryType.COLUMN   \n",
       "\n",
       "                   types/boolean  types/fractional  types/integral  \\\n",
       "column                                                               \n",
       "petal length (cm)              0               150               0   \n",
       "petal width (cm)               0               150               0   \n",
       "sepal length (cm)              0               150               0   \n",
       "sepal width (cm)               0               150               0   \n",
       "state                          0                 0               0   \n",
       "\n",
       "                   types/object  types/string  types/tensor  \\\n",
       "column                                                        \n",
       "petal length (cm)             0             0             0   \n",
       "petal width (cm)              0             0             0   \n",
       "sepal length (cm)             0             0             0   \n",
       "sepal width (cm)              0             0             0   \n",
       "state                         0           150             0   \n",
       "\n",
       "                                     frequent_items/frequent_strings  \n",
       "column                                                                \n",
       "petal length (cm)                                                NaN  \n",
       "petal width (cm)                                                 NaN  \n",
       "sepal length (cm)                                                NaN  \n",
       "sepal width (cm)                                                 NaN  \n",
       "state              [FrequentItem(value='Kerala', est=50, upper=50...  "
      ]
     },
     "execution_count": 32,
     "metadata": {},
     "output_type": "execute_result"
    }
   ],
   "source": [
    "# create profile\n",
    "profile1 = why.log(X_batch_1)\n",
    "\n",
    "profile_view1 = profile1.view()\n",
    "profile_view1.to_pandas()"
   ]
  },
  {
   "cell_type": "code",
   "execution_count": 33,
   "metadata": {
    "id": "uLMjJqPlORRM"
   },
   "outputs": [],
   "source": [
    "# Switch to Project IRIS_ML_Bias\n",
    "os.environ[\"WHYLABS_DEFAULT_DATASET_ID\"] = \"model-7\" # The selected project \"IRIS_ML_Bias (model-7)\" is \"model-7\""
   ]
  },
  {
   "cell_type": "markdown",
   "metadata": {
    "id": "g3NivdEh0yzi"
   },
   "source": [
    "### Create dataframe with model predictions"
   ]
  },
  {
   "cell_type": "code",
   "execution_count": 34,
   "metadata": {
    "id": "k5BOIO5-Ot7L"
   },
   "outputs": [],
   "source": [
    "# Get predictions with model & append to df\n",
    "pred_dfs = dfs\n",
    "\n",
    "class_names = ['setosa', 'versicolor', 'virginica']\n",
    "\n",
    "for i, df in enumerate(pred_dfs):\n",
    "    y_pred = knn.predict(df.iloc[:, :4])\n",
    "    y_prob = knn.predict_proba(df.iloc[:, :4])\n",
    "    pred_scores = []\n",
    "    pred_classes = []\n",
    "\n",
    "    for pred in y_pred:\n",
    "      pred_classes.append(class_names[pred])\n",
    "    df['cls_output'] = pred_classes\n",
    "    for prob in y_prob:\n",
    "      pred_scores.append(max(prob))\n",
    "    df['prob_output'] = pred_scores"
   ]
  },
  {
   "cell_type": "code",
   "execution_count": 35,
   "metadata": {
    "colab": {
     "base_uri": "https://localhost:8080/",
     "height": 441
    },
    "id": "HeQiByHVOt9h",
    "outputId": "f0c6a9a6-3e3e-42db-8017-c44dd9315815"
   },
   "outputs": [
    {
     "data": {
      "text/html": [
       "<div>\n",
       "<style scoped>\n",
       "    .dataframe tbody tr th:only-of-type {\n",
       "        vertical-align: middle;\n",
       "    }\n",
       "\n",
       "    .dataframe tbody tr th {\n",
       "        vertical-align: top;\n",
       "    }\n",
       "\n",
       "    .dataframe thead th {\n",
       "        text-align: right;\n",
       "    }\n",
       "</style>\n",
       "<table border=\"1\" class=\"dataframe\">\n",
       "  <thead>\n",
       "    <tr style=\"text-align: right;\">\n",
       "      <th></th>\n",
       "      <th>sepal length (cm)</th>\n",
       "      <th>sepal width (cm)</th>\n",
       "      <th>petal length (cm)</th>\n",
       "      <th>petal width (cm)</th>\n",
       "      <th>state</th>\n",
       "      <th>cls_output</th>\n",
       "      <th>prob_output</th>\n",
       "    </tr>\n",
       "  </thead>\n",
       "  <tbody>\n",
       "    <tr>\n",
       "      <th>0</th>\n",
       "      <td>5.5</td>\n",
       "      <td>2.9</td>\n",
       "      <td>4.4</td>\n",
       "      <td>1.2</td>\n",
       "      <td>Karnataka</td>\n",
       "      <td>versicolor</td>\n",
       "      <td>1.0</td>\n",
       "    </tr>\n",
       "    <tr>\n",
       "      <th>1</th>\n",
       "      <td>4.7</td>\n",
       "      <td>3.1</td>\n",
       "      <td>1.3</td>\n",
       "      <td>0.3</td>\n",
       "      <td>Karnataka</td>\n",
       "      <td>setosa</td>\n",
       "      <td>1.0</td>\n",
       "    </tr>\n",
       "    <tr>\n",
       "      <th>2</th>\n",
       "      <td>4.7</td>\n",
       "      <td>3.0</td>\n",
       "      <td>1.4</td>\n",
       "      <td>0.2</td>\n",
       "      <td>Karnataka</td>\n",
       "      <td>setosa</td>\n",
       "      <td>1.0</td>\n",
       "    </tr>\n",
       "    <tr>\n",
       "      <th>3</th>\n",
       "      <td>5.2</td>\n",
       "      <td>3.7</td>\n",
       "      <td>1.4</td>\n",
       "      <td>0.3</td>\n",
       "      <td>Karnataka</td>\n",
       "      <td>setosa</td>\n",
       "      <td>1.0</td>\n",
       "    </tr>\n",
       "    <tr>\n",
       "      <th>4</th>\n",
       "      <td>6.8</td>\n",
       "      <td>3.2</td>\n",
       "      <td>6.2</td>\n",
       "      <td>1.6</td>\n",
       "      <td>Karnataka</td>\n",
       "      <td>virginica</td>\n",
       "      <td>1.0</td>\n",
       "    </tr>\n",
       "    <tr>\n",
       "      <th>...</th>\n",
       "      <td>...</td>\n",
       "      <td>...</td>\n",
       "      <td>...</td>\n",
       "      <td>...</td>\n",
       "      <td>...</td>\n",
       "      <td>...</td>\n",
       "      <td>...</td>\n",
       "    </tr>\n",
       "    <tr>\n",
       "      <th>145</th>\n",
       "      <td>5.9</td>\n",
       "      <td>3.0</td>\n",
       "      <td>5.8</td>\n",
       "      <td>2.6</td>\n",
       "      <td>Tamilnadu</td>\n",
       "      <td>virginica</td>\n",
       "      <td>1.0</td>\n",
       "    </tr>\n",
       "    <tr>\n",
       "      <th>146</th>\n",
       "      <td>4.8</td>\n",
       "      <td>2.3</td>\n",
       "      <td>3.7</td>\n",
       "      <td>1.4</td>\n",
       "      <td>Tamilnadu</td>\n",
       "      <td>versicolor</td>\n",
       "      <td>1.0</td>\n",
       "    </tr>\n",
       "    <tr>\n",
       "      <th>147</th>\n",
       "      <td>5.3</td>\n",
       "      <td>2.7</td>\n",
       "      <td>4.3</td>\n",
       "      <td>1.3</td>\n",
       "      <td>Tamilnadu</td>\n",
       "      <td>versicolor</td>\n",
       "      <td>1.0</td>\n",
       "    </tr>\n",
       "    <tr>\n",
       "      <th>148</th>\n",
       "      <td>5.8</td>\n",
       "      <td>3.2</td>\n",
       "      <td>5.7</td>\n",
       "      <td>1.9</td>\n",
       "      <td>Tamilnadu</td>\n",
       "      <td>virginica</td>\n",
       "      <td>1.0</td>\n",
       "    </tr>\n",
       "    <tr>\n",
       "      <th>149</th>\n",
       "      <td>5.1</td>\n",
       "      <td>3.9</td>\n",
       "      <td>1.5</td>\n",
       "      <td>0.1</td>\n",
       "      <td>Tamilnadu</td>\n",
       "      <td>setosa</td>\n",
       "      <td>1.0</td>\n",
       "    </tr>\n",
       "  </tbody>\n",
       "</table>\n",
       "<p>150 rows × 7 columns</p>\n",
       "</div>"
      ],
      "text/plain": [
       "     sepal length (cm)  sepal width (cm)  petal length (cm)  petal width (cm)  \\\n",
       "0                  5.5               2.9                4.4               1.2   \n",
       "1                  4.7               3.1                1.3               0.3   \n",
       "2                  4.7               3.0                1.4               0.2   \n",
       "3                  5.2               3.7                1.4               0.3   \n",
       "4                  6.8               3.2                6.2               1.6   \n",
       "..                 ...               ...                ...               ...   \n",
       "145                5.9               3.0                5.8               2.6   \n",
       "146                4.8               2.3                3.7               1.4   \n",
       "147                5.3               2.7                4.3               1.3   \n",
       "148                5.8               3.2                5.7               1.9   \n",
       "149                5.1               3.9                1.5               0.1   \n",
       "\n",
       "         state  cls_output  prob_output  \n",
       "0    Karnataka  versicolor          1.0  \n",
       "1    Karnataka      setosa          1.0  \n",
       "2    Karnataka      setosa          1.0  \n",
       "3    Karnataka      setosa          1.0  \n",
       "4    Karnataka   virginica          1.0  \n",
       "..         ...         ...          ...  \n",
       "145  Tamilnadu   virginica          1.0  \n",
       "146  Tamilnadu  versicolor          1.0  \n",
       "147  Tamilnadu  versicolor          1.0  \n",
       "148  Tamilnadu   virginica          1.0  \n",
       "149  Tamilnadu      setosa          1.0  \n",
       "\n",
       "[150 rows x 7 columns]"
      ]
     },
     "execution_count": 35,
     "metadata": {},
     "output_type": "execute_result"
    }
   ],
   "source": [
    "pred_dfs[-1]"
   ]
  },
  {
   "cell_type": "markdown",
   "metadata": {
    "id": "HzDBFCKP1KT7"
   },
   "source": [
    "### Backfilling data in WhyLabs"
   ]
  },
  {
   "cell_type": "code",
   "execution_count": 36,
   "metadata": {
    "id": "4bScxUu6mGX1"
   },
   "outputs": [],
   "source": [
    "from whylogs.core.schema import DatasetSchema\n",
    "from whylogs.core.segmentation_partition import segment_on_column"
   ]
  },
  {
   "cell_type": "code",
   "execution_count": 37,
   "metadata": {
    "id": "Tym3Orxluxiu"
   },
   "outputs": [
    {
     "name": "stdout",
     "output_type": "stream",
     "text": [
      "\n",
      "✅ Aggregated 150 rows into profile \n",
      "\n",
      "Visualize and explore this profile with one-click\n",
      "🔍 https://hub.whylabsapp.com/resources/model-7/profiles?profile=1726272000000&profile=1726272000000&profile=1726272000000\n",
      "\n",
      "✅ Aggregated 150 rows into profile \n",
      "\n",
      "Visualize and explore this profile with one-click\n",
      "🔍 https://hub.whylabsapp.com/resources/model-7/profiles?profile=1726272000000&profile=1726272000000&profile=1726272000000\n",
      "\n",
      "✅ Aggregated 150 rows into profile \n",
      "\n",
      "Visualize and explore this profile with one-click\n",
      "🔍 https://hub.whylabsapp.com/resources/model-7/profiles?profile=1726272000000&profile=1726272000000&profile=1726272000000\n",
      "\n",
      "✅ Aggregated 150 rows into profile \n",
      "\n",
      "Visualize and explore this profile with one-click\n",
      "🔍 https://hub.whylabsapp.com/resources/model-7/profiles?profile=1726272000000&profile=1726272000000&profile=1726272000000\n",
      "\n",
      "✅ Aggregated 150 rows into profile \n",
      "\n",
      "Visualize and explore this profile with one-click\n",
      "🔍 https://hub.whylabsapp.com/resources/model-7/profiles?profile=1726272000000&profile=1726272000000&profile=1726272000000\n",
      "\n",
      "✅ Aggregated 150 rows into profile \n",
      "\n",
      "Visualize and explore this profile with one-click\n",
      "🔍 https://hub.whylabsapp.com/resources/model-7/profiles?profile=1726272000000&profile=1726272000000&profile=1726272000000\n",
      "\n",
      "✅ Aggregated 150 rows into profile \n",
      "\n",
      "Visualize and explore this profile with one-click\n",
      "🔍 https://hub.whylabsapp.com/resources/model-7/profiles?profile=1726272000000&profile=1726272000000&profile=1726272000000\n"
     ]
    }
   ],
   "source": [
    "import warnings\n",
    "\n",
    "# Suppress the specific FutureWarning\n",
    "warnings.filterwarnings(\"ignore\", category=FutureWarning, module=\"whylogs\")\n",
    "\n",
    "# back fill 1 day per batch\n",
    "for i, df in enumerate(pred_dfs):\n",
    "    # walking backwards. Each dataset has to map to a date to show up as a different batch in WhyLabs\n",
    "    dt = datetime.datetime.now(tz=datetime.timezone.utc) - datetime.timedelta(days=i)\n",
    "\n",
    "    # create profile for each batch of data\n",
    "    profile = why.log(df, schema=DatasetSchema(segments=segment_on_column(\"state\"))) # Add state column for Input to Profile\n",
    "\n",
    "    # set the dataset timestamp for the profile\n",
    "    profile.set_dataset_timestamp(dt)\n",
    "    # write the profile to the WhyLabs platform\n",
    "    profile.writer(\"whylabs\").write()"
   ]
  },
  {
   "cell_type": "markdown",
   "metadata": {
    "id": "nl1ibhchyQdS"
   },
   "source": [
    "Learn more about segmentation in whylogs\n",
    "- [Intro to Segmentation with whylogs](https://github.com/whylabs/whylogs/blob/mainline/python/examples/advanced/Segments.ipynb)"
   ]
  },
  {
   "cell_type": "code",
   "execution_count": 38,
   "metadata": {
    "colab": {
     "base_uri": "https://localhost:8080/"
    },
    "id": "VXwHoHswQ106",
    "outputId": "e1b985c8-098f-4213-e623-0ae45a3ee5a0"
   },
   "outputs": [
    {
     "name": "stdout",
     "output_type": "stream",
     "text": [
      "\n",
      "✅ Aggregated 150 rows into profile \n",
      "\n",
      "Visualize and explore this profile with one-click\n",
      "🔍 https://hub.whylabsapp.com/resources/model-7/profiles?profile=1726272000000\n"
     ]
    },
    {
     "data": {
      "text/plain": [
       "(True, 'ref-7eViYi4jOzQBrz7S')"
      ]
     },
     "execution_count": 38,
     "metadata": {},
     "output_type": "execute_result"
    }
   ],
   "source": [
    "# Create reference profile\n",
    "ref_profile = why.log(df_iris.data).profile()\n",
    "writer = WhyLabsWriter().option(reference_profile_name=\"iris_training_profile\")\n",
    "writer.write(file=ref_profile.view())"
   ]
  },
  {
   "cell_type": "markdown",
   "metadata": {
    "id": "r9VnBBT5u0TR"
   },
   "source": [
    "### Classification Performance Metrics"
   ]
  },
  {
   "cell_type": "code",
   "execution_count": 39,
   "metadata": {
    "id": "GEo0H6qjO2sR"
   },
   "outputs": [],
   "source": [
    "# Append ground truth data to dataframe\n",
    "for i, df in enumerate(pred_dfs):\n",
    "    df['ground_truth'] = df_target[i]"
   ]
  },
  {
   "cell_type": "code",
   "execution_count": 40,
   "metadata": {
    "colab": {
     "base_uri": "https://localhost:8080/",
     "height": 441
    },
    "id": "pdZ2se8aOt_7",
    "outputId": "644c09ca-460c-4b43-b786-26b9c260bc18"
   },
   "outputs": [
    {
     "data": {
      "text/html": [
       "<div>\n",
       "<style scoped>\n",
       "    .dataframe tbody tr th:only-of-type {\n",
       "        vertical-align: middle;\n",
       "    }\n",
       "\n",
       "    .dataframe tbody tr th {\n",
       "        vertical-align: top;\n",
       "    }\n",
       "\n",
       "    .dataframe thead th {\n",
       "        text-align: right;\n",
       "    }\n",
       "</style>\n",
       "<table border=\"1\" class=\"dataframe\">\n",
       "  <thead>\n",
       "    <tr style=\"text-align: right;\">\n",
       "      <th></th>\n",
       "      <th>sepal length (cm)</th>\n",
       "      <th>sepal width (cm)</th>\n",
       "      <th>petal length (cm)</th>\n",
       "      <th>petal width (cm)</th>\n",
       "      <th>state</th>\n",
       "      <th>cls_output</th>\n",
       "      <th>prob_output</th>\n",
       "      <th>ground_truth</th>\n",
       "    </tr>\n",
       "  </thead>\n",
       "  <tbody>\n",
       "    <tr>\n",
       "      <th>0</th>\n",
       "      <td>4.9</td>\n",
       "      <td>4.0</td>\n",
       "      <td>1.6</td>\n",
       "      <td>0.3</td>\n",
       "      <td>Karnataka</td>\n",
       "      <td>setosa</td>\n",
       "      <td>1.0</td>\n",
       "      <td>setosa</td>\n",
       "    </tr>\n",
       "    <tr>\n",
       "      <th>1</th>\n",
       "      <td>4.9</td>\n",
       "      <td>3.5</td>\n",
       "      <td>1.3</td>\n",
       "      <td>0.1</td>\n",
       "      <td>Karnataka</td>\n",
       "      <td>setosa</td>\n",
       "      <td>1.0</td>\n",
       "      <td>setosa</td>\n",
       "    </tr>\n",
       "    <tr>\n",
       "      <th>2</th>\n",
       "      <td>5.9</td>\n",
       "      <td>3.0</td>\n",
       "      <td>5.1</td>\n",
       "      <td>1.3</td>\n",
       "      <td>Karnataka</td>\n",
       "      <td>versicolor</td>\n",
       "      <td>0.8</td>\n",
       "      <td>versicolor</td>\n",
       "    </tr>\n",
       "    <tr>\n",
       "      <th>3</th>\n",
       "      <td>5.2</td>\n",
       "      <td>3.3</td>\n",
       "      <td>1.6</td>\n",
       "      <td>0.3</td>\n",
       "      <td>Karnataka</td>\n",
       "      <td>setosa</td>\n",
       "      <td>1.0</td>\n",
       "      <td>setosa</td>\n",
       "    </tr>\n",
       "    <tr>\n",
       "      <th>4</th>\n",
       "      <td>4.6</td>\n",
       "      <td>3.2</td>\n",
       "      <td>1.2</td>\n",
       "      <td>0.3</td>\n",
       "      <td>Karnataka</td>\n",
       "      <td>setosa</td>\n",
       "      <td>1.0</td>\n",
       "      <td>setosa</td>\n",
       "    </tr>\n",
       "    <tr>\n",
       "      <th>...</th>\n",
       "      <td>...</td>\n",
       "      <td>...</td>\n",
       "      <td>...</td>\n",
       "      <td>...</td>\n",
       "      <td>...</td>\n",
       "      <td>...</td>\n",
       "      <td>...</td>\n",
       "      <td>...</td>\n",
       "    </tr>\n",
       "    <tr>\n",
       "      <th>145</th>\n",
       "      <td>6.0</td>\n",
       "      <td>2.9</td>\n",
       "      <td>6.6</td>\n",
       "      <td>2.0</td>\n",
       "      <td>Tamilnadu</td>\n",
       "      <td>virginica</td>\n",
       "      <td>1.0</td>\n",
       "      <td>virginica</td>\n",
       "    </tr>\n",
       "    <tr>\n",
       "      <th>146</th>\n",
       "      <td>5.3</td>\n",
       "      <td>3.0</td>\n",
       "      <td>1.6</td>\n",
       "      <td>0.1</td>\n",
       "      <td>Tamilnadu</td>\n",
       "      <td>setosa</td>\n",
       "      <td>1.0</td>\n",
       "      <td>setosa</td>\n",
       "    </tr>\n",
       "    <tr>\n",
       "      <th>147</th>\n",
       "      <td>5.6</td>\n",
       "      <td>2.3</td>\n",
       "      <td>4.2</td>\n",
       "      <td>1.2</td>\n",
       "      <td>Tamilnadu</td>\n",
       "      <td>versicolor</td>\n",
       "      <td>1.0</td>\n",
       "      <td>versicolor</td>\n",
       "    </tr>\n",
       "    <tr>\n",
       "      <th>148</th>\n",
       "      <td>5.3</td>\n",
       "      <td>3.1</td>\n",
       "      <td>1.4</td>\n",
       "      <td>0.3</td>\n",
       "      <td>Tamilnadu</td>\n",
       "      <td>setosa</td>\n",
       "      <td>1.0</td>\n",
       "      <td>setosa</td>\n",
       "    </tr>\n",
       "    <tr>\n",
       "      <th>149</th>\n",
       "      <td>6.4</td>\n",
       "      <td>2.7</td>\n",
       "      <td>5.4</td>\n",
       "      <td>1.9</td>\n",
       "      <td>Tamilnadu</td>\n",
       "      <td>virginica</td>\n",
       "      <td>1.0</td>\n",
       "      <td>virginica</td>\n",
       "    </tr>\n",
       "  </tbody>\n",
       "</table>\n",
       "<p>150 rows × 8 columns</p>\n",
       "</div>"
      ],
      "text/plain": [
       "     sepal length (cm)  sepal width (cm)  petal length (cm)  petal width (cm)  \\\n",
       "0                  4.9               4.0                1.6               0.3   \n",
       "1                  4.9               3.5                1.3               0.1   \n",
       "2                  5.9               3.0                5.1               1.3   \n",
       "3                  5.2               3.3                1.6               0.3   \n",
       "4                  4.6               3.2                1.2               0.3   \n",
       "..                 ...               ...                ...               ...   \n",
       "145                6.0               2.9                6.6               2.0   \n",
       "146                5.3               3.0                1.6               0.1   \n",
       "147                5.6               2.3                4.2               1.2   \n",
       "148                5.3               3.1                1.4               0.3   \n",
       "149                6.4               2.7                5.4               1.9   \n",
       "\n",
       "         state  cls_output  prob_output ground_truth  \n",
       "0    Karnataka      setosa          1.0       setosa  \n",
       "1    Karnataka      setosa          1.0       setosa  \n",
       "2    Karnataka  versicolor          0.8   versicolor  \n",
       "3    Karnataka      setosa          1.0       setosa  \n",
       "4    Karnataka      setosa          1.0       setosa  \n",
       "..         ...         ...          ...          ...  \n",
       "145  Tamilnadu   virginica          1.0    virginica  \n",
       "146  Tamilnadu      setosa          1.0       setosa  \n",
       "147  Tamilnadu  versicolor          1.0   versicolor  \n",
       "148  Tamilnadu      setosa          1.0       setosa  \n",
       "149  Tamilnadu   virginica          1.0    virginica  \n",
       "\n",
       "[150 rows x 8 columns]"
      ]
     },
     "execution_count": 40,
     "metadata": {},
     "output_type": "execute_result"
    }
   ],
   "source": [
    "pred_dfs[0]"
   ]
  },
  {
   "cell_type": "code",
   "execution_count": 41,
   "metadata": {
    "id": "c7vyAeDLU6OE"
   },
   "outputs": [],
   "source": [
    "from whylogs import log_classification_metrics\n",
    "# from whylogs.core.schema import DatasetSchema\n",
    "# from whylogs.core.segmentation_partition import segment_on_column"
   ]
  },
  {
   "cell_type": "code",
   "execution_count": 42,
   "metadata": {
    "id": "SyS4i2ZsO-OT"
   },
   "outputs": [],
   "source": [
    "for i, df in enumerate(pred_dfs):\n",
    "\n",
    "  segmented_classification_results = log_classification_metrics(\n",
    "    df,\n",
    "    target_column = \"ground_truth\",\n",
    "    prediction_column = \"cls_output\",\n",
    "    schema = DatasetSchema(segments=segment_on_column(\"state\")) # state as Segment\n",
    "  )\n",
    "   # walking backwards. Each dataset has to map to a date to show up as a different batch in WhyLabs\n",
    "  dt = datetime.datetime.now(tz=datetime.timezone.utc) - datetime.timedelta(days=i)\n",
    "\n",
    "  # profile = segmented_classification_results.profile()\n",
    "  segmented_classification_results.set_dataset_timestamp(dt)\n",
    "\n",
    "  segmented_classification_results.writer(\"whylabs\").write()"
   ]
  },
  {
   "cell_type": "code",
   "execution_count": null,
   "metadata": {
    "id": "QWsPj1MblwEU"
   },
   "outputs": [],
   "source": []
  },
  {
   "cell_type": "markdown",
   "metadata": {
    "id": "V8VKKZYil1Ma"
   },
   "source": [
    "## Feature importance\n",
    "\n",
    "Learn more about SHAP\n",
    "https://github.com/slundberg/shap"
   ]
  },
  {
   "cell_type": "code",
   "execution_count": null,
   "metadata": {
    "colab": {
     "base_uri": "https://localhost:8080/"
    },
    "id": "Q2Y1Vx8vlwN6",
    "outputId": "867ad9f4-4024-420a-d715-cba12998d0d4"
   },
   "outputs": [],
   "source": [
    "!pip install shap"
   ]
  },
  {
   "cell_type": "code",
   "execution_count": null,
   "metadata": {
    "id": "Ea465we2lwS2"
   },
   "outputs": [],
   "source": [
    "import shap"
   ]
  },
  {
   "cell_type": "code",
   "execution_count": null,
   "metadata": {
    "id": "BkzneIbrmGwp"
   },
   "outputs": [],
   "source": [
    "explainer = shap.Explainer(knn.predict, X_train)"
   ]
  },
  {
   "cell_type": "code",
   "execution_count": null,
   "metadata": {
    "colab": {
     "base_uri": "https://localhost:8080/"
    },
    "id": "sCo9pB8tmGwy",
    "outputId": "4ce61127-34d9-467f-cd98-d609d61b73ed"
   },
   "outputs": [],
   "source": [
    "shap_values = explainer(X_test)"
   ]
  },
  {
   "cell_type": "code",
   "execution_count": null,
   "metadata": {
    "colab": {
     "base_uri": "https://localhost:8080/",
     "height": 317
    },
    "id": "KMZL1U-YmGwy",
    "outputId": "6f9290e7-76ff-4946-b74b-777e695abfc2"
   },
   "outputs": [],
   "source": [
    "shap.summary_plot(shap_values, X_test, plot_type=\"bar\")"
   ]
  },
  {
   "cell_type": "code",
   "execution_count": null,
   "metadata": {
    "id": "JyZyyVLwmGwy"
   },
   "outputs": [],
   "source": [
    "# Get global featue importance\n",
    "shap_feature_importance = np.mean(np.abs(shap_values.values), axis=0)"
   ]
  },
  {
   "cell_type": "code",
   "execution_count": null,
   "metadata": {
    "id": "ekvja7mpmGwy"
   },
   "outputs": [],
   "source": [
    "# Create dict with feature importance\n",
    "shap_feature_importance_dict = dict(zip(X_train.columns.tolist(), shap_feature_importance.tolist()))\n",
    "feature_importance_dict = {k: v for k, v in sorted(shap_feature_importance_dict.items(),\n",
    "                                                   key=lambda item: item[1], reverse=True)}\n"
   ]
  },
  {
   "cell_type": "code",
   "execution_count": null,
   "metadata": {
    "colab": {
     "base_uri": "https://localhost:8080/"
    },
    "id": "Kuqo8POWmGwz",
    "outputId": "1b672980-5a84-47b6-adb6-0e119ca2c963"
   },
   "outputs": [],
   "source": [
    "print(feature_importance_dict)"
   ]
  },
  {
   "cell_type": "code",
   "execution_count": null,
   "metadata": {
    "colab": {
     "base_uri": "https://localhost:8080/"
    },
    "id": "UBJ4AcGamGwz",
    "outputId": "59d685c1-ce0e-4e78-c29c-cd7a5934ec9e"
   },
   "outputs": [],
   "source": [
    "# Write values to WhyLabs\n",
    "from whylogs.core.feature_weights import FeatureWeights\n",
    "from whylogs.api.writer.whylabs import WhyLabsWriter\n",
    "\n",
    "feature_weights = FeatureWeights(shap_feature_importance_dict)\n",
    "result = feature_weights.writer(\"whylabs\").write()\n",
    "\n",
    "result"
   ]
  },
  {
   "cell_type": "markdown",
   "metadata": {
    "id": "rJtwW4Zuo3ib"
   },
   "source": [
    "# 3. Open-source data & ML monitoring with whylogs"
   ]
  },
  {
   "cell_type": "markdown",
   "metadata": {
    "id": "JbyKcuP7ozSe"
   },
   "source": [
    "## Using data drift reports with whylogs in a Python environment\n",
    "\n",
    "![](https://whylabs.ai/_next/image?url=https%3A%2F%2Fcontent.whylabs.ai%2Fcontent%2Fimages%2F2022%2F06%2FTDSImage3.jpeg&w=3120&q=75)\n",
    "\n",
    "\n",
    "\n",
    "\n",
    "\n",
    "\n"
   ]
  },
  {
   "cell_type": "code",
   "execution_count": null,
   "metadata": {
    "id": "lcUDBSE3ozSe"
   },
   "outputs": [],
   "source": [
    "# create profiles of batches\n",
    "\n",
    "profile_view1 = why.log(X_batch_1).view()\n",
    "profile_view1 = why.log(X_batch_1).view()\n",
    "profile_view2 = why.log(X_batch_2).view()\n",
    "profile_view3 = why.log(X_batch_3).view()\n",
    "profile_view4 = why.log(batch_data_4).view()\n",
    "profile_view5 = why.log(batch_data_5).view()\n",
    "profile_view6 = why.log(batch_data_6).view()\n",
    "profile_view7 = why.log(X_batch_7).view()"
   ]
  },
  {
   "cell_type": "code",
   "execution_count": null,
   "metadata": {
    "id": "0nnuzNkPozSf"
   },
   "outputs": [],
   "source": [
    "# Data Drift with whylogs\n",
    "from whylogs.viz import NotebookProfileVisualizer\n",
    "\n",
    "visualization = NotebookProfileVisualizer()\n",
    "visualization.set_profiles(target_profile_view=profile_view1, reference_profile_view=profile_view3)"
   ]
  },
  {
   "cell_type": "code",
   "execution_count": null,
   "metadata": {
    "colab": {
     "base_uri": "https://localhost:8080/",
     "height": 1000
    },
    "id": "ZM1eNsJEozSf",
    "outputId": "25a9dd8b-d323-4a0d-b329-60d8a082d78f"
   },
   "outputs": [],
   "source": [
    "visualization.summary_drift_report()"
   ]
  },
  {
   "cell_type": "code",
   "execution_count": null,
   "metadata": {
    "colab": {
     "base_uri": "https://localhost:8080/",
     "height": 321
    },
    "id": "yj_xxvbuozSf",
    "outputId": "1afdde0e-fc25-43c9-b39e-43009e93d1ee"
   },
   "outputs": [],
   "source": [
    "visualization.double_histogram(feature_name=\"petal width (cm)\")"
   ]
  },
  {
   "cell_type": "code",
   "execution_count": null,
   "metadata": {
    "colab": {
     "base_uri": "https://localhost:8080/",
     "height": 321
    },
    "id": "t4xMdIi7ozSf",
    "outputId": "3a6c37a9-43b5-4fa5-8822-f2e27c53bbd1"
   },
   "outputs": [],
   "source": [
    "visualization.double_histogram(feature_name=\"petal length (cm)\")"
   ]
  },
  {
   "cell_type": "code",
   "execution_count": null,
   "metadata": {
    "colab": {
     "base_uri": "https://localhost:8080/"
    },
    "id": "RoMMefrKozSf",
    "outputId": "dffd0a96-ad69-46af-fb1a-5823b01a14f9"
   },
   "outputs": [],
   "source": [
    "\n",
    "from whylogs.viz.drift.column_drift_algorithms import calculate_drift_scores\n",
    "\n",
    "scores = calculate_drift_scores(target_view=profile_view1, reference_view=profile_view3, with_thresholds = True)\n",
    "\n",
    "scores"
   ]
  },
  {
   "cell_type": "code",
   "execution_count": null,
   "metadata": {
    "id": "2RtmXCzPozSg"
   },
   "outputs": [],
   "source": [
    "# Compare Another profiles:\n",
    "\n",
    "from whylogs.viz import NotebookProfileVisualizer\n",
    "\n",
    "visualization = NotebookProfileVisualizer()\n",
    "visualization.set_profiles(target_profile_view=profile_view1, reference_profile_view=profile_view6)"
   ]
  },
  {
   "cell_type": "code",
   "execution_count": null,
   "metadata": {
    "colab": {
     "base_uri": "https://localhost:8080/",
     "height": 1000
    },
    "id": "iH9wevvBozSg",
    "outputId": "cf99ef5c-c2c9-40fb-ad43-73f96f539f2b"
   },
   "outputs": [],
   "source": [
    "visualization.summary_drift_report()"
   ]
  },
  {
   "cell_type": "code",
   "execution_count": null,
   "metadata": {
    "colab": {
     "base_uri": "https://localhost:8080/",
     "height": 321
    },
    "id": "QKbJgfmrozSg",
    "outputId": "74d5c6a0-91c3-414e-c693-a5e6b0f2dd78"
   },
   "outputs": [],
   "source": [
    "visualization.double_histogram(feature_name=\"petal length (cm)\")\n"
   ]
  },
  {
   "cell_type": "code",
   "execution_count": null,
   "metadata": {
    "colab": {
     "base_uri": "https://localhost:8080/",
     "height": 321
    },
    "id": "heD8sSqEozSg",
    "outputId": "35cc86e8-c05b-4a95-fcee-95c603e6ffcc"
   },
   "outputs": [],
   "source": [
    "visualization.double_histogram(feature_name=\"petal width (cm)\")\n"
   ]
  },
  {
   "cell_type": "code",
   "execution_count": null,
   "metadata": {
    "colab": {
     "base_uri": "https://localhost:8080/"
    },
    "id": "sqmoLLBpozSg",
    "outputId": "17032f3e-a6ad-45f0-f0dd-acfd1c65a531"
   },
   "outputs": [],
   "source": [
    "\n",
    "from whylogs.viz.drift.column_drift_algorithms import calculate_drift_scores\n",
    "\n",
    "scores = calculate_drift_scores(target_view=profile_view1, reference_view=profile_view6, with_thresholds = True)\n",
    "\n",
    "scores"
   ]
  },
  {
   "cell_type": "markdown",
   "metadata": {
    "id": "94qjzowPozSh"
   },
   "source": [
    "Learn more about using data drift reports with whylogs\n",
    "- [Drift Algorithm Configuration](https://github.com/whylabs/whylogs/blob/mainline/python/examples/advanced/Drift_Algorithm_Configuration.ipynb)\n",
    "\n"
   ]
  },
  {
   "cell_type": "markdown",
   "metadata": {
    "id": "dWYdnpAYozSh"
   },
   "source": [
    "## Data validation with constraints in whylogs\n",
    "\n",
    "\n",
    "Data quality validation ensures data is structured and falls in the range expected for our data pipelines or applications. When collecting or using data it’s important to verify the quality to avoid unwanted machine learning behavior in production, such as errors or faulty prediction results.\n",
    "\n",
    "For example, we may want to ensure our data doesn’t contain any empty or negative values before moving it along in the pipeline if our model does not expect those values."
   ]
  },
  {
   "cell_type": "code",
   "execution_count": null,
   "metadata": {
    "id": "pCaUaR09ozSh"
   },
   "outputs": [],
   "source": [
    "# Data Quality Validation whylogs\n",
    "\n",
    "from whylogs.core.constraints import (Constraints,\n",
    "                                     ConstraintsBuilder,\n",
    "                                     MetricsSelector,\n",
    "                                     MetricConstraint)"
   ]
  },
  {
   "cell_type": "code",
   "execution_count": null,
   "metadata": {
    "id": "ARysjMvoozSh"
   },
   "outputs": [],
   "source": [
    "# Using Constraints for Data Quality Validation\n",
    "\n",
    "def validate_features(profile_view, verbose=False):\n",
    "\n",
    "  builder = ConstraintsBuilder(profile_view)\n",
    "\n",
    "  # Define a constraint for validating data\n",
    "  builder.add_constraint(MetricConstraint(\n",
    "    name=\"petal length > 0 and < 15\",\n",
    "    condition=lambda x: x.min > 0 and x.max < 15,\n",
    "    metric_selector=MetricsSelector(metric_name='distribution',\n",
    "                                    column_name='petal length (cm)')\n",
    "  ))\n",
    "\n",
    "  builder.add_constraint(MetricConstraint(\n",
    "    name=\"petal width > 0 and < 15\",\n",
    "    condition=lambda x: x.min > 0 and x.max < 15,\n",
    "    metric_selector=MetricsSelector(metric_name='distribution',\n",
    "                                    column_name='petal width (cm)')\n",
    "  ))\n",
    "\n",
    "  builder.add_constraint(MetricConstraint(\n",
    "    name=\"sepal length > 0 and < 15\",\n",
    "    condition=lambda x: x.min > 0 and x.max < 15 ,\n",
    "    metric_selector=MetricsSelector(metric_name='distribution',\n",
    "                                    column_name='sepal length (cm)')\n",
    "  ))\n",
    "\n",
    "  builder.add_constraint(MetricConstraint(\n",
    "    name=\"sepal width > 0 and < 15\",\n",
    "    condition=lambda x: x.min > 0 and x.max < 15,\n",
    "    metric_selector=MetricsSelector(metric_name='distribution',\n",
    "                                    column_name='sepal width (cm)')\n",
    "  ))\n",
    "\n",
    "  # Build the constraints and return the report\n",
    "  constraints: Constraints = builder.build()\n",
    "\n",
    "  if verbose:\n",
    "    print(constraints.report())\n",
    "\n",
    "  # return constraints.report()\n",
    "  return constraints\n"
   ]
  },
  {
   "cell_type": "code",
   "execution_count": null,
   "metadata": {
    "colab": {
     "base_uri": "https://localhost:8080/"
    },
    "id": "HrLKsA2rozSh",
    "outputId": "4402dcc1-1bfd-4e8d-db9d-b97247462541"
   },
   "outputs": [],
   "source": [
    "const = validate_features(profile_view2, True)\n",
    "# Assuming constraints is defined and has a report() method\n",
    "print(const.generate_constraints_report())"
   ]
  },
  {
   "cell_type": "code",
   "execution_count": null,
   "metadata": {
    "colab": {
     "base_uri": "https://localhost:8080/",
     "height": 321
    },
    "id": "qbrJKm6JozSi",
    "outputId": "abe7a806-7142-4e24-bb1a-95b9f0e2feef"
   },
   "outputs": [],
   "source": [
    "from whylogs.viz import NotebookProfileVisualizer\n",
    "visualization = NotebookProfileVisualizer()\n",
    "visualization.constraints_report(const, cell_height=300)"
   ]
  },
  {
   "cell_type": "code",
   "execution_count": null,
   "metadata": {
    "colab": {
     "base_uri": "https://localhost:8080/"
    },
    "id": "11NSc6g8ozSi",
    "outputId": "4bdcc20a-e7ff-4885-9ec9-eb55c148a08e"
   },
   "outputs": [],
   "source": [
    "# check all constraints for passing:\n",
    "constraints_valid = const.validate()\n",
    "print(constraints_valid)"
   ]
  },
  {
   "cell_type": "code",
   "execution_count": null,
   "metadata": {
    "colab": {
     "base_uri": "https://localhost:8080/"
    },
    "id": "SsuWMedTozSi",
    "outputId": "2ae66769-11bc-42c6-9602-6668aaf03a17"
   },
   "outputs": [],
   "source": [
    "const = validate_features(profile_view4, True)"
   ]
  },
  {
   "cell_type": "code",
   "execution_count": null,
   "metadata": {
    "colab": {
     "base_uri": "https://localhost:8080/",
     "height": 321
    },
    "id": "PRaqg6RKozSi",
    "outputId": "ad17db87-8b11-47e4-9226-37a460b4c03e"
   },
   "outputs": [],
   "source": [
    "visualization = NotebookProfileVisualizer()\n",
    "visualization.constraints_report(const, cell_height=300)"
   ]
  },
  {
   "cell_type": "code",
   "execution_count": null,
   "metadata": {
    "colab": {
     "base_uri": "https://localhost:8080/"
    },
    "id": "u2F7cWProzSi",
    "outputId": "64553633-2c00-474d-9325-fd79fce78cdd"
   },
   "outputs": [],
   "source": [
    "# check all constraints for passing:\n",
    "constraints_valid = const.validate()\n",
    "print(constraints_valid)"
   ]
  },
  {
   "cell_type": "code",
   "execution_count": null,
   "metadata": {
    "colab": {
     "base_uri": "https://localhost:8080/",
     "height": 462
    },
    "id": "H4CR3xIOozSj",
    "outputId": "165803df-f9cf-469d-d95c-5bfa8c4ce5cd"
   },
   "outputs": [],
   "source": [
    "profile_view4.to_pandas()"
   ]
  },
  {
   "cell_type": "markdown",
   "metadata": {
    "id": "ANfGcCORozSj"
   },
   "source": [
    "Leran more about performing data validation with whylogs\n",
    "- [Data Validation with Metric Constraints](https://github.com/whylabs/whylogs/blob/mainline/python/examples/advanced/Metric_Constraints.ipynb)\n"
   ]
  },
  {
   "cell_type": "code",
   "execution_count": null,
   "metadata": {},
   "outputs": [],
   "source": []
  }
 ],
 "metadata": {
  "colab": {
   "provenance": []
  },
  "kernelspec": {
   "display_name": "Python 3 (ipykernel)",
   "language": "python",
   "name": "python3"
  },
  "language_info": {
   "codemirror_mode": {
    "name": "ipython",
    "version": 3
   },
   "file_extension": ".py",
   "mimetype": "text/x-python",
   "name": "python",
   "nbconvert_exporter": "python",
   "pygments_lexer": "ipython3",
   "version": "3.12.4"
  }
 },
 "nbformat": 4,
 "nbformat_minor": 4
}
